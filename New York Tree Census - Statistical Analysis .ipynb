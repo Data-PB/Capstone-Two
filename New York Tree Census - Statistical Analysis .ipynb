{
 "cells": [
  {
   "cell_type": "code",
   "execution_count": 21,
   "id": "60ee7554",
   "metadata": {},
   "outputs": [],
   "source": [
    "import pandas as pd\n",
    "import matplotlib.pyplot as plt\n",
    "import numpy as np\n",
    "from scipy.stats import chi2_contingency"
   ]
  },
  {
   "cell_type": "code",
   "execution_count": 3,
   "id": "05b6d99a",
   "metadata": {},
   "outputs": [],
   "source": [
    "tree_data = pd.read_csv('2015StreetTreeCensus_TreeData.csv')"
   ]
  },
  {
   "cell_type": "code",
   "execution_count": 19,
   "id": "02ed129a",
   "metadata": {},
   "outputs": [
    {
     "data": {
      "text/html": [
       "<div>\n",
       "<style scoped>\n",
       "    .dataframe tbody tr th:only-of-type {\n",
       "        vertical-align: middle;\n",
       "    }\n",
       "\n",
       "    .dataframe tbody tr th {\n",
       "        vertical-align: top;\n",
       "    }\n",
       "\n",
       "    .dataframe thead th {\n",
       "        text-align: right;\n",
       "    }\n",
       "</style>\n",
       "<table border=\"1\" class=\"dataframe\">\n",
       "  <thead>\n",
       "    <tr style=\"text-align: right;\">\n",
       "      <th></th>\n",
       "      <th>tree_id</th>\n",
       "      <th>block_id</th>\n",
       "      <th>created_at</th>\n",
       "      <th>tree_dbh</th>\n",
       "      <th>stump_diam</th>\n",
       "      <th>curb_loc</th>\n",
       "      <th>status</th>\n",
       "      <th>health</th>\n",
       "      <th>spc_latin</th>\n",
       "      <th>spc_common</th>\n",
       "      <th>...</th>\n",
       "      <th>boro_ct</th>\n",
       "      <th>state</th>\n",
       "      <th>latitude</th>\n",
       "      <th>longitude</th>\n",
       "      <th>x_sp</th>\n",
       "      <th>y_sp</th>\n",
       "      <th>council district</th>\n",
       "      <th>census tract</th>\n",
       "      <th>bin</th>\n",
       "      <th>bbl</th>\n",
       "    </tr>\n",
       "  </thead>\n",
       "  <tbody>\n",
       "    <tr>\n",
       "      <th>0</th>\n",
       "      <td>180683</td>\n",
       "      <td>348711</td>\n",
       "      <td>8/27/2015</td>\n",
       "      <td>3</td>\n",
       "      <td>0</td>\n",
       "      <td>OnCurb</td>\n",
       "      <td>Alive</td>\n",
       "      <td>Fair</td>\n",
       "      <td>Acer rubrum</td>\n",
       "      <td>red maple</td>\n",
       "      <td>...</td>\n",
       "      <td>4073900</td>\n",
       "      <td>New York</td>\n",
       "      <td>40.723092</td>\n",
       "      <td>-73.844215</td>\n",
       "      <td>1027431.148</td>\n",
       "      <td>202756.7687</td>\n",
       "      <td>29.0</td>\n",
       "      <td>739.0</td>\n",
       "      <td>4052307.0</td>\n",
       "      <td>4.022210e+09</td>\n",
       "    </tr>\n",
       "    <tr>\n",
       "      <th>1</th>\n",
       "      <td>200540</td>\n",
       "      <td>315986</td>\n",
       "      <td>9/3/2015</td>\n",
       "      <td>21</td>\n",
       "      <td>0</td>\n",
       "      <td>OnCurb</td>\n",
       "      <td>Alive</td>\n",
       "      <td>Fair</td>\n",
       "      <td>Quercus palustris</td>\n",
       "      <td>pin oak</td>\n",
       "      <td>...</td>\n",
       "      <td>4097300</td>\n",
       "      <td>New York</td>\n",
       "      <td>40.794111</td>\n",
       "      <td>-73.818679</td>\n",
       "      <td>1034455.701</td>\n",
       "      <td>228644.8374</td>\n",
       "      <td>19.0</td>\n",
       "      <td>973.0</td>\n",
       "      <td>4101931.0</td>\n",
       "      <td>4.044750e+09</td>\n",
       "    </tr>\n",
       "    <tr>\n",
       "      <th>2</th>\n",
       "      <td>204026</td>\n",
       "      <td>218365</td>\n",
       "      <td>9/5/2015</td>\n",
       "      <td>3</td>\n",
       "      <td>0</td>\n",
       "      <td>OnCurb</td>\n",
       "      <td>Alive</td>\n",
       "      <td>Good</td>\n",
       "      <td>Gleditsia triacanthos var. inermis</td>\n",
       "      <td>honeylocust</td>\n",
       "      <td>...</td>\n",
       "      <td>3044900</td>\n",
       "      <td>New York</td>\n",
       "      <td>40.717581</td>\n",
       "      <td>-73.936608</td>\n",
       "      <td>1001822.831</td>\n",
       "      <td>200716.8913</td>\n",
       "      <td>34.0</td>\n",
       "      <td>449.0</td>\n",
       "      <td>3338310.0</td>\n",
       "      <td>3.028870e+09</td>\n",
       "    </tr>\n",
       "    <tr>\n",
       "      <th>3</th>\n",
       "      <td>204337</td>\n",
       "      <td>217969</td>\n",
       "      <td>9/5/2015</td>\n",
       "      <td>10</td>\n",
       "      <td>0</td>\n",
       "      <td>OnCurb</td>\n",
       "      <td>Alive</td>\n",
       "      <td>Good</td>\n",
       "      <td>Gleditsia triacanthos var. inermis</td>\n",
       "      <td>honeylocust</td>\n",
       "      <td>...</td>\n",
       "      <td>3044900</td>\n",
       "      <td>New York</td>\n",
       "      <td>40.713537</td>\n",
       "      <td>-73.934456</td>\n",
       "      <td>1002420.358</td>\n",
       "      <td>199244.2531</td>\n",
       "      <td>34.0</td>\n",
       "      <td>449.0</td>\n",
       "      <td>3338342.0</td>\n",
       "      <td>3.029250e+09</td>\n",
       "    </tr>\n",
       "    <tr>\n",
       "      <th>4</th>\n",
       "      <td>189565</td>\n",
       "      <td>223043</td>\n",
       "      <td>8/30/2015</td>\n",
       "      <td>21</td>\n",
       "      <td>0</td>\n",
       "      <td>OnCurb</td>\n",
       "      <td>Alive</td>\n",
       "      <td>Good</td>\n",
       "      <td>Tilia americana</td>\n",
       "      <td>American linden</td>\n",
       "      <td>...</td>\n",
       "      <td>3016500</td>\n",
       "      <td>New York</td>\n",
       "      <td>40.666778</td>\n",
       "      <td>-73.975979</td>\n",
       "      <td>990913.775</td>\n",
       "      <td>182202.4260</td>\n",
       "      <td>39.0</td>\n",
       "      <td>165.0</td>\n",
       "      <td>3025654.0</td>\n",
       "      <td>3.010850e+09</td>\n",
       "    </tr>\n",
       "  </tbody>\n",
       "</table>\n",
       "<p>5 rows × 45 columns</p>\n",
       "</div>"
      ],
      "text/plain": [
       "   tree_id  block_id created_at  tree_dbh  stump_diam curb_loc status health  \\\n",
       "0   180683    348711  8/27/2015         3           0   OnCurb  Alive   Fair   \n",
       "1   200540    315986   9/3/2015        21           0   OnCurb  Alive   Fair   \n",
       "2   204026    218365   9/5/2015         3           0   OnCurb  Alive   Good   \n",
       "3   204337    217969   9/5/2015        10           0   OnCurb  Alive   Good   \n",
       "4   189565    223043  8/30/2015        21           0   OnCurb  Alive   Good   \n",
       "\n",
       "                            spc_latin       spc_common  ...  boro_ct  \\\n",
       "0                         Acer rubrum        red maple  ...  4073900   \n",
       "1                   Quercus palustris          pin oak  ...  4097300   \n",
       "2  Gleditsia triacanthos var. inermis      honeylocust  ...  3044900   \n",
       "3  Gleditsia triacanthos var. inermis      honeylocust  ...  3044900   \n",
       "4                     Tilia americana  American linden  ...  3016500   \n",
       "\n",
       "      state   latitude  longitude         x_sp         y_sp council district  \\\n",
       "0  New York  40.723092 -73.844215  1027431.148  202756.7687             29.0   \n",
       "1  New York  40.794111 -73.818679  1034455.701  228644.8374             19.0   \n",
       "2  New York  40.717581 -73.936608  1001822.831  200716.8913             34.0   \n",
       "3  New York  40.713537 -73.934456  1002420.358  199244.2531             34.0   \n",
       "4  New York  40.666778 -73.975979   990913.775  182202.4260             39.0   \n",
       "\n",
       "  census tract        bin           bbl  \n",
       "0        739.0  4052307.0  4.022210e+09  \n",
       "1        973.0  4101931.0  4.044750e+09  \n",
       "2        449.0  3338310.0  3.028870e+09  \n",
       "3        449.0  3338342.0  3.029250e+09  \n",
       "4        165.0  3025654.0  3.010850e+09  \n",
       "\n",
       "[5 rows x 45 columns]"
      ]
     },
     "execution_count": 19,
     "metadata": {},
     "output_type": "execute_result"
    }
   ],
   "source": [
    "tree_data.head()"
   ]
  },
  {
   "cell_type": "markdown",
   "id": "0adac654",
   "metadata": {},
   "source": [
    "## Chi Test for Independence "
   ]
  },
  {
   "cell_type": "markdown",
   "id": "a9a9f0a3",
   "metadata": {},
   "source": [
    "### Tree Location  "
   ]
  },
  {
   "cell_type": "code",
   "execution_count": 33,
   "id": "4fd4f6ca",
   "metadata": {},
   "outputs": [],
   "source": [
    "curb_df = pd.pivot_table(tree_data, values='tree_id', index=['curb_loc'],\n",
    "               columns=['health'], aggfunc='count', fill_value=0)"
   ]
  },
  {
   "cell_type": "code",
   "execution_count": 34,
   "id": "c540360e",
   "metadata": {},
   "outputs": [
    {
     "data": {
      "text/html": [
       "<div>\n",
       "<style scoped>\n",
       "    .dataframe tbody tr th:only-of-type {\n",
       "        vertical-align: middle;\n",
       "    }\n",
       "\n",
       "    .dataframe tbody tr th {\n",
       "        vertical-align: top;\n",
       "    }\n",
       "\n",
       "    .dataframe thead th {\n",
       "        text-align: right;\n",
       "    }\n",
       "</style>\n",
       "<table border=\"1\" class=\"dataframe\">\n",
       "  <thead>\n",
       "    <tr style=\"text-align: right;\">\n",
       "      <th>health</th>\n",
       "      <th>Fair</th>\n",
       "      <th>Good</th>\n",
       "      <th>Poor</th>\n",
       "    </tr>\n",
       "    <tr>\n",
       "      <th>curb_loc</th>\n",
       "      <th></th>\n",
       "      <th></th>\n",
       "      <th></th>\n",
       "    </tr>\n",
       "  </thead>\n",
       "  <tbody>\n",
       "    <tr>\n",
       "      <th>OffsetFromCurb</th>\n",
       "      <td>4035</td>\n",
       "      <td>20877</td>\n",
       "      <td>963</td>\n",
       "    </tr>\n",
       "    <tr>\n",
       "      <th>OnCurb</th>\n",
       "      <td>92469</td>\n",
       "      <td>507973</td>\n",
       "      <td>25855</td>\n",
       "    </tr>\n",
       "  </tbody>\n",
       "</table>\n",
       "</div>"
      ],
      "text/plain": [
       "health           Fair    Good   Poor\n",
       "curb_loc                            \n",
       "OffsetFromCurb   4035   20877    963\n",
       "OnCurb          92469  507973  25855"
      ]
     },
     "execution_count": 34,
     "metadata": {},
     "output_type": "execute_result"
    }
   ],
   "source": [
    "curb_df"
   ]
  },
  {
   "cell_type": "code",
   "execution_count": 37,
   "id": "fdb2171a",
   "metadata": {},
   "outputs": [
    {
     "data": {
      "text/plain": [
       "(22.09679349710235,\n",
       " 1.5912640755111868e-05,\n",
       " 2,\n",
       " array([[  3828.80743117,  20982.18529774,   1064.00727109],\n",
       "        [ 92675.19256883, 507867.81470226,  25753.99272891]]))"
      ]
     },
     "execution_count": 37,
     "metadata": {},
     "output_type": "execute_result"
    }
   ],
   "source": [
    "curb_chi = chi2_contingency(curb_df)\n",
    "curb_chi"
   ]
  },
  {
   "cell_type": "code",
   "execution_count": 41,
   "id": "caed7730",
   "metadata": {},
   "outputs": [
    {
     "name": "stdout",
     "output_type": "stream",
     "text": [
      "chisquare: 22.09679349710235\n",
      "p-value: 1.5912640755111868e-05\n",
      "degree of freedom: 2\n"
     ]
    }
   ],
   "source": [
    "print(f\"chisquare:\", curb_chi[0])\n",
    "print(f\"p-value:\", curb_chi[1])\n",
    "print(f\"degree of freedom:\", curb_chi[2])"
   ]
  },
  {
   "cell_type": "markdown",
   "id": "6ddfe12c",
   "metadata": {},
   "source": [
    "- The p-value is 1.5912640755111868e-05 and significantly above the commonly accepted level of significance of 0.05. \n",
    "- Null hypothesis is not rejected (**H₀: there is no relationship between curb_loc and health of tree**)."
   ]
  },
  {
   "cell_type": "markdown",
   "id": "3498bc8c",
   "metadata": {},
   "source": [
    "### Presence and type of tree guard  "
   ]
  },
  {
   "cell_type": "code",
   "execution_count": 43,
   "id": "6526eb3b",
   "metadata": {},
   "outputs": [],
   "source": [
    "guards_df = pd.pivot_table(tree_data, values='tree_id', index=['guards'],\n",
    "               columns=['health'], aggfunc='count', fill_value=0)"
   ]
  },
  {
   "cell_type": "code",
   "execution_count": 44,
   "id": "870b48db",
   "metadata": {},
   "outputs": [
    {
     "data": {
      "text/html": [
       "<div>\n",
       "<style scoped>\n",
       "    .dataframe tbody tr th:only-of-type {\n",
       "        vertical-align: middle;\n",
       "    }\n",
       "\n",
       "    .dataframe tbody tr th {\n",
       "        vertical-align: top;\n",
       "    }\n",
       "\n",
       "    .dataframe thead th {\n",
       "        text-align: right;\n",
       "    }\n",
       "</style>\n",
       "<table border=\"1\" class=\"dataframe\">\n",
       "  <thead>\n",
       "    <tr style=\"text-align: right;\">\n",
       "      <th>health</th>\n",
       "      <th>Fair</th>\n",
       "      <th>Good</th>\n",
       "      <th>Poor</th>\n",
       "    </tr>\n",
       "    <tr>\n",
       "      <th>guards</th>\n",
       "      <th></th>\n",
       "      <th></th>\n",
       "      <th></th>\n",
       "    </tr>\n",
       "  </thead>\n",
       "  <tbody>\n",
       "    <tr>\n",
       "      <th>Harmful</th>\n",
       "      <td>3839</td>\n",
       "      <td>15322</td>\n",
       "      <td>1091</td>\n",
       "    </tr>\n",
       "    <tr>\n",
       "      <th>Helpful</th>\n",
       "      <td>7166</td>\n",
       "      <td>42638</td>\n",
       "      <td>2062</td>\n",
       "    </tr>\n",
       "    <tr>\n",
       "      <th>None</th>\n",
       "      <td>84123</td>\n",
       "      <td>464978</td>\n",
       "      <td>23204</td>\n",
       "    </tr>\n",
       "    <tr>\n",
       "      <th>Unsure</th>\n",
       "      <td>1376</td>\n",
       "      <td>5912</td>\n",
       "      <td>460</td>\n",
       "    </tr>\n",
       "  </tbody>\n",
       "</table>\n",
       "</div>"
      ],
      "text/plain": [
       "health    Fair    Good   Poor\n",
       "guards                       \n",
       "Harmful   3839   15322   1091\n",
       "Helpful   7166   42638   2062\n",
       "None     84123  464978  23204\n",
       "Unsure    1376    5912    460"
      ]
     },
     "execution_count": 44,
     "metadata": {},
     "output_type": "execute_result"
    }
   ],
   "source": [
    "guards_df"
   ]
  },
  {
   "cell_type": "code",
   "execution_count": 45,
   "id": "318610c8",
   "metadata": {},
   "outputs": [
    {
     "data": {
      "text/plain": [
       "(575.2539751179152,\n",
       " 5.0679876449462705e-121,\n",
       " 6,\n",
       " array([[2.99675853e+03, 1.64224877e+04, 8.32753808e+02],\n",
       "        [7.67479153e+03, 4.20585001e+04, 2.13270833e+03],\n",
       "        [8.46859516e+04, 4.64086105e+05, 2.35329433e+04],\n",
       "        [1.14649838e+03, 6.28290709e+03, 3.18594534e+02]]))"
      ]
     },
     "execution_count": 45,
     "metadata": {},
     "output_type": "execute_result"
    }
   ],
   "source": [
    "guards_chi = chi2_contingency(guards_df)\n",
    "guards_chi"
   ]
  },
  {
   "cell_type": "markdown",
   "id": "10272a7f",
   "metadata": {},
   "source": [
    "- The p-value is 5.0679876449462705e-121 and significantly above the commonly accepted level of significance of 0.05. \n",
    "- Null hypothesis is not rejected (**H₀: there is no relationship between presence of guard and health of tree**)."
   ]
  },
  {
   "cell_type": "markdown",
   "id": "57e349e4",
   "metadata": {},
   "source": [
    "### Sidewalk damage immediately adjacent to tree"
   ]
  },
  {
   "cell_type": "code",
   "execution_count": 47,
   "id": "2e90621d",
   "metadata": {},
   "outputs": [],
   "source": [
    "sidewalk_df = pd.pivot_table(tree_data, values='tree_id', index=['sidewalk'],\n",
    "               columns=['health'], aggfunc='count', fill_value=0)"
   ]
  },
  {
   "cell_type": "code",
   "execution_count": 48,
   "id": "eeb1e5ff",
   "metadata": {},
   "outputs": [
    {
     "data": {
      "text/html": [
       "<div>\n",
       "<style scoped>\n",
       "    .dataframe tbody tr th:only-of-type {\n",
       "        vertical-align: middle;\n",
       "    }\n",
       "\n",
       "    .dataframe tbody tr th {\n",
       "        vertical-align: top;\n",
       "    }\n",
       "\n",
       "    .dataframe thead th {\n",
       "        text-align: right;\n",
       "    }\n",
       "</style>\n",
       "<table border=\"1\" class=\"dataframe\">\n",
       "  <thead>\n",
       "    <tr style=\"text-align: right;\">\n",
       "      <th>health</th>\n",
       "      <th>Fair</th>\n",
       "      <th>Good</th>\n",
       "      <th>Poor</th>\n",
       "    </tr>\n",
       "    <tr>\n",
       "      <th>sidewalk</th>\n",
       "      <th></th>\n",
       "      <th></th>\n",
       "      <th></th>\n",
       "    </tr>\n",
       "  </thead>\n",
       "  <tbody>\n",
       "    <tr>\n",
       "      <th>Damage</th>\n",
       "      <td>28699</td>\n",
       "      <td>151889</td>\n",
       "      <td>6605</td>\n",
       "    </tr>\n",
       "    <tr>\n",
       "      <th>NoDamage</th>\n",
       "      <td>67805</td>\n",
       "      <td>376960</td>\n",
       "      <td>20213</td>\n",
       "    </tr>\n",
       "  </tbody>\n",
       "</table>\n",
       "</div>"
      ],
      "text/plain": [
       "health     Fair    Good   Poor\n",
       "sidewalk                      \n",
       "Damage    28699  151889   6605\n",
       "NoDamage  67805  376960  20213"
      ]
     },
     "execution_count": 48,
     "metadata": {},
     "output_type": "execute_result"
    }
   ],
   "source": [
    "sidewalk_df"
   ]
  },
  {
   "cell_type": "code",
   "execution_count": 50,
   "id": "7f2533a8",
   "metadata": {},
   "outputs": [
    {
     "data": {
      "text/plain": [
       "(268.16845546032187,\n",
       " 5.86083893603376e-59,\n",
       " 2,\n",
       " array([[ 27699.59607526, 151795.81866872,   7697.58525601],\n",
       "        [ 68804.40392474, 377053.18133128,  19120.41474399]]))"
      ]
     },
     "execution_count": 50,
     "metadata": {},
     "output_type": "execute_result"
    }
   ],
   "source": [
    "sidewalk_chi = chi2_contingency(sidewalk_df)\n",
    "sidewalk_chi"
   ]
  },
  {
   "cell_type": "markdown",
   "id": "a28fbec9",
   "metadata": {},
   "source": [
    "- The p-value is 5.86083893603376e-59 and significantly above the commonly accepted level of significance of 0.05. \n",
    "- Null hypothesis is not rejected (**H₀: there is no relationship between presence of sidewalk damange immediately adjacent to tree and health of tree**)."
   ]
  },
  {
   "cell_type": "markdown",
   "id": "e86c1132",
   "metadata": {},
   "source": [
    "### Root problems caused by paving stones in the tree bed"
   ]
  },
  {
   "cell_type": "code",
   "execution_count": 52,
   "id": "c592ab92",
   "metadata": {},
   "outputs": [],
   "source": [
    "rootstone_df = pd.pivot_table(tree_data, values='tree_id', index=['root_stone'],\n",
    "               columns=['health'], aggfunc='count', fill_value=0)"
   ]
  },
  {
   "cell_type": "code",
   "execution_count": 53,
   "id": "0b9e9ade",
   "metadata": {},
   "outputs": [
    {
     "data": {
      "text/html": [
       "<div>\n",
       "<style scoped>\n",
       "    .dataframe tbody tr th:only-of-type {\n",
       "        vertical-align: middle;\n",
       "    }\n",
       "\n",
       "    .dataframe tbody tr th {\n",
       "        vertical-align: top;\n",
       "    }\n",
       "\n",
       "    .dataframe thead th {\n",
       "        text-align: right;\n",
       "    }\n",
       "</style>\n",
       "<table border=\"1\" class=\"dataframe\">\n",
       "  <thead>\n",
       "    <tr style=\"text-align: right;\">\n",
       "      <th>health</th>\n",
       "      <th>Fair</th>\n",
       "      <th>Good</th>\n",
       "      <th>Poor</th>\n",
       "    </tr>\n",
       "    <tr>\n",
       "      <th>root_stone</th>\n",
       "      <th></th>\n",
       "      <th></th>\n",
       "      <th></th>\n",
       "    </tr>\n",
       "  </thead>\n",
       "  <tbody>\n",
       "    <tr>\n",
       "      <th>No</th>\n",
       "      <td>73005</td>\n",
       "      <td>417538</td>\n",
       "      <td>21630</td>\n",
       "    </tr>\n",
       "    <tr>\n",
       "      <th>Yes</th>\n",
       "      <td>23499</td>\n",
       "      <td>111312</td>\n",
       "      <td>5188</td>\n",
       "    </tr>\n",
       "  </tbody>\n",
       "</table>\n",
       "</div>"
      ],
      "text/plain": [
       "health       Fair    Good   Poor\n",
       "root_stone                      \n",
       "No          73005  417538  21630\n",
       "Yes         23499  111312   5188"
      ]
     },
     "execution_count": 53,
     "metadata": {},
     "output_type": "execute_result"
    }
   ],
   "source": [
    "rootstone_df"
   ]
  },
  {
   "cell_type": "code",
   "execution_count": 54,
   "id": "2b23a089",
   "metadata": {},
   "outputs": [
    {
     "data": {
      "text/plain": [
       "(602.5935971939034,\n",
       " 1.407547158003004e-131,\n",
       " 2,\n",
       " array([[ 75787.89520556, 415324.0112271 ,  21061.09356734],\n",
       "        [ 20716.10479444, 113525.9887729 ,   5756.90643266]]))"
      ]
     },
     "execution_count": 54,
     "metadata": {},
     "output_type": "execute_result"
    }
   ],
   "source": [
    "rootstone_chi = chi2_contingency(rootstone_df)\n",
    "rootstone_chi"
   ]
  },
  {
   "cell_type": "markdown",
   "id": "cc9f5188",
   "metadata": {},
   "source": [
    "- The p-value is 1.407547158003004e-131 and significantly above the commonly accepted level of significance of 0.05. \n",
    "- Null hypothesis is not rejected (**H₀: there is no relationship between root problems caused by paving stones in the tree bed and health of tree**)."
   ]
  },
  {
   "cell_type": "markdown",
   "id": "146bf601",
   "metadata": {},
   "source": [
    "### Root problems caused by metal grates "
   ]
  },
  {
   "cell_type": "code",
   "execution_count": 56,
   "id": "2f7c836f",
   "metadata": {},
   "outputs": [],
   "source": [
    "rootgrates_df = pd.pivot_table(tree_data, values='tree_id', index=['root_grate'],\n",
    "               columns=['health'], aggfunc='count', fill_value=0)"
   ]
  },
  {
   "cell_type": "code",
   "execution_count": 57,
   "id": "fed93cb5",
   "metadata": {},
   "outputs": [
    {
     "data": {
      "text/html": [
       "<div>\n",
       "<style scoped>\n",
       "    .dataframe tbody tr th:only-of-type {\n",
       "        vertical-align: middle;\n",
       "    }\n",
       "\n",
       "    .dataframe tbody tr th {\n",
       "        vertical-align: top;\n",
       "    }\n",
       "\n",
       "    .dataframe thead th {\n",
       "        text-align: right;\n",
       "    }\n",
       "</style>\n",
       "<table border=\"1\" class=\"dataframe\">\n",
       "  <thead>\n",
       "    <tr style=\"text-align: right;\">\n",
       "      <th>health</th>\n",
       "      <th>Fair</th>\n",
       "      <th>Good</th>\n",
       "      <th>Poor</th>\n",
       "    </tr>\n",
       "    <tr>\n",
       "      <th>root_grate</th>\n",
       "      <th></th>\n",
       "      <th></th>\n",
       "      <th></th>\n",
       "    </tr>\n",
       "  </thead>\n",
       "  <tbody>\n",
       "    <tr>\n",
       "      <th>No</th>\n",
       "      <td>95652</td>\n",
       "      <td>526421</td>\n",
       "      <td>26563</td>\n",
       "    </tr>\n",
       "    <tr>\n",
       "      <th>Yes</th>\n",
       "      <td>852</td>\n",
       "      <td>2429</td>\n",
       "      <td>255</td>\n",
       "    </tr>\n",
       "  </tbody>\n",
       "</table>\n",
       "</div>"
      ],
      "text/plain": [
       "health       Fair    Good   Poor\n",
       "root_grate                      \n",
       "No          95652  526421  26563\n",
       "Yes           852    2429    255"
      ]
     },
     "execution_count": 57,
     "metadata": {},
     "output_type": "execute_result"
    }
   ],
   "source": [
    "rootgrates_df"
   ]
  },
  {
   "cell_type": "code",
   "execution_count": 59,
   "id": "356aa100",
   "metadata": {},
   "outputs": [
    {
     "data": {
      "text/plain": [
       "(358.14098499650447,\n",
       " 1.7008782839751363e-78,\n",
       " 2,\n",
       " array([[9.59807666e+04, 5.25982637e+05, 2.66725960e+04],\n",
       "        [5.23233356e+02, 2.86736260e+03, 1.45404047e+02]]))"
      ]
     },
     "execution_count": 59,
     "metadata": {},
     "output_type": "execute_result"
    }
   ],
   "source": [
    "rootgrate_chi = chi2_contingency(rootgrates_df)\n",
    "rootgrate_chi"
   ]
  },
  {
   "cell_type": "markdown",
   "id": "6963f432",
   "metadata": {},
   "source": [
    "- The p-value is 1.7008782839751363e-78 and significantly above the commonly accepted level of significance of 0.05. \n",
    "- Null hypothesis is not rejected (**H₀: there is no relationship between root problems caused by metal grates and health of tree**)."
   ]
  },
  {
   "cell_type": "markdown",
   "id": "24ee1840",
   "metadata": {},
   "source": [
    "### Presence of other root problems "
   ]
  },
  {
   "cell_type": "code",
   "execution_count": 61,
   "id": "3035b188",
   "metadata": {},
   "outputs": [],
   "source": [
    "rootother_df = pd.pivot_table(tree_data, values='tree_id', index=['root_other'],\n",
    "               columns=['health'], aggfunc='count', fill_value=0)"
   ]
  },
  {
   "cell_type": "code",
   "execution_count": 62,
   "id": "32a88822",
   "metadata": {},
   "outputs": [
    {
     "data": {
      "text/html": [
       "<div>\n",
       "<style scoped>\n",
       "    .dataframe tbody tr th:only-of-type {\n",
       "        vertical-align: middle;\n",
       "    }\n",
       "\n",
       "    .dataframe tbody tr th {\n",
       "        vertical-align: top;\n",
       "    }\n",
       "\n",
       "    .dataframe thead th {\n",
       "        text-align: right;\n",
       "    }\n",
       "</style>\n",
       "<table border=\"1\" class=\"dataframe\">\n",
       "  <thead>\n",
       "    <tr style=\"text-align: right;\">\n",
       "      <th>health</th>\n",
       "      <th>Fair</th>\n",
       "      <th>Good</th>\n",
       "      <th>Poor</th>\n",
       "    </tr>\n",
       "    <tr>\n",
       "      <th>root_other</th>\n",
       "      <th></th>\n",
       "      <th></th>\n",
       "      <th></th>\n",
       "    </tr>\n",
       "  </thead>\n",
       "  <tbody>\n",
       "    <tr>\n",
       "      <th>No</th>\n",
       "      <td>90015</td>\n",
       "      <td>507136</td>\n",
       "      <td>24699</td>\n",
       "    </tr>\n",
       "    <tr>\n",
       "      <th>Yes</th>\n",
       "      <td>6489</td>\n",
       "      <td>21714</td>\n",
       "      <td>2119</td>\n",
       "    </tr>\n",
       "  </tbody>\n",
       "</table>\n",
       "</div>"
      ],
      "text/plain": [
       "health       Fair    Good   Poor\n",
       "root_other                      \n",
       "No          90015  507136  24699\n",
       "Yes          6489   21714   2119"
      ]
     },
     "execution_count": 62,
     "metadata": {},
     "output_type": "execute_result"
    }
   ],
   "source": [
    "rootother_df"
   ]
  },
  {
   "cell_type": "code",
   "execution_count": 63,
   "id": "6212526d",
   "metadata": {},
   "outputs": [
    {
     "data": {
      "text/plain": [
       "(1929.1145277540363,\n",
       " 0.0,\n",
       " 2,\n",
       " array([[ 92017.15559699, 504261.71700104,  25571.12740197],\n",
       "        [  4486.84440301,  24588.28299896,   1246.87259803]]))"
      ]
     },
     "execution_count": 63,
     "metadata": {},
     "output_type": "execute_result"
    }
   ],
   "source": [
    "rootother_chi = chi2_contingency(rootother_df)\n",
    "rootother_chi"
   ]
  },
  {
   "cell_type": "markdown",
   "id": "2c1b9c14",
   "metadata": {},
   "source": [
    "- The p-value is 0.0, and  below the commonly accepted level of significance of 0.05. \n",
    "- Null hypothesis is rejected (**H₀: there is relationship between presence of other root problems and health of tree**)."
   ]
  },
  {
   "cell_type": "markdown",
   "id": "d7ca87ea",
   "metadata": {},
   "source": [
    "### Trunk problems caused by rope or wires"
   ]
  },
  {
   "cell_type": "code",
   "execution_count": 65,
   "id": "4d2f51a5",
   "metadata": {},
   "outputs": [],
   "source": [
    "trunkrope_df = pd.pivot_table(tree_data, values='tree_id', index=['trunk_wire'],\n",
    "               columns=['health'], aggfunc='count', fill_value=0)"
   ]
  },
  {
   "cell_type": "code",
   "execution_count": 66,
   "id": "36d8b302",
   "metadata": {},
   "outputs": [
    {
     "data": {
      "text/html": [
       "<div>\n",
       "<style scoped>\n",
       "    .dataframe tbody tr th:only-of-type {\n",
       "        vertical-align: middle;\n",
       "    }\n",
       "\n",
       "    .dataframe tbody tr th {\n",
       "        vertical-align: top;\n",
       "    }\n",
       "\n",
       "    .dataframe thead th {\n",
       "        text-align: right;\n",
       "    }\n",
       "</style>\n",
       "<table border=\"1\" class=\"dataframe\">\n",
       "  <thead>\n",
       "    <tr style=\"text-align: right;\">\n",
       "      <th>health</th>\n",
       "      <th>Fair</th>\n",
       "      <th>Good</th>\n",
       "      <th>Poor</th>\n",
       "    </tr>\n",
       "    <tr>\n",
       "      <th>trunk_wire</th>\n",
       "      <th></th>\n",
       "      <th></th>\n",
       "      <th></th>\n",
       "    </tr>\n",
       "  </thead>\n",
       "  <tbody>\n",
       "    <tr>\n",
       "      <th>No</th>\n",
       "      <td>93737</td>\n",
       "      <td>519095</td>\n",
       "      <td>26066</td>\n",
       "    </tr>\n",
       "    <tr>\n",
       "      <th>Yes</th>\n",
       "      <td>2767</td>\n",
       "      <td>9755</td>\n",
       "      <td>752</td>\n",
       "    </tr>\n",
       "  </tbody>\n",
       "</table>\n",
       "</div>"
      ],
      "text/plain": [
       "health       Fair    Good   Poor\n",
       "trunk_wire                      \n",
       "No          93737  519095  26066\n",
       "Yes          2767    9755    752"
      ]
     },
     "execution_count": 66,
     "metadata": {},
     "output_type": "execute_result"
    }
   ],
   "source": [
    "trunkrope_df"
   ]
  },
  {
   "cell_type": "code",
   "execution_count": 67,
   "id": "c6e68e63",
   "metadata": {},
   "outputs": [
    {
     "data": {
      "text/plain": [
       "(510.960042186385,\n",
       " 1.1128499296957543e-111,\n",
       " 2,\n",
       " array([[ 94539.80329116, 518086.03757904,  26272.1591298 ],\n",
       "        [  1964.19670884,  10763.96242096,    545.8408702 ]]))"
      ]
     },
     "execution_count": 67,
     "metadata": {},
     "output_type": "execute_result"
    }
   ],
   "source": [
    "trunkwire_chi = chi2_contingency(trunkrope_df)\n",
    "trunkwire_chi"
   ]
  },
  {
   "cell_type": "markdown",
   "id": "9515bd81",
   "metadata": {},
   "source": [
    "- The p-value is  1.1128499296957543e-111, and significantly above the commonly accepted level of significance of 0.05. \n",
    "- Null hypothesis is not rejected (**H₀: there is no relationship between trunk problems caused by rope or wires and health of tree**)."
   ]
  },
  {
   "cell_type": "markdown",
   "id": "a2f7a672",
   "metadata": {},
   "source": [
    "### Trunk problems caused by lights "
   ]
  },
  {
   "cell_type": "code",
   "execution_count": 68,
   "id": "61bec2eb",
   "metadata": {},
   "outputs": [],
   "source": [
    "trunklight_df = pd.pivot_table(tree_data, values='tree_id', index=['trnk_light'],\n",
    "               columns=['health'], aggfunc='count', fill_value=0)"
   ]
  },
  {
   "cell_type": "code",
   "execution_count": 69,
   "id": "29a1a6d6",
   "metadata": {},
   "outputs": [
    {
     "data": {
      "text/html": [
       "<div>\n",
       "<style scoped>\n",
       "    .dataframe tbody tr th:only-of-type {\n",
       "        vertical-align: middle;\n",
       "    }\n",
       "\n",
       "    .dataframe tbody tr th {\n",
       "        vertical-align: top;\n",
       "    }\n",
       "\n",
       "    .dataframe thead th {\n",
       "        text-align: right;\n",
       "    }\n",
       "</style>\n",
       "<table border=\"1\" class=\"dataframe\">\n",
       "  <thead>\n",
       "    <tr style=\"text-align: right;\">\n",
       "      <th>health</th>\n",
       "      <th>Fair</th>\n",
       "      <th>Good</th>\n",
       "      <th>Poor</th>\n",
       "    </tr>\n",
       "    <tr>\n",
       "      <th>trnk_light</th>\n",
       "      <th></th>\n",
       "      <th></th>\n",
       "      <th></th>\n",
       "    </tr>\n",
       "  </thead>\n",
       "  <tbody>\n",
       "    <tr>\n",
       "      <th>No</th>\n",
       "      <td>96288</td>\n",
       "      <td>528096</td>\n",
       "      <td>26757</td>\n",
       "    </tr>\n",
       "    <tr>\n",
       "      <th>Yes</th>\n",
       "      <td>216</td>\n",
       "      <td>754</td>\n",
       "      <td>61</td>\n",
       "    </tr>\n",
       "  </tbody>\n",
       "</table>\n",
       "</div>"
      ],
      "text/plain": [
       "health       Fair    Good   Poor\n",
       "trnk_light                      \n",
       "No          96288  528096  26757\n",
       "Yes           216     754     61"
      ]
     },
     "execution_count": 69,
     "metadata": {},
     "output_type": "execute_result"
    }
   ],
   "source": [
    "trunklight_df"
   ]
  },
  {
   "cell_type": "code",
   "execution_count": 70,
   "id": "2b5573dc",
   "metadata": {},
   "outputs": [
    {
     "data": {
      "text/plain": [
       "(42.66285289590515,\n",
       " 5.443512224202895e-10,\n",
       " 2,\n",
       " array([[9.63514396e+04, 5.28013956e+05, 2.67756042e+04],\n",
       "        [1.52560404e+02, 8.36043789e+02, 4.23958066e+01]]))"
      ]
     },
     "execution_count": 70,
     "metadata": {},
     "output_type": "execute_result"
    }
   ],
   "source": [
    "trunklight_chi = chi2_contingency(trunklight_df)\n",
    "trunklight_chi"
   ]
  },
  {
   "cell_type": "markdown",
   "id": "17042fbb",
   "metadata": {},
   "source": [
    "- The p-value is 5.443512224202895e-1, and significantly above the commonly accepted level of significance of 0.05. \n",
    "- Null hypothesis is not rejected (**H₀: there is no relationship between trunk problems caused by lights and health of tree**)."
   ]
  },
  {
   "cell_type": "markdown",
   "id": "e826402b",
   "metadata": {},
   "source": [
    "### Presence of other trunk problems "
   ]
  },
  {
   "cell_type": "code",
   "execution_count": 73,
   "id": "61f442b6",
   "metadata": {},
   "outputs": [],
   "source": [
    "trunkother_df = pd.pivot_table(tree_data, values='tree_id', index=['trnk_other'],\n",
    "               columns=['health'], aggfunc='count', fill_value=0)"
   ]
  },
  {
   "cell_type": "code",
   "execution_count": 74,
   "id": "761b1ce6",
   "metadata": {},
   "outputs": [
    {
     "data": {
      "text/html": [
       "<div>\n",
       "<style scoped>\n",
       "    .dataframe tbody tr th:only-of-type {\n",
       "        vertical-align: middle;\n",
       "    }\n",
       "\n",
       "    .dataframe tbody tr th {\n",
       "        vertical-align: top;\n",
       "    }\n",
       "\n",
       "    .dataframe thead th {\n",
       "        text-align: right;\n",
       "    }\n",
       "</style>\n",
       "<table border=\"1\" class=\"dataframe\">\n",
       "  <thead>\n",
       "    <tr style=\"text-align: right;\">\n",
       "      <th>health</th>\n",
       "      <th>Fair</th>\n",
       "      <th>Good</th>\n",
       "      <th>Poor</th>\n",
       "    </tr>\n",
       "    <tr>\n",
       "      <th>trnk_other</th>\n",
       "      <th></th>\n",
       "      <th></th>\n",
       "      <th></th>\n",
       "    </tr>\n",
       "  </thead>\n",
       "  <tbody>\n",
       "    <tr>\n",
       "      <th>No</th>\n",
       "      <td>87124</td>\n",
       "      <td>509577</td>\n",
       "      <td>22898</td>\n",
       "    </tr>\n",
       "    <tr>\n",
       "      <th>Yes</th>\n",
       "      <td>9380</td>\n",
       "      <td>19273</td>\n",
       "      <td>3920</td>\n",
       "    </tr>\n",
       "  </tbody>\n",
       "</table>\n",
       "</div>"
      ],
      "text/plain": [
       "health       Fair    Good   Poor\n",
       "trnk_other                      \n",
       "No          87124  509577  22898\n",
       "Yes          9380   19273   3920"
      ]
     },
     "execution_count": 74,
     "metadata": {},
     "output_type": "execute_result"
    }
   ],
   "source": [
    "trunkother_df"
   ]
  },
  {
   "cell_type": "code",
   "execution_count": 75,
   "id": "917424e8",
   "metadata": {},
   "outputs": [
    {
     "data": {
      "text/plain": [
       "(11805.985908701758,\n",
       " 0.0,\n",
       " 2,\n",
       " array([[ 91684.06784713, 502436.36824335,  25478.56390952],\n",
       "        [  4819.93215287,  26413.63175665,   1339.43609048]]))"
      ]
     },
     "execution_count": 75,
     "metadata": {},
     "output_type": "execute_result"
    }
   ],
   "source": [
    "trunkother_chi = chi2_contingency(trunkother_df)\n",
    "trunkother_chi"
   ]
  },
  {
   "cell_type": "markdown",
   "id": "f60ddf16",
   "metadata": {},
   "source": [
    "- The p-value is 0.0, and significantly above the commonly accepted level of significance of 0.05. \n",
    "- Null hypothesis is rejected (**H₀: there is relationship between presence of other trunk problems and health of tree**)."
   ]
  },
  {
   "cell_type": "markdown",
   "id": "a93e06a4",
   "metadata": {},
   "source": [
    "### Branch problems caused by lights or wires"
   ]
  },
  {
   "cell_type": "code",
   "execution_count": 77,
   "id": "591d7019",
   "metadata": {},
   "outputs": [],
   "source": [
    "branchwire_df = pd.pivot_table(tree_data, values='tree_id', index=['brch_light'],\n",
    "               columns=['health'], aggfunc='count', fill_value=0)"
   ]
  },
  {
   "cell_type": "code",
   "execution_count": 78,
   "id": "e900a9b5",
   "metadata": {},
   "outputs": [
    {
     "data": {
      "text/html": [
       "<div>\n",
       "<style scoped>\n",
       "    .dataframe tbody tr th:only-of-type {\n",
       "        vertical-align: middle;\n",
       "    }\n",
       "\n",
       "    .dataframe tbody tr th {\n",
       "        vertical-align: top;\n",
       "    }\n",
       "\n",
       "    .dataframe thead th {\n",
       "        text-align: right;\n",
       "    }\n",
       "</style>\n",
       "<table border=\"1\" class=\"dataframe\">\n",
       "  <thead>\n",
       "    <tr style=\"text-align: right;\">\n",
       "      <th>health</th>\n",
       "      <th>Fair</th>\n",
       "      <th>Good</th>\n",
       "      <th>Poor</th>\n",
       "    </tr>\n",
       "    <tr>\n",
       "      <th>brch_light</th>\n",
       "      <th></th>\n",
       "      <th></th>\n",
       "      <th></th>\n",
       "    </tr>\n",
       "  </thead>\n",
       "  <tbody>\n",
       "    <tr>\n",
       "      <th>No</th>\n",
       "      <td>85580</td>\n",
       "      <td>479779</td>\n",
       "      <td>24448</td>\n",
       "    </tr>\n",
       "    <tr>\n",
       "      <th>Yes</th>\n",
       "      <td>10924</td>\n",
       "      <td>49071</td>\n",
       "      <td>2370</td>\n",
       "    </tr>\n",
       "  </tbody>\n",
       "</table>\n",
       "</div>"
      ],
      "text/plain": [
       "health       Fair    Good   Poor\n",
       "brch_light                      \n",
       "No          85580  479779  24448\n",
       "Yes         10924   49071   2370"
      ]
     },
     "execution_count": 78,
     "metadata": {},
     "output_type": "execute_result"
    }
   ],
   "source": [
    "branchwire_df"
   ]
  },
  {
   "cell_type": "code",
   "execution_count": 79,
   "id": "77c540aa",
   "metadata": {},
   "outputs": [
    {
     "data": {
      "text/plain": [
       "(410.09208343188084,\n",
       " 8.905033276106503e-90,\n",
       " 2,\n",
       " array([[ 87275.64925817, 478277.86527174,  24253.48547009],\n",
       "        [  9228.35074183,  50572.13472826,   2564.51452991]]))"
      ]
     },
     "execution_count": 79,
     "metadata": {},
     "output_type": "execute_result"
    }
   ],
   "source": [
    "branchwire_chi = chi2_contingency(branchwire_df)\n",
    "branchwire_chi"
   ]
  },
  {
   "cell_type": "markdown",
   "id": "37bd7426",
   "metadata": {},
   "source": [
    "- The p-value is 8.905033276106503e-90, and significantly above the commonly accepted level of significance of 0.05. \n",
    "- Null hypothesis is not rejected (**H₀: there is no relationship between presence of branch problems caused by lights  and health of tree**)."
   ]
  },
  {
   "cell_type": "markdown",
   "id": "40ec5f72",
   "metadata": {},
   "source": [
    "### Branch problems caused by shoes"
   ]
  },
  {
   "cell_type": "code",
   "execution_count": 81,
   "id": "becbc469",
   "metadata": {},
   "outputs": [],
   "source": [
    "branchshoe_df = pd.pivot_table(tree_data, values='tree_id', index=['brch_shoe'],\n",
    "               columns=['health'], aggfunc='count', fill_value=0)"
   ]
  },
  {
   "cell_type": "code",
   "execution_count": 82,
   "id": "272cbe3d",
   "metadata": {},
   "outputs": [
    {
     "data": {
      "text/html": [
       "<div>\n",
       "<style scoped>\n",
       "    .dataframe tbody tr th:only-of-type {\n",
       "        vertical-align: middle;\n",
       "    }\n",
       "\n",
       "    .dataframe tbody tr th {\n",
       "        vertical-align: top;\n",
       "    }\n",
       "\n",
       "    .dataframe thead th {\n",
       "        text-align: right;\n",
       "    }\n",
       "</style>\n",
       "<table border=\"1\" class=\"dataframe\">\n",
       "  <thead>\n",
       "    <tr style=\"text-align: right;\">\n",
       "      <th>health</th>\n",
       "      <th>Fair</th>\n",
       "      <th>Good</th>\n",
       "      <th>Poor</th>\n",
       "    </tr>\n",
       "    <tr>\n",
       "      <th>brch_shoe</th>\n",
       "      <th></th>\n",
       "      <th></th>\n",
       "      <th></th>\n",
       "    </tr>\n",
       "  </thead>\n",
       "  <tbody>\n",
       "    <tr>\n",
       "      <th>No</th>\n",
       "      <td>96410</td>\n",
       "      <td>528565</td>\n",
       "      <td>26786</td>\n",
       "    </tr>\n",
       "    <tr>\n",
       "      <th>Yes</th>\n",
       "      <td>94</td>\n",
       "      <td>285</td>\n",
       "      <td>32</td>\n",
       "    </tr>\n",
       "  </tbody>\n",
       "</table>\n",
       "</div>"
      ],
      "text/plain": [
       "health      Fair    Good   Poor\n",
       "brch_shoe                      \n",
       "No         96410  528565  26786\n",
       "Yes           94     285     32"
      ]
     },
     "execution_count": 82,
     "metadata": {},
     "output_type": "execute_result"
    }
   ],
   "source": [
    "branchshoe_df"
   ]
  },
  {
   "cell_type": "code",
   "execution_count": 83,
   "id": "7e33b647",
   "metadata": {},
   "outputs": [
    {
     "data": {
      "text/plain": [
       "(38.61402692088887,\n",
       " 4.121645086487258e-09,\n",
       " 2,\n",
       " array([[9.64431830e+04, 5.28516718e+05, 2.68010992e+04],\n",
       "        [6.08169992e+01, 3.33282248e+02, 1.69007532e+01]]))"
      ]
     },
     "execution_count": 83,
     "metadata": {},
     "output_type": "execute_result"
    }
   ],
   "source": [
    "branchshoe_chi = chi2_contingency(branchshoe_df)\n",
    "branchshoe_chi"
   ]
  },
  {
   "cell_type": "markdown",
   "id": "3b2c4d4d",
   "metadata": {},
   "source": [
    "- The p-value is 4.121645086487258e-09, and significantly above the commonly accepted level of significance of 0.05. \n",
    "- Null hypothesis is not rejected (**H₀: there is no relationship between presence of branch problems caused by shoes  and health of tree**)."
   ]
  },
  {
   "cell_type": "markdown",
   "id": "30f53865",
   "metadata": {},
   "source": [
    "### Presence of other branch problems "
   ]
  },
  {
   "cell_type": "code",
   "execution_count": 84,
   "id": "fa8f3d00",
   "metadata": {},
   "outputs": [],
   "source": [
    "branchother_df = pd.pivot_table(tree_data, values='tree_id', index=['brch_other'],\n",
    "               columns=['health'], aggfunc='count', fill_value=0)"
   ]
  },
  {
   "cell_type": "code",
   "execution_count": 85,
   "id": "84d2bca8",
   "metadata": {},
   "outputs": [
    {
     "data": {
      "text/html": [
       "<div>\n",
       "<style scoped>\n",
       "    .dataframe tbody tr th:only-of-type {\n",
       "        vertical-align: middle;\n",
       "    }\n",
       "\n",
       "    .dataframe tbody tr th {\n",
       "        vertical-align: top;\n",
       "    }\n",
       "\n",
       "    .dataframe thead th {\n",
       "        text-align: right;\n",
       "    }\n",
       "</style>\n",
       "<table border=\"1\" class=\"dataframe\">\n",
       "  <thead>\n",
       "    <tr style=\"text-align: right;\">\n",
       "      <th>health</th>\n",
       "      <th>Fair</th>\n",
       "      <th>Good</th>\n",
       "      <th>Poor</th>\n",
       "    </tr>\n",
       "    <tr>\n",
       "      <th>brch_other</th>\n",
       "      <th></th>\n",
       "      <th></th>\n",
       "      <th></th>\n",
       "    </tr>\n",
       "  </thead>\n",
       "  <tbody>\n",
       "    <tr>\n",
       "      <th>No</th>\n",
       "      <td>88616</td>\n",
       "      <td>516041</td>\n",
       "      <td>23160</td>\n",
       "    </tr>\n",
       "    <tr>\n",
       "      <th>Yes</th>\n",
       "      <td>7888</td>\n",
       "      <td>12809</td>\n",
       "      <td>3658</td>\n",
       "    </tr>\n",
       "  </tbody>\n",
       "</table>\n",
       "</div>"
      ],
      "text/plain": [
       "health       Fair    Good   Poor\n",
       "brch_other                      \n",
       "No          88616  516041  23160\n",
       "Yes          7888   12809   3658"
      ]
     },
     "execution_count": 85,
     "metadata": {},
     "output_type": "execute_result"
    }
   ],
   "source": [
    "branchother_df"
   ]
  },
  {
   "cell_type": "code",
   "execution_count": 86,
   "id": "05a636b5",
   "metadata": {},
   "outputs": [
    {
     "data": {
      "text/plain": [
       "(15143.783795117037,\n",
       " 0.0,\n",
       " 2,\n",
       " array([[ 92900.11188459, 509100.39138448,  25816.49673092],\n",
       "        [  3603.88811541,  19749.60861552,   1001.50326908]]))"
      ]
     },
     "execution_count": 86,
     "metadata": {},
     "output_type": "execute_result"
    }
   ],
   "source": [
    "branchother_chi = chi2_contingency(branchother_df)\n",
    "branchother_chi"
   ]
  },
  {
   "cell_type": "markdown",
   "id": "2d5e0d30",
   "metadata": {},
   "source": [
    "- The p-value is 0.0, and below the commonly accepted level of significance of 0.05. \n",
    "- Null hypothesis is rejected (**H₀: there is relationship between presence of other branch problems and health of tree**)."
   ]
  },
  {
   "cell_type": "markdown",
   "id": "19ce5543",
   "metadata": {},
   "source": [
    "**Variable of interest for next step** \n",
    "- presence of other branch problems - brch_other\n",
    "- presence of other trunk problems - trnk_other\n",
    "- presence of other root problems - root_other"
   ]
  },
  {
   "cell_type": "code",
   "execution_count": null,
   "id": "fef67c74",
   "metadata": {},
   "outputs": [],
   "source": []
  }
 ],
 "metadata": {
  "kernelspec": {
   "display_name": "Python 3 (ipykernel)",
   "language": "python",
   "name": "python3"
  },
  "language_info": {
   "codemirror_mode": {
    "name": "ipython",
    "version": 3
   },
   "file_extension": ".py",
   "mimetype": "text/x-python",
   "name": "python",
   "nbconvert_exporter": "python",
   "pygments_lexer": "ipython3",
   "version": "3.9.7"
  }
 },
 "nbformat": 4,
 "nbformat_minor": 5
}
