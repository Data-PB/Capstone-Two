{
 "cells": [
  {
   "cell_type": "markdown",
   "id": "130ac237",
   "metadata": {},
   "source": [
    "## Capstone  - NYC Tree Census - Hyperparameter Tuning "
   ]
  },
  {
   "cell_type": "markdown",
   "id": "c193c76b",
   "metadata": {},
   "source": [
    "### Table of contents\n",
    "1. [Background](#Background)\n",
    "     -   1.1 [Data Source](#Data-Source)\n",
    "     -   1.2 [Objective](#Objective)\n",
    "     "
   ]
  },
  {
   "cell_type": "markdown",
   "id": "5b184685",
   "metadata": {},
   "source": [
    "## 1. Loading and Preparing Data"
   ]
  },
  {
   "cell_type": "markdown",
   "id": "aa772d9d",
   "metadata": {},
   "source": [
    "#### 1.1 Load Libraries"
   ]
  },
  {
   "cell_type": "code",
   "execution_count": 1,
   "id": "a5de353a",
   "metadata": {},
   "outputs": [],
   "source": [
    "import pandas as pd\n",
    "import numpy as np\n",
    "import seaborn as sns\n",
    "import matplotlib.pyplot as plt\n",
    "from sklearn.model_selection import (cross_val_score, train_test_split)"
   ]
  },
  {
   "cell_type": "markdown",
   "id": "a1dcf7f5",
   "metadata": {},
   "source": [
    "*Successfully loaded all the required libraries*"
   ]
  },
  {
   "cell_type": "markdown",
   "id": "d88f4883",
   "metadata": {},
   "source": [
    "#### 1.2 Load the cleaned data "
   ]
  },
  {
   "cell_type": "code",
   "execution_count": 2,
   "id": "69999e9b",
   "metadata": {},
   "outputs": [],
   "source": [
    "df = pd.read_csv('encoded_data_health.csv')"
   ]
  },
  {
   "cell_type": "markdown",
   "id": "956645ff",
   "metadata": {},
   "source": [
    "*Successfully loaded the cleaned and encoded file*"
   ]
  },
  {
   "cell_type": "code",
   "execution_count": 3,
   "id": "691e58d8",
   "metadata": {},
   "outputs": [
    {
     "data": {
      "text/html": [
       "<div>\n",
       "<style scoped>\n",
       "    .dataframe tbody tr th:only-of-type {\n",
       "        vertical-align: middle;\n",
       "    }\n",
       "\n",
       "    .dataframe tbody tr th {\n",
       "        vertical-align: top;\n",
       "    }\n",
       "\n",
       "    .dataframe thead th {\n",
       "        text-align: right;\n",
       "    }\n",
       "</style>\n",
       "<table border=\"1\" class=\"dataframe\">\n",
       "  <thead>\n",
       "    <tr style=\"text-align: right;\">\n",
       "      <th></th>\n",
       "      <th>Unnamed: 0</th>\n",
       "      <th>tree_dbh</th>\n",
       "      <th>health</th>\n",
       "      <th>latitude</th>\n",
       "      <th>longitude</th>\n",
       "      <th>x_sp</th>\n",
       "      <th>y_sp</th>\n",
       "      <th>problem_count</th>\n",
       "      <th>curb_loc_OffsetFromCurb</th>\n",
       "      <th>curb_loc_OnCurb</th>\n",
       "      <th>...</th>\n",
       "      <th>trnk_light_No</th>\n",
       "      <th>trnk_light_Yes</th>\n",
       "      <th>trnk_other_No</th>\n",
       "      <th>trnk_other_Yes</th>\n",
       "      <th>brch_light_No</th>\n",
       "      <th>brch_light_Yes</th>\n",
       "      <th>brch_shoe_No</th>\n",
       "      <th>brch_shoe_Yes</th>\n",
       "      <th>brch_other_No</th>\n",
       "      <th>brch_other_Yes</th>\n",
       "    </tr>\n",
       "  </thead>\n",
       "  <tbody>\n",
       "    <tr>\n",
       "      <th>0</th>\n",
       "      <td>0</td>\n",
       "      <td>3</td>\n",
       "      <td>Fair</td>\n",
       "      <td>40.723092</td>\n",
       "      <td>-73.844215</td>\n",
       "      <td>1027431.148</td>\n",
       "      <td>202756.7687</td>\n",
       "      <td>0</td>\n",
       "      <td>0</td>\n",
       "      <td>1</td>\n",
       "      <td>...</td>\n",
       "      <td>1</td>\n",
       "      <td>0</td>\n",
       "      <td>1</td>\n",
       "      <td>0</td>\n",
       "      <td>1</td>\n",
       "      <td>0</td>\n",
       "      <td>1</td>\n",
       "      <td>0</td>\n",
       "      <td>1</td>\n",
       "      <td>0</td>\n",
       "    </tr>\n",
       "    <tr>\n",
       "      <th>1</th>\n",
       "      <td>1</td>\n",
       "      <td>21</td>\n",
       "      <td>Fair</td>\n",
       "      <td>40.794111</td>\n",
       "      <td>-73.818679</td>\n",
       "      <td>1034455.701</td>\n",
       "      <td>228644.8374</td>\n",
       "      <td>1</td>\n",
       "      <td>0</td>\n",
       "      <td>1</td>\n",
       "      <td>...</td>\n",
       "      <td>1</td>\n",
       "      <td>0</td>\n",
       "      <td>1</td>\n",
       "      <td>0</td>\n",
       "      <td>1</td>\n",
       "      <td>0</td>\n",
       "      <td>1</td>\n",
       "      <td>0</td>\n",
       "      <td>1</td>\n",
       "      <td>0</td>\n",
       "    </tr>\n",
       "  </tbody>\n",
       "</table>\n",
       "<p>2 rows × 38 columns</p>\n",
       "</div>"
      ],
      "text/plain": [
       "   Unnamed: 0  tree_dbh health   latitude  longitude         x_sp  \\\n",
       "0           0         3   Fair  40.723092 -73.844215  1027431.148   \n",
       "1           1        21   Fair  40.794111 -73.818679  1034455.701   \n",
       "\n",
       "          y_sp  problem_count  curb_loc_OffsetFromCurb  curb_loc_OnCurb  ...  \\\n",
       "0  202756.7687              0                        0                1  ...   \n",
       "1  228644.8374              1                        0                1  ...   \n",
       "\n",
       "   trnk_light_No  trnk_light_Yes  trnk_other_No  trnk_other_Yes  \\\n",
       "0              1               0              1               0   \n",
       "1              1               0              1               0   \n",
       "\n",
       "   brch_light_No  brch_light_Yes  brch_shoe_No  brch_shoe_Yes  brch_other_No  \\\n",
       "0              1               0             1              0              1   \n",
       "1              1               0             1              0              1   \n",
       "\n",
       "   brch_other_Yes  \n",
       "0               0  \n",
       "1               0  \n",
       "\n",
       "[2 rows x 38 columns]"
      ]
     },
     "execution_count": 3,
     "metadata": {},
     "output_type": "execute_result"
    }
   ],
   "source": [
    "df.head(2)"
   ]
  },
  {
   "cell_type": "code",
   "execution_count": 4,
   "id": "f1ec5871",
   "metadata": {},
   "outputs": [
    {
     "name": "stderr",
     "output_type": "stream",
     "text": [
      "C:\\Users\\parij\\AppData\\Local\\Temp/ipykernel_13052/3812631323.py:1: FutureWarning: In a future version of pandas all arguments of DataFrame.drop except for the argument 'labels' will be keyword-only\n",
      "  df = df.drop('Unnamed: 0', 1)\n"
     ]
    }
   ],
   "source": [
    "df = df.drop('Unnamed: 0', 1)"
   ]
  },
  {
   "cell_type": "code",
   "execution_count": 5,
   "id": "6417c518",
   "metadata": {},
   "outputs": [
    {
     "data": {
      "text/html": [
       "<div>\n",
       "<style scoped>\n",
       "    .dataframe tbody tr th:only-of-type {\n",
       "        vertical-align: middle;\n",
       "    }\n",
       "\n",
       "    .dataframe tbody tr th {\n",
       "        vertical-align: top;\n",
       "    }\n",
       "\n",
       "    .dataframe thead th {\n",
       "        text-align: right;\n",
       "    }\n",
       "</style>\n",
       "<table border=\"1\" class=\"dataframe\">\n",
       "  <thead>\n",
       "    <tr style=\"text-align: right;\">\n",
       "      <th></th>\n",
       "      <th>tree_dbh</th>\n",
       "      <th>health</th>\n",
       "      <th>latitude</th>\n",
       "      <th>longitude</th>\n",
       "      <th>x_sp</th>\n",
       "      <th>y_sp</th>\n",
       "      <th>problem_count</th>\n",
       "      <th>curb_loc_OffsetFromCurb</th>\n",
       "      <th>curb_loc_OnCurb</th>\n",
       "      <th>steward_1or2</th>\n",
       "      <th>...</th>\n",
       "      <th>trnk_light_No</th>\n",
       "      <th>trnk_light_Yes</th>\n",
       "      <th>trnk_other_No</th>\n",
       "      <th>trnk_other_Yes</th>\n",
       "      <th>brch_light_No</th>\n",
       "      <th>brch_light_Yes</th>\n",
       "      <th>brch_shoe_No</th>\n",
       "      <th>brch_shoe_Yes</th>\n",
       "      <th>brch_other_No</th>\n",
       "      <th>brch_other_Yes</th>\n",
       "    </tr>\n",
       "  </thead>\n",
       "  <tbody>\n",
       "    <tr>\n",
       "      <th>0</th>\n",
       "      <td>3</td>\n",
       "      <td>Fair</td>\n",
       "      <td>40.723092</td>\n",
       "      <td>-73.844215</td>\n",
       "      <td>1027431.148</td>\n",
       "      <td>202756.7687</td>\n",
       "      <td>0</td>\n",
       "      <td>0</td>\n",
       "      <td>1</td>\n",
       "      <td>0</td>\n",
       "      <td>...</td>\n",
       "      <td>1</td>\n",
       "      <td>0</td>\n",
       "      <td>1</td>\n",
       "      <td>0</td>\n",
       "      <td>1</td>\n",
       "      <td>0</td>\n",
       "      <td>1</td>\n",
       "      <td>0</td>\n",
       "      <td>1</td>\n",
       "      <td>0</td>\n",
       "    </tr>\n",
       "    <tr>\n",
       "      <th>1</th>\n",
       "      <td>21</td>\n",
       "      <td>Fair</td>\n",
       "      <td>40.794111</td>\n",
       "      <td>-73.818679</td>\n",
       "      <td>1034455.701</td>\n",
       "      <td>228644.8374</td>\n",
       "      <td>1</td>\n",
       "      <td>0</td>\n",
       "      <td>1</td>\n",
       "      <td>0</td>\n",
       "      <td>...</td>\n",
       "      <td>1</td>\n",
       "      <td>0</td>\n",
       "      <td>1</td>\n",
       "      <td>0</td>\n",
       "      <td>1</td>\n",
       "      <td>0</td>\n",
       "      <td>1</td>\n",
       "      <td>0</td>\n",
       "      <td>1</td>\n",
       "      <td>0</td>\n",
       "    </tr>\n",
       "  </tbody>\n",
       "</table>\n",
       "<p>2 rows × 37 columns</p>\n",
       "</div>"
      ],
      "text/plain": [
       "   tree_dbh health   latitude  longitude         x_sp         y_sp  \\\n",
       "0         3   Fair  40.723092 -73.844215  1027431.148  202756.7687   \n",
       "1        21   Fair  40.794111 -73.818679  1034455.701  228644.8374   \n",
       "\n",
       "   problem_count  curb_loc_OffsetFromCurb  curb_loc_OnCurb  steward_1or2  ...  \\\n",
       "0              0                        0                1             0  ...   \n",
       "1              1                        0                1             0  ...   \n",
       "\n",
       "   trnk_light_No  trnk_light_Yes  trnk_other_No  trnk_other_Yes  \\\n",
       "0              1               0              1               0   \n",
       "1              1               0              1               0   \n",
       "\n",
       "   brch_light_No  brch_light_Yes  brch_shoe_No  brch_shoe_Yes  brch_other_No  \\\n",
       "0              1               0             1              0              1   \n",
       "1              1               0             1              0              1   \n",
       "\n",
       "   brch_other_Yes  \n",
       "0               0  \n",
       "1               0  \n",
       "\n",
       "[2 rows x 37 columns]"
      ]
     },
     "execution_count": 5,
     "metadata": {},
     "output_type": "execute_result"
    }
   ],
   "source": [
    "df.head(2)"
   ]
  },
  {
   "cell_type": "code",
   "execution_count": 6,
   "id": "71009bb4",
   "metadata": {},
   "outputs": [],
   "source": [
    "df_s = df.sample(frac=0.10)"
   ]
  },
  {
   "cell_type": "code",
   "execution_count": 7,
   "id": "a854a7ce",
   "metadata": {},
   "outputs": [
    {
     "data": {
      "text/plain": [
       "(64239, 37)"
      ]
     },
     "execution_count": 7,
     "metadata": {},
     "output_type": "execute_result"
    }
   ],
   "source": [
    "df_s.shape"
   ]
  },
  {
   "cell_type": "markdown",
   "id": "52091f7d",
   "metadata": {},
   "source": [
    "## setting variables"
   ]
  },
  {
   "cell_type": "code",
   "execution_count": 8,
   "id": "23ad0d71",
   "metadata": {},
   "outputs": [],
   "source": [
    "# setting X and y variables\n",
    "y = df_s['health'].values\n",
    "X = df_s.drop('health', axis=1).values"
   ]
  },
  {
   "cell_type": "markdown",
   "id": "ae9e8e71",
   "metadata": {},
   "source": [
    "## Random oversampling using imblearn"
   ]
  },
  {
   "cell_type": "code",
   "execution_count": 9,
   "id": "4cd219ea",
   "metadata": {},
   "outputs": [
    {
     "name": "stdout",
     "output_type": "stream",
     "text": [
      "Original dataset shape Counter({'Good': 52091, 'Fair': 9460, 'Poor': 2688})\n",
      "Resample dataset shape Counter({'Poor': 52091, 'Good': 52091, 'Fair': 52091})\n"
     ]
    }
   ],
   "source": [
    "#import library\n",
    "from imblearn.over_sampling import RandomOverSampler\n",
    "from collections import Counter\n",
    "\n",
    "ros = RandomOverSampler(random_state=42)\n",
    "\n",
    "# fit predictor and target varaible\n",
    "X_ros, y_ros = ros.fit_resample(X, y)\n",
    "\n",
    "print('Original dataset shape', Counter(y))\n",
    "print('Resample dataset shape', Counter(y_ros))"
   ]
  },
  {
   "cell_type": "code",
   "execution_count": 10,
   "id": "deb05331",
   "metadata": {},
   "outputs": [
    {
     "name": "stdout",
     "output_type": "stream",
     "text": [
      "(117204, 36) (117204,)\n",
      "(39069, 36) (39069,)\n"
     ]
    }
   ],
   "source": [
    "# train test split\n",
    "X_train_rs, X_test_rs, y_train_rs, y_test_rs = train_test_split(X_ros, y_ros, test_size=0.25, random_state=42)\n",
    "\n",
    "print(X_train_rs.shape, y_train_rs.shape)\n",
    "print(X_test_rs.shape, y_test_rs.shape)"
   ]
  },
  {
   "cell_type": "markdown",
   "id": "56496bc1",
   "metadata": {},
   "source": [
    "#### 4.1.1d Random Forest "
   ]
  },
  {
   "cell_type": "code",
   "execution_count": 13,
   "id": "41cf3180",
   "metadata": {},
   "outputs": [
    {
     "name": "stdout",
     "output_type": "stream",
     "text": [
      "Training Set Accuracy Score:  0.9999914678679909\n",
      "Test Set Accuracy Score:  0.9592771762778673\n",
      "Classification Metrics \n",
      "\n",
      "              precision    recall  f1-score   support\n",
      "\n",
      "        Fair       0.91      0.99      0.95     13085\n",
      "        Good       0.99      0.89      0.94     12899\n",
      "        Poor       0.98      1.00      0.99     13085\n",
      "\n",
      "    accuracy                           0.96     39069\n",
      "   macro avg       0.96      0.96      0.96     39069\n",
      "weighted avg       0.96      0.96      0.96     39069\n",
      "\n"
     ]
    }
   ],
   "source": [
    "from sklearn.ensemble import RandomForestClassifier\n",
    "from sklearn.metrics import classification_report,confusion_matrix\n",
    "\n",
    "rf_rs = RandomForestClassifier(random_state=42)\n",
    "rf_rs.fit(X_train_rs, y_train_rs)\n",
    "y_pred_rs = rf_rs.predict(X_test_rs)\n",
    "    \n",
    "    \n",
    "# accuracy scores\n",
    "print('Training Set Accuracy Score: ', rf_rs.score(X_train_rs, y_train_rs))\n",
    "print('Test Set Accuracy Score: ', rf_rs.score(X_test_rs, y_test_rs))\n",
    "    \n",
    "# classification report\n",
    "print('Classification Metrics \\n')\n",
    "print(classification_report(y_test_rs, y_pred_rs))"
   ]
  },
  {
   "cell_type": "markdown",
   "id": "269c6393",
   "metadata": {},
   "source": [
    "## Cross Validation "
   ]
  },
  {
   "cell_type": "code",
   "execution_count": 13,
   "id": "3081a1de",
   "metadata": {},
   "outputs": [
    {
     "name": "stdout",
     "output_type": "stream",
     "text": [
      "scores for each fold\n",
      "0.9519754768392371\n",
      "0.948058583106267\n",
      "0.9533378746594006\n",
      "0.9534230245231607\n",
      "0.9550408719346049\n",
      "0.9518051771117166\n",
      "0.9503534020267393\n",
      "0.9506088733713702\n",
      "0.955803457378864\n",
      "0.9543557864259559\n"
     ]
    }
   ],
   "source": [
    "#Calculating accuracy score for 10 cross validation folds. \n",
    "from sklearn.model_selection import cross_val_score\n",
    "ac_cv = cross_val_score(estimator=rf_rs, X = X_train_rs, y = y_train_rs, cv=10)\n",
    "print(\"scores for each fold\")\n",
    "for val in ac_cv:\n",
    "    print(val)"
   ]
  },
  {
   "cell_type": "markdown",
   "id": "1eed886d",
   "metadata": {},
   "source": [
    "## Random Search "
   ]
  },
  {
   "cell_type": "code",
   "execution_count": 18,
   "id": "48888190",
   "metadata": {},
   "outputs": [
    {
     "name": "stdout",
     "output_type": "stream",
     "text": [
      "{'bootstrap': [True, False],\n",
      " 'max_depth': [10, 20, 30, 40, 50, 60, 70, 80, 90, 100, 110, None],\n",
      " 'max_features': ['auto', 'sqrt'],\n",
      " 'min_samples_leaf': [1, 2, 4],\n",
      " 'min_samples_split': [2, 5, 10],\n",
      " 'n_estimators': [200, 400, 600, 800, 1000, 1200, 1400, 1600, 1800, 2000]}\n"
     ]
    }
   ],
   "source": [
    "from sklearn.model_selection import RandomizedSearchCV\n",
    "from pprint import pprint\n",
    "\n",
    "# Number of trees in random forest\n",
    "n_estimators = [int(x) for x in np.linspace(start = 200, stop = 2000, num = 10)]\n",
    "\n",
    "# Number of features to consider at every split\n",
    "max_features = ['auto', 'sqrt']\n",
    "\n",
    "# Maximum number of levels in tree\n",
    "max_depth = [int(x) for x in np.linspace(10, 110, num = 11)]\n",
    "max_depth.append(None)\n",
    "\n",
    "# Minimum number of samples required to split a node\n",
    "min_samples_split = [2, 5, 10]\n",
    "\n",
    "# Minimum number of samples required at each leaf node\n",
    "min_samples_leaf = [1, 2, 4]\n",
    "\n",
    "# Method of selecting samples for training each tree\n",
    "bootstrap = [True, False]\n",
    "\n",
    "# Create the random grid\n",
    "random_grid = {'n_estimators': n_estimators,\n",
    "               'max_features': max_features,\n",
    "               'max_depth': max_depth,\n",
    "               'min_samples_split': min_samples_split,\n",
    "               'min_samples_leaf': min_samples_leaf,\n",
    "               'bootstrap': bootstrap}\n",
    "pprint(random_grid)"
   ]
  },
  {
   "cell_type": "code",
   "execution_count": 19,
   "id": "ae913383",
   "metadata": {},
   "outputs": [
    {
     "name": "stdout",
     "output_type": "stream",
     "text": [
      "Fitting 5 folds for each of 10 candidates, totalling 50 fits\n"
     ]
    },
    {
     "data": {
      "text/plain": [
       "RandomizedSearchCV(cv=5, estimator=RandomForestClassifier(random_state=42),\n",
       "                   n_jobs=-1,\n",
       "                   param_distributions={'bootstrap': [True, False],\n",
       "                                        'max_depth': [10, 20, 30, 40, 50, 60,\n",
       "                                                      70, 80, 90, 100, 110,\n",
       "                                                      None],\n",
       "                                        'max_features': ['auto', 'sqrt'],\n",
       "                                        'min_samples_leaf': [1, 2, 4],\n",
       "                                        'min_samples_split': [2, 5, 10],\n",
       "                                        'n_estimators': [200, 400, 600, 800,\n",
       "                                                         1000, 1200, 1400, 1600,\n",
       "                                                         1800, 2000]},\n",
       "                   random_state=42, verbose=2)"
      ]
     },
     "execution_count": 19,
     "metadata": {},
     "output_type": "execute_result"
    }
   ],
   "source": [
    "# Use the random grid to search for best hyperparameters\n",
    "\n",
    "rf_random = RandomizedSearchCV(estimator = rf_rs, param_distributions = random_grid, cv = 5, verbose=2, random_state=42, n_jobs = -1)\n",
    "\n",
    "# Fit the random search model\n",
    "rf_random.fit(X_train_rs, y_train_rs)"
   ]
  },
  {
   "cell_type": "code",
   "execution_count": 20,
   "id": "147f358a",
   "metadata": {},
   "outputs": [
    {
     "data": {
      "text/plain": [
       "{'n_estimators': 1000,\n",
       " 'min_samples_split': 10,\n",
       " 'min_samples_leaf': 1,\n",
       " 'max_features': 'auto',\n",
       " 'max_depth': 80,\n",
       " 'bootstrap': False}"
      ]
     },
     "execution_count": 20,
     "metadata": {},
     "output_type": "execute_result"
    }
   ],
   "source": [
    "rf_random.best_params_"
   ]
  },
  {
   "cell_type": "code",
   "execution_count": 21,
   "id": "d8922375",
   "metadata": {},
   "outputs": [
    {
     "data": {
      "text/plain": [
       "0.9422036913381371"
      ]
     },
     "execution_count": 21,
     "metadata": {},
     "output_type": "execute_result"
    }
   ],
   "source": [
    "rf_random.best_score_"
   ]
  },
  {
   "cell_type": "markdown",
   "id": "06d621f4",
   "metadata": {},
   "source": [
    "##  Grid SearchCV"
   ]
  },
  {
   "cell_type": "code",
   "execution_count": 14,
   "id": "b465e6c1",
   "metadata": {},
   "outputs": [],
   "source": [
    "# defining parameters \n",
    "params = {'n_estimators': [1000],\n",
    " 'min_samples_split': [10],\n",
    " 'min_samples_leaf': [1],\n",
    " 'max_features': ['auto'],\n",
    " 'max_depth': [80],\n",
    " 'bootstrap': [False]}"
   ]
  },
  {
   "cell_type": "code",
   "execution_count": 15,
   "id": "62eab270",
   "metadata": {},
   "outputs": [
    {
     "name": "stdout",
     "output_type": "stream",
     "text": [
      "0.9980461417699055\n",
      "{'bootstrap': False, 'max_depth': 80, 'max_features': 'auto', 'min_samples_leaf': 1, 'min_samples_split': 10, 'n_estimators': 1000}\n",
      "0.9431077625286228\n"
     ]
    }
   ],
   "source": [
    "#Finding the best accuracy score and the best hyperparameter that gives the best result.\n",
    "from sklearn.model_selection import GridSearchCV\n",
    "clf = GridSearchCV(estimator = rf_rs, param_grid = params, cv=5)\n",
    "clf.fit(X_train_rs, y_train_rs)\n",
    "\n",
    "print(clf.score(X_train_rs, y_train_rs))\n",
    "print(clf.best_params_)\n",
    "print(clf.best_score_)"
   ]
  },
  {
   "cell_type": "code",
   "execution_count": null,
   "id": "f663ba1b",
   "metadata": {},
   "outputs": [],
   "source": []
  },
  {
   "cell_type": "code",
   "execution_count": null,
   "id": "abcd52bf",
   "metadata": {},
   "outputs": [],
   "source": []
  },
  {
   "cell_type": "code",
   "execution_count": null,
   "id": "7aa93683",
   "metadata": {},
   "outputs": [],
   "source": []
  },
  {
   "cell_type": "code",
   "execution_count": null,
   "id": "8bfe8db6",
   "metadata": {},
   "outputs": [],
   "source": []
  }
 ],
 "metadata": {
  "kernelspec": {
   "display_name": "Python 3 (ipykernel)",
   "language": "python",
   "name": "python3"
  },
  "language_info": {
   "codemirror_mode": {
    "name": "ipython",
    "version": 3
   },
   "file_extension": ".py",
   "mimetype": "text/x-python",
   "name": "python",
   "nbconvert_exporter": "python",
   "pygments_lexer": "ipython3",
   "version": "3.9.7"
  }
 },
 "nbformat": 4,
 "nbformat_minor": 5
}
