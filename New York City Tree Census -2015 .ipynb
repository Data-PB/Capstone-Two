{
 "cells": [
  {
   "cell_type": "code",
   "execution_count": 1,
   "metadata": {},
   "outputs": [
    {
     "ename": "ModuleNotFoundError",
     "evalue": "No module named 'geopandas'",
     "output_type": "error",
     "traceback": [
      "\u001b[1;31m---------------------------------------------------------------------------\u001b[0m",
      "\u001b[1;31mModuleNotFoundError\u001b[0m                       Traceback (most recent call last)",
      "\u001b[1;32m~\\AppData\\Local\\Temp/ipykernel_13776/3619099796.py\u001b[0m in \u001b[0;36m<module>\u001b[1;34m\u001b[0m\n\u001b[0;32m      2\u001b[0m \u001b[1;32mimport\u001b[0m \u001b[0mmatplotlib\u001b[0m\u001b[1;33m.\u001b[0m\u001b[0mpyplot\u001b[0m \u001b[1;32mas\u001b[0m \u001b[0mplt\u001b[0m\u001b[1;33m\u001b[0m\u001b[1;33m\u001b[0m\u001b[0m\n\u001b[0;32m      3\u001b[0m \u001b[1;32mimport\u001b[0m \u001b[0mnumpy\u001b[0m \u001b[1;32mas\u001b[0m \u001b[0mnp\u001b[0m\u001b[1;33m\u001b[0m\u001b[1;33m\u001b[0m\u001b[0m\n\u001b[1;32m----> 4\u001b[1;33m \u001b[1;32mimport\u001b[0m \u001b[0mgeopandas\u001b[0m \u001b[1;32mas\u001b[0m \u001b[0mgpd\u001b[0m\u001b[1;33m\u001b[0m\u001b[1;33m\u001b[0m\u001b[0m\n\u001b[0m\u001b[0;32m      5\u001b[0m \u001b[1;32mfrom\u001b[0m \u001b[0mshapely\u001b[0m\u001b[1;33m.\u001b[0m\u001b[0mgeometry\u001b[0m \u001b[1;32mimport\u001b[0m \u001b[0mPoint\u001b[0m\u001b[1;33m,\u001b[0m \u001b[0mPolygon\u001b[0m\u001b[1;33m\u001b[0m\u001b[1;33m\u001b[0m\u001b[0m\n",
      "\u001b[1;31mModuleNotFoundError\u001b[0m: No module named 'geopandas'"
     ]
    }
   ],
   "source": [
    "import pandas as pd\n",
    "import matplotlib.pyplot as plt\n",
    "import numpy as np\n",
    "import geopandas as gpd\n",
    "from shapely.geometry import Point, Polygon"
   ]
  },
  {
   "cell_type": "markdown",
   "metadata": {},
   "source": [
    "### Exploratory Data Analysis"
   ]
  },
  {
   "cell_type": "code",
   "execution_count": 2,
   "metadata": {},
   "outputs": [],
   "source": [
    "tree_data = pd.read_csv('2015StreetTreeCensus_TreeData.csv')"
   ]
  },
  {
   "cell_type": "code",
   "execution_count": 3,
   "metadata": {
    "scrolled": true
   },
   "outputs": [
    {
     "data": {
      "text/html": [
       "<div>\n",
       "<style scoped>\n",
       "    .dataframe tbody tr th:only-of-type {\n",
       "        vertical-align: middle;\n",
       "    }\n",
       "\n",
       "    .dataframe tbody tr th {\n",
       "        vertical-align: top;\n",
       "    }\n",
       "\n",
       "    .dataframe thead th {\n",
       "        text-align: right;\n",
       "    }\n",
       "</style>\n",
       "<table border=\"1\" class=\"dataframe\">\n",
       "  <thead>\n",
       "    <tr style=\"text-align: right;\">\n",
       "      <th></th>\n",
       "      <th>tree_id</th>\n",
       "      <th>block_id</th>\n",
       "      <th>created_at</th>\n",
       "      <th>tree_dbh</th>\n",
       "      <th>stump_diam</th>\n",
       "      <th>curb_loc</th>\n",
       "      <th>status</th>\n",
       "      <th>health</th>\n",
       "      <th>spc_latin</th>\n",
       "      <th>spc_common</th>\n",
       "      <th>...</th>\n",
       "      <th>boro_ct</th>\n",
       "      <th>state</th>\n",
       "      <th>latitude</th>\n",
       "      <th>longitude</th>\n",
       "      <th>x_sp</th>\n",
       "      <th>y_sp</th>\n",
       "      <th>council district</th>\n",
       "      <th>census tract</th>\n",
       "      <th>bin</th>\n",
       "      <th>bbl</th>\n",
       "    </tr>\n",
       "  </thead>\n",
       "  <tbody>\n",
       "    <tr>\n",
       "      <th>0</th>\n",
       "      <td>180683</td>\n",
       "      <td>348711</td>\n",
       "      <td>8/27/2015</td>\n",
       "      <td>3</td>\n",
       "      <td>0</td>\n",
       "      <td>OnCurb</td>\n",
       "      <td>Alive</td>\n",
       "      <td>Fair</td>\n",
       "      <td>Acer rubrum</td>\n",
       "      <td>red maple</td>\n",
       "      <td>...</td>\n",
       "      <td>4073900</td>\n",
       "      <td>New York</td>\n",
       "      <td>40.723092</td>\n",
       "      <td>-73.844215</td>\n",
       "      <td>1027431.148</td>\n",
       "      <td>202756.7687</td>\n",
       "      <td>29.0</td>\n",
       "      <td>739.0</td>\n",
       "      <td>4052307.0</td>\n",
       "      <td>4.022210e+09</td>\n",
       "    </tr>\n",
       "    <tr>\n",
       "      <th>1</th>\n",
       "      <td>200540</td>\n",
       "      <td>315986</td>\n",
       "      <td>9/3/2015</td>\n",
       "      <td>21</td>\n",
       "      <td>0</td>\n",
       "      <td>OnCurb</td>\n",
       "      <td>Alive</td>\n",
       "      <td>Fair</td>\n",
       "      <td>Quercus palustris</td>\n",
       "      <td>pin oak</td>\n",
       "      <td>...</td>\n",
       "      <td>4097300</td>\n",
       "      <td>New York</td>\n",
       "      <td>40.794111</td>\n",
       "      <td>-73.818679</td>\n",
       "      <td>1034455.701</td>\n",
       "      <td>228644.8374</td>\n",
       "      <td>19.0</td>\n",
       "      <td>973.0</td>\n",
       "      <td>4101931.0</td>\n",
       "      <td>4.044750e+09</td>\n",
       "    </tr>\n",
       "    <tr>\n",
       "      <th>2</th>\n",
       "      <td>204026</td>\n",
       "      <td>218365</td>\n",
       "      <td>9/5/2015</td>\n",
       "      <td>3</td>\n",
       "      <td>0</td>\n",
       "      <td>OnCurb</td>\n",
       "      <td>Alive</td>\n",
       "      <td>Good</td>\n",
       "      <td>Gleditsia triacanthos var. inermis</td>\n",
       "      <td>honeylocust</td>\n",
       "      <td>...</td>\n",
       "      <td>3044900</td>\n",
       "      <td>New York</td>\n",
       "      <td>40.717581</td>\n",
       "      <td>-73.936608</td>\n",
       "      <td>1001822.831</td>\n",
       "      <td>200716.8913</td>\n",
       "      <td>34.0</td>\n",
       "      <td>449.0</td>\n",
       "      <td>3338310.0</td>\n",
       "      <td>3.028870e+09</td>\n",
       "    </tr>\n",
       "  </tbody>\n",
       "</table>\n",
       "<p>3 rows × 45 columns</p>\n",
       "</div>"
      ],
      "text/plain": [
       "   tree_id  block_id created_at  tree_dbh  stump_diam curb_loc status health  \\\n",
       "0   180683    348711  8/27/2015         3           0   OnCurb  Alive   Fair   \n",
       "1   200540    315986   9/3/2015        21           0   OnCurb  Alive   Fair   \n",
       "2   204026    218365   9/5/2015         3           0   OnCurb  Alive   Good   \n",
       "\n",
       "                            spc_latin   spc_common  ...  boro_ct     state  \\\n",
       "0                         Acer rubrum    red maple  ...  4073900  New York   \n",
       "1                   Quercus palustris      pin oak  ...  4097300  New York   \n",
       "2  Gleditsia triacanthos var. inermis  honeylocust  ...  3044900  New York   \n",
       "\n",
       "    latitude  longitude         x_sp         y_sp council district  \\\n",
       "0  40.723092 -73.844215  1027431.148  202756.7687             29.0   \n",
       "1  40.794111 -73.818679  1034455.701  228644.8374             19.0   \n",
       "2  40.717581 -73.936608  1001822.831  200716.8913             34.0   \n",
       "\n",
       "  census tract        bin           bbl  \n",
       "0        739.0  4052307.0  4.022210e+09  \n",
       "1        973.0  4101931.0  4.044750e+09  \n",
       "2        449.0  3338310.0  3.028870e+09  \n",
       "\n",
       "[3 rows x 45 columns]"
      ]
     },
     "execution_count": 3,
     "metadata": {},
     "output_type": "execute_result"
    }
   ],
   "source": [
    "#printing sample dataset\n",
    "tree_data.head(3)"
   ]
  },
  {
   "cell_type": "code",
   "execution_count": 4,
   "metadata": {},
   "outputs": [
    {
     "data": {
      "text/plain": [
       "(683788, 45)"
      ]
     },
     "execution_count": 4,
     "metadata": {},
     "output_type": "execute_result"
    }
   ],
   "source": [
    "# printing the shape of original data\n",
    "tree_data.shape"
   ]
  },
  {
   "cell_type": "code",
   "execution_count": 5,
   "metadata": {},
   "outputs": [
    {
     "name": "stdout",
     "output_type": "stream",
     "text": [
      "<class 'pandas.core.frame.DataFrame'>\n",
      "RangeIndex: 683788 entries, 0 to 683787\n",
      "Data columns (total 45 columns):\n",
      " #   Column            Non-Null Count   Dtype  \n",
      "---  ------            --------------   -----  \n",
      " 0   tree_id           683788 non-null  int64  \n",
      " 1   block_id          683788 non-null  int64  \n",
      " 2   created_at        683788 non-null  object \n",
      " 3   tree_dbh          683788 non-null  int64  \n",
      " 4   stump_diam        683788 non-null  int64  \n",
      " 5   curb_loc          683788 non-null  object \n",
      " 6   status            683788 non-null  object \n",
      " 7   health            652172 non-null  object \n",
      " 8   spc_latin         652169 non-null  object \n",
      " 9   spc_common        652169 non-null  object \n",
      " 10  steward           652173 non-null  object \n",
      " 11  guards            652172 non-null  object \n",
      " 12  sidewalk          652172 non-null  object \n",
      " 13  user_type         683788 non-null  object \n",
      " 14  problems          652124 non-null  object \n",
      " 15  root_stone        683788 non-null  object \n",
      " 16  root_grate        683788 non-null  object \n",
      " 17  root_other        683788 non-null  object \n",
      " 18  trunk_wire        683788 non-null  object \n",
      " 19  trnk_light        683788 non-null  object \n",
      " 20  trnk_other        683788 non-null  object \n",
      " 21  brch_light        683788 non-null  object \n",
      " 22  brch_shoe         683788 non-null  object \n",
      " 23  brch_other        683788 non-null  object \n",
      " 24  address           683788 non-null  object \n",
      " 25  postcode          683788 non-null  int64  \n",
      " 26  zip_city          683788 non-null  object \n",
      " 27  community board   683788 non-null  int64  \n",
      " 28  borocode          683788 non-null  int64  \n",
      " 29  borough           683788 non-null  object \n",
      " 30  cncldist          683788 non-null  int64  \n",
      " 31  st_assem          683788 non-null  int64  \n",
      " 32  st_senate         683788 non-null  int64  \n",
      " 33  nta               683788 non-null  object \n",
      " 34  nta_name          683788 non-null  object \n",
      " 35  boro_ct           683788 non-null  int64  \n",
      " 36  state             683788 non-null  object \n",
      " 37  latitude          683788 non-null  float64\n",
      " 38  longitude         683788 non-null  float64\n",
      " 39  x_sp              683788 non-null  float64\n",
      " 40  y_sp              683788 non-null  float64\n",
      " 41  council district  677269 non-null  float64\n",
      " 42  census tract      677269 non-null  float64\n",
      " 43  bin               674229 non-null  float64\n",
      " 44  bbl               674229 non-null  float64\n",
      "dtypes: float64(8), int64(11), object(26)\n",
      "memory usage: 234.8+ MB\n"
     ]
    }
   ],
   "source": [
    "tree_data.info()"
   ]
  },
  {
   "cell_type": "markdown",
   "metadata": {},
   "source": [
    "#### Getting to know the Dataset"
   ]
  },
  {
   "cell_type": "code",
   "execution_count": 6,
   "metadata": {},
   "outputs": [
    {
     "name": "stdout",
     "output_type": "stream",
     "text": [
      "Unique location of the tree: ['OnCurb' 'OffsetFromCurb']\n"
     ]
    }
   ],
   "source": [
    "# To get unique values in curb_loc\n",
    "print(f\"Unique location of the tree: {tree_data['curb_loc'].unique()}\")"
   ]
  },
  {
   "cell_type": "code",
   "execution_count": 7,
   "metadata": {},
   "outputs": [
    {
     "name": "stdout",
     "output_type": "stream",
     "text": [
      "Status of Tree: ['Alive' 'Stump' 'Dead']\n"
     ]
    }
   ],
   "source": [
    "# To get unique values in curb_loc\n",
    "print(f\"Status of Tree: {tree_data['status'].unique()}\")"
   ]
  },
  {
   "cell_type": "code",
   "execution_count": 8,
   "metadata": {},
   "outputs": [
    {
     "data": {
      "text/plain": [
       "status\n",
       "Alive    652173\n",
       "Dead      13961\n",
       "Stump     17654\n",
       "dtype: int64"
      ]
     },
     "execution_count": 8,
     "metadata": {},
     "output_type": "execute_result"
    }
   ],
   "source": [
    "# size of each group\n",
    "tree_status = tree_data.groupby('status').size()\n",
    "tree_status"
   ]
  },
  {
   "cell_type": "code",
   "execution_count": 9,
   "metadata": {},
   "outputs": [
    {
     "name": "stdout",
     "output_type": "stream",
     "text": [
      "Health of Tree: ['Fair' 'Good' 'Poor' nan]\n"
     ]
    }
   ],
   "source": [
    "# To get unique values in curb_loc\n",
    "print(f\"Health of Tree: {tree_data['health'].unique()}\")"
   ]
  },
  {
   "cell_type": "code",
   "execution_count": 10,
   "metadata": {},
   "outputs": [
    {
     "name": "stdout",
     "output_type": "stream",
     "text": [
      "Number of zipcodes: 191\n"
     ]
    }
   ],
   "source": [
    "# To get unique values in curb_loc\n",
    "print(f\"Number of zipcodes: {len(tree_data['postcode'].unique())}\")"
   ]
  },
  {
   "cell_type": "code",
   "execution_count": 11,
   "metadata": {},
   "outputs": [
    {
     "data": {
      "text/plain": [
       "health\n",
       "Fair     96504\n",
       "Good    528850\n",
       "Poor     26818\n",
       "dtype: int64"
      ]
     },
     "execution_count": 11,
     "metadata": {},
     "output_type": "execute_result"
    }
   ],
   "source": [
    "# size of each group\n",
    "tree_health = tree_data.groupby('health').size()\n",
    "tree_health"
   ]
  },
  {
   "cell_type": "markdown",
   "metadata": {},
   "source": [
    "### Handling missing values"
   ]
  },
  {
   "cell_type": "code",
   "execution_count": 12,
   "metadata": {},
   "outputs": [
    {
     "name": "stdout",
     "output_type": "stream",
     "text": [
      " \n",
      "Count total NaN at each column in a DataFrame : \n",
      "\n",
      " tree_id                 0\n",
      "block_id                0\n",
      "created_at              0\n",
      "tree_dbh                0\n",
      "stump_diam              0\n",
      "curb_loc                0\n",
      "status                  0\n",
      "health              31616\n",
      "spc_latin           31619\n",
      "spc_common          31619\n",
      "steward             31615\n",
      "guards              31616\n",
      "sidewalk            31616\n",
      "user_type               0\n",
      "problems            31664\n",
      "root_stone              0\n",
      "root_grate              0\n",
      "root_other              0\n",
      "trunk_wire              0\n",
      "trnk_light              0\n",
      "trnk_other              0\n",
      "brch_light              0\n",
      "brch_shoe               0\n",
      "brch_other              0\n",
      "address                 0\n",
      "postcode                0\n",
      "zip_city                0\n",
      "community board         0\n",
      "borocode                0\n",
      "borough                 0\n",
      "cncldist                0\n",
      "st_assem                0\n",
      "st_senate               0\n",
      "nta                     0\n",
      "nta_name                0\n",
      "boro_ct                 0\n",
      "state                   0\n",
      "latitude                0\n",
      "longitude               0\n",
      "x_sp                    0\n",
      "y_sp                    0\n",
      "council district     6519\n",
      "census tract         6519\n",
      "bin                  9559\n",
      "bbl                  9559\n",
      "dtype: int64\n"
     ]
    }
   ],
   "source": [
    "# Count total NaN at each column in a DataFrame\n",
    "print(\" \\nCount total NaN at each column in a DataFrame : \\n\\n\",\n",
    "tree_data.isnull().sum())"
   ]
  },
  {
   "cell_type": "code",
   "execution_count": 13,
   "metadata": {},
   "outputs": [],
   "source": [
    "data = tree_data.dropna(axis = 0, how ='any')"
   ]
  },
  {
   "cell_type": "markdown",
   "metadata": {},
   "source": [
    "The NaN values were dropped from the dataset. 31664 rows were for stump or dead trees. It makes sense to remove them from the dataset as the tree does not exist anymore. Remaining 9559 datapoints that were missing location data were removed."
   ]
  },
  {
   "cell_type": "code",
   "execution_count": 14,
   "metadata": {},
   "outputs": [
    {
     "data": {
      "text/plain": [
       "(642961, 45)"
      ]
     },
     "execution_count": 14,
     "metadata": {},
     "output_type": "execute_result"
    }
   ],
   "source": [
    "# shape of data after removing NaN values\n",
    "data.shape"
   ]
  },
  {
   "cell_type": "markdown",
   "metadata": {},
   "source": [
    "### Handling duplicate values "
   ]
  },
  {
   "cell_type": "code",
   "execution_count": 15,
   "metadata": {},
   "outputs": [
    {
     "name": "stdout",
     "output_type": "stream",
     "text": [
      "0\n"
     ]
    },
    {
     "data": {
      "text/html": [
       "<div>\n",
       "<style scoped>\n",
       "    .dataframe tbody tr th:only-of-type {\n",
       "        vertical-align: middle;\n",
       "    }\n",
       "\n",
       "    .dataframe tbody tr th {\n",
       "        vertical-align: top;\n",
       "    }\n",
       "\n",
       "    .dataframe thead th {\n",
       "        text-align: right;\n",
       "    }\n",
       "</style>\n",
       "<table border=\"1\" class=\"dataframe\">\n",
       "  <thead>\n",
       "    <tr style=\"text-align: right;\">\n",
       "      <th></th>\n",
       "      <th>tree_id</th>\n",
       "      <th>block_id</th>\n",
       "      <th>created_at</th>\n",
       "      <th>tree_dbh</th>\n",
       "      <th>stump_diam</th>\n",
       "      <th>curb_loc</th>\n",
       "      <th>status</th>\n",
       "      <th>health</th>\n",
       "      <th>spc_latin</th>\n",
       "      <th>spc_common</th>\n",
       "      <th>...</th>\n",
       "      <th>boro_ct</th>\n",
       "      <th>state</th>\n",
       "      <th>latitude</th>\n",
       "      <th>longitude</th>\n",
       "      <th>x_sp</th>\n",
       "      <th>y_sp</th>\n",
       "      <th>council district</th>\n",
       "      <th>census tract</th>\n",
       "      <th>bin</th>\n",
       "      <th>bbl</th>\n",
       "    </tr>\n",
       "  </thead>\n",
       "  <tbody>\n",
       "  </tbody>\n",
       "</table>\n",
       "<p>0 rows × 45 columns</p>\n",
       "</div>"
      ],
      "text/plain": [
       "Empty DataFrame\n",
       "Columns: [tree_id, block_id, created_at, tree_dbh, stump_diam, curb_loc, status, health, spc_latin, spc_common, steward, guards, sidewalk, user_type, problems, root_stone, root_grate, root_other, trunk_wire, trnk_light, trnk_other, brch_light, brch_shoe, brch_other, address, postcode, zip_city, community board, borocode, borough, cncldist, st_assem, st_senate, nta, nta_name, boro_ct, state, latitude, longitude, x_sp, y_sp, council district, census tract, bin, bbl]\n",
       "Index: []\n",
       "\n",
       "[0 rows x 45 columns]"
      ]
     },
     "execution_count": 15,
     "metadata": {},
     "output_type": "execute_result"
    }
   ],
   "source": [
    "duplicate = data.duplicated()\n",
    "print(duplicate.sum())\n",
    "data[duplicate]"
   ]
  },
  {
   "cell_type": "markdown",
   "metadata": {},
   "source": [
    "There is no duplicate value in the data. "
   ]
  },
  {
   "cell_type": "markdown",
   "metadata": {},
   "source": [
    "### Handling outliers"
   ]
  },
  {
   "cell_type": "code",
   "execution_count": 16,
   "metadata": {},
   "outputs": [],
   "source": [
    "# Possibility of having outliers is in columns -  Diameter at breast height of tree and Diameter of stump"
   ]
  },
  {
   "cell_type": "code",
   "execution_count": 17,
   "metadata": {},
   "outputs": [
    {
     "data": {
      "image/png": "[encoded data removed]",
      "text/plain": [
       "<Figure size 432x288 with 1 Axes>"
      ]
     },
     "metadata": {
      "needs_background": "light"
     },
     "output_type": "display_data"
    }
   ],
   "source": [
    "data.boxplot(column =['tree_dbh'])\n",
    "plt.show()"
   ]
  },
  {
   "cell_type": "code",
   "execution_count": 18,
   "metadata": {},
   "outputs": [
    {
     "data": {
      "text/plain": [
       "count    642961.000000\n",
       "mean         11.721552\n",
       "std           8.641866\n",
       "min           0.000000\n",
       "25%           5.000000\n",
       "50%          10.000000\n",
       "75%          16.000000\n",
       "max         425.000000\n",
       "Name: tree_dbh, dtype: float64"
      ]
     },
     "execution_count": 18,
     "metadata": {},
     "output_type": "execute_result"
    }
   ],
   "source": [
    "data['tree_dbh'].describe()"
   ]
  },
  {
   "cell_type": "markdown",
   "metadata": {},
   "source": [
    "The diameter breast at height from tree has a wide range. Removing ouliers is not a right approach. As the diameter of a tree would probably depend on its age. Ther might be some trees that are older and so have diameter more than 75th percentile  "
   ]
  },
  {
   "cell_type": "markdown",
   "metadata": {},
   "source": [
    "### Other columns of interest"
   ]
  },
  {
   "cell_type": "code",
   "execution_count": null,
   "metadata": {},
   "outputs": [],
   "source": []
  },
  {
   "cell_type": "code",
   "execution_count": null,
   "metadata": {},
   "outputs": [],
   "source": []
  },
  {
   "cell_type": "markdown",
   "metadata": {},
   "source": [
    "### Empirical Cumulative Distribution Function - ECDF"
   ]
  },
  {
   "cell_type": "code",
   "execution_count": 19,
   "metadata": {},
   "outputs": [],
   "source": [
    "def ecdf(data):\n",
    "    \"\"\"Compute ECDF for a one-dimensional array of measurements.\"\"\"\n",
    "    # Number of data points: n\n",
    "    n = len(data)\n",
    "\n",
    "    # x-data for the ECDF: x\n",
    "    x = np.sort(data)\n",
    "\n",
    "    # y-data for the ECDF: y\n",
    "    y = np.arange(1, n+1) / n\n",
    "\n",
    "    return x, y"
   ]
  },
  {
   "cell_type": "code",
   "execution_count": 20,
   "metadata": {},
   "outputs": [
    {
     "data": {
      "text/html": [
       "<div>\n",
       "<style scoped>\n",
       "    .dataframe tbody tr th:only-of-type {\n",
       "        vertical-align: middle;\n",
       "    }\n",
       "\n",
       "    .dataframe tbody tr th {\n",
       "        vertical-align: top;\n",
       "    }\n",
       "\n",
       "    .dataframe thead th {\n",
       "        text-align: right;\n",
       "    }\n",
       "</style>\n",
       "<table border=\"1\" class=\"dataframe\">\n",
       "  <thead>\n",
       "    <tr style=\"text-align: right;\">\n",
       "      <th></th>\n",
       "      <th>tree_id</th>\n",
       "      <th>block_id</th>\n",
       "      <th>created_at</th>\n",
       "      <th>tree_dbh</th>\n",
       "      <th>stump_diam</th>\n",
       "      <th>curb_loc</th>\n",
       "      <th>status</th>\n",
       "      <th>health</th>\n",
       "      <th>spc_latin</th>\n",
       "      <th>spc_common</th>\n",
       "      <th>...</th>\n",
       "      <th>boro_ct</th>\n",
       "      <th>state</th>\n",
       "      <th>latitude</th>\n",
       "      <th>longitude</th>\n",
       "      <th>x_sp</th>\n",
       "      <th>y_sp</th>\n",
       "      <th>council district</th>\n",
       "      <th>census tract</th>\n",
       "      <th>bin</th>\n",
       "      <th>bbl</th>\n",
       "    </tr>\n",
       "  </thead>\n",
       "  <tbody>\n",
       "    <tr>\n",
       "      <th>0</th>\n",
       "      <td>180683</td>\n",
       "      <td>348711</td>\n",
       "      <td>8/27/2015</td>\n",
       "      <td>3</td>\n",
       "      <td>0</td>\n",
       "      <td>OnCurb</td>\n",
       "      <td>Alive</td>\n",
       "      <td>Fair</td>\n",
       "      <td>Acer rubrum</td>\n",
       "      <td>red maple</td>\n",
       "      <td>...</td>\n",
       "      <td>4073900</td>\n",
       "      <td>New York</td>\n",
       "      <td>40.723092</td>\n",
       "      <td>-73.844215</td>\n",
       "      <td>1027431.148</td>\n",
       "      <td>202756.7687</td>\n",
       "      <td>29.0</td>\n",
       "      <td>739.0</td>\n",
       "      <td>4052307.0</td>\n",
       "      <td>4.022210e+09</td>\n",
       "    </tr>\n",
       "    <tr>\n",
       "      <th>1</th>\n",
       "      <td>200540</td>\n",
       "      <td>315986</td>\n",
       "      <td>9/3/2015</td>\n",
       "      <td>21</td>\n",
       "      <td>0</td>\n",
       "      <td>OnCurb</td>\n",
       "      <td>Alive</td>\n",
       "      <td>Fair</td>\n",
       "      <td>Quercus palustris</td>\n",
       "      <td>pin oak</td>\n",
       "      <td>...</td>\n",
       "      <td>4097300</td>\n",
       "      <td>New York</td>\n",
       "      <td>40.794111</td>\n",
       "      <td>-73.818679</td>\n",
       "      <td>1034455.701</td>\n",
       "      <td>228644.8374</td>\n",
       "      <td>19.0</td>\n",
       "      <td>973.0</td>\n",
       "      <td>4101931.0</td>\n",
       "      <td>4.044750e+09</td>\n",
       "    </tr>\n",
       "    <tr>\n",
       "      <th>2</th>\n",
       "      <td>204026</td>\n",
       "      <td>218365</td>\n",
       "      <td>9/5/2015</td>\n",
       "      <td>3</td>\n",
       "      <td>0</td>\n",
       "      <td>OnCurb</td>\n",
       "      <td>Alive</td>\n",
       "      <td>Good</td>\n",
       "      <td>Gleditsia triacanthos var. inermis</td>\n",
       "      <td>honeylocust</td>\n",
       "      <td>...</td>\n",
       "      <td>3044900</td>\n",
       "      <td>New York</td>\n",
       "      <td>40.717581</td>\n",
       "      <td>-73.936608</td>\n",
       "      <td>1001822.831</td>\n",
       "      <td>200716.8913</td>\n",
       "      <td>34.0</td>\n",
       "      <td>449.0</td>\n",
       "      <td>3338310.0</td>\n",
       "      <td>3.028870e+09</td>\n",
       "    </tr>\n",
       "    <tr>\n",
       "      <th>3</th>\n",
       "      <td>204337</td>\n",
       "      <td>217969</td>\n",
       "      <td>9/5/2015</td>\n",
       "      <td>10</td>\n",
       "      <td>0</td>\n",
       "      <td>OnCurb</td>\n",
       "      <td>Alive</td>\n",
       "      <td>Good</td>\n",
       "      <td>Gleditsia triacanthos var. inermis</td>\n",
       "      <td>honeylocust</td>\n",
       "      <td>...</td>\n",
       "      <td>3044900</td>\n",
       "      <td>New York</td>\n",
       "      <td>40.713537</td>\n",
       "      <td>-73.934456</td>\n",
       "      <td>1002420.358</td>\n",
       "      <td>199244.2531</td>\n",
       "      <td>34.0</td>\n",
       "      <td>449.0</td>\n",
       "      <td>3338342.0</td>\n",
       "      <td>3.029250e+09</td>\n",
       "    </tr>\n",
       "    <tr>\n",
       "      <th>4</th>\n",
       "      <td>189565</td>\n",
       "      <td>223043</td>\n",
       "      <td>8/30/2015</td>\n",
       "      <td>21</td>\n",
       "      <td>0</td>\n",
       "      <td>OnCurb</td>\n",
       "      <td>Alive</td>\n",
       "      <td>Good</td>\n",
       "      <td>Tilia americana</td>\n",
       "      <td>American linden</td>\n",
       "      <td>...</td>\n",
       "      <td>3016500</td>\n",
       "      <td>New York</td>\n",
       "      <td>40.666778</td>\n",
       "      <td>-73.975979</td>\n",
       "      <td>990913.775</td>\n",
       "      <td>182202.4260</td>\n",
       "      <td>39.0</td>\n",
       "      <td>165.0</td>\n",
       "      <td>3025654.0</td>\n",
       "      <td>3.010850e+09</td>\n",
       "    </tr>\n",
       "  </tbody>\n",
       "</table>\n",
       "<p>5 rows × 45 columns</p>\n",
       "</div>"
      ],
      "text/plain": [
       "   tree_id  block_id created_at  tree_dbh  stump_diam curb_loc status health  \\\n",
       "0   180683    348711  8/27/2015         3           0   OnCurb  Alive   Fair   \n",
       "1   200540    315986   9/3/2015        21           0   OnCurb  Alive   Fair   \n",
       "2   204026    218365   9/5/2015         3           0   OnCurb  Alive   Good   \n",
       "3   204337    217969   9/5/2015        10           0   OnCurb  Alive   Good   \n",
       "4   189565    223043  8/30/2015        21           0   OnCurb  Alive   Good   \n",
       "\n",
       "                            spc_latin       spc_common  ...  boro_ct  \\\n",
       "0                         Acer rubrum        red maple  ...  4073900   \n",
       "1                   Quercus palustris          pin oak  ...  4097300   \n",
       "2  Gleditsia triacanthos var. inermis      honeylocust  ...  3044900   \n",
       "3  Gleditsia triacanthos var. inermis      honeylocust  ...  3044900   \n",
       "4                     Tilia americana  American linden  ...  3016500   \n",
       "\n",
       "      state   latitude  longitude         x_sp         y_sp council district  \\\n",
       "0  New York  40.723092 -73.844215  1027431.148  202756.7687             29.0   \n",
       "1  New York  40.794111 -73.818679  1034455.701  228644.8374             19.0   \n",
       "2  New York  40.717581 -73.936608  1001822.831  200716.8913             34.0   \n",
       "3  New York  40.713537 -73.934456  1002420.358  199244.2531             34.0   \n",
       "4  New York  40.666778 -73.975979   990913.775  182202.4260             39.0   \n",
       "\n",
       "  census tract        bin           bbl  \n",
       "0        739.0  4052307.0  4.022210e+09  \n",
       "1        973.0  4101931.0  4.044750e+09  \n",
       "2        449.0  3338310.0  3.028870e+09  \n",
       "3        449.0  3338342.0  3.029250e+09  \n",
       "4        165.0  3025654.0  3.010850e+09  \n",
       "\n",
       "[5 rows x 45 columns]"
      ]
     },
     "execution_count": 20,
     "metadata": {},
     "output_type": "execute_result"
    }
   ],
   "source": [
    "data.head()"
   ]
  },
  {
   "cell_type": "code",
   "execution_count": 21,
   "metadata": {},
   "outputs": [],
   "source": [
    "#subsetting data containing columns of interest\n",
    "tree_dbh_data = data[['health','tree_dbh']]"
   ]
  },
  {
   "cell_type": "code",
   "execution_count": 22,
   "metadata": {},
   "outputs": [],
   "source": [
    "fair_tree_dbh = tree_dbh_data[(tree_dbh_data['health'] == 'Fair')]"
   ]
  },
  {
   "cell_type": "code",
   "execution_count": 23,
   "metadata": {},
   "outputs": [
    {
     "data": {
      "text/html": [
       "<div>\n",
       "<style scoped>\n",
       "    .dataframe tbody tr th:only-of-type {\n",
       "        vertical-align: middle;\n",
       "    }\n",
       "\n",
       "    .dataframe tbody tr th {\n",
       "        vertical-align: top;\n",
       "    }\n",
       "\n",
       "    .dataframe thead th {\n",
       "        text-align: right;\n",
       "    }\n",
       "</style>\n",
       "<table border=\"1\" class=\"dataframe\">\n",
       "  <thead>\n",
       "    <tr style=\"text-align: right;\">\n",
       "      <th></th>\n",
       "      <th>health</th>\n",
       "      <th>tree_dbh</th>\n",
       "    </tr>\n",
       "  </thead>\n",
       "  <tbody>\n",
       "    <tr>\n",
       "      <th>0</th>\n",
       "      <td>Fair</td>\n",
       "      <td>3</td>\n",
       "    </tr>\n",
       "    <tr>\n",
       "      <th>1</th>\n",
       "      <td>Fair</td>\n",
       "      <td>21</td>\n",
       "    </tr>\n",
       "    <tr>\n",
       "      <th>9</th>\n",
       "      <td>Fair</td>\n",
       "      <td>21</td>\n",
       "    </tr>\n",
       "    <tr>\n",
       "      <th>12</th>\n",
       "      <td>Fair</td>\n",
       "      <td>13</td>\n",
       "    </tr>\n",
       "    <tr>\n",
       "      <th>14</th>\n",
       "      <td>Fair</td>\n",
       "      <td>30</td>\n",
       "    </tr>\n",
       "  </tbody>\n",
       "</table>\n",
       "</div>"
      ],
      "text/plain": [
       "   health  tree_dbh\n",
       "0    Fair         3\n",
       "1    Fair        21\n",
       "9    Fair        21\n",
       "12   Fair        13\n",
       "14   Fair        30"
      ]
     },
     "execution_count": 23,
     "metadata": {},
     "output_type": "execute_result"
    }
   ],
   "source": [
    "fair_tree_dbh.head()"
   ]
  },
  {
   "cell_type": "code",
   "execution_count": 24,
   "metadata": {},
   "outputs": [],
   "source": [
    "fair_tree_dbh = fair_tree_dbh['tree_dbh']"
   ]
  },
  {
   "cell_type": "code",
   "execution_count": 25,
   "metadata": {},
   "outputs": [],
   "source": [
    "good_tree_dbh = tree_dbh_data[(tree_dbh_data['health'] == 'Good')]"
   ]
  },
  {
   "cell_type": "code",
   "execution_count": 26,
   "metadata": {},
   "outputs": [
    {
     "data": {
      "text/html": [
       "<div>\n",
       "<style scoped>\n",
       "    .dataframe tbody tr th:only-of-type {\n",
       "        vertical-align: middle;\n",
       "    }\n",
       "\n",
       "    .dataframe tbody tr th {\n",
       "        vertical-align: top;\n",
       "    }\n",
       "\n",
       "    .dataframe thead th {\n",
       "        text-align: right;\n",
       "    }\n",
       "</style>\n",
       "<table border=\"1\" class=\"dataframe\">\n",
       "  <thead>\n",
       "    <tr style=\"text-align: right;\">\n",
       "      <th></th>\n",
       "      <th>health</th>\n",
       "      <th>tree_dbh</th>\n",
       "    </tr>\n",
       "  </thead>\n",
       "  <tbody>\n",
       "    <tr>\n",
       "      <th>2</th>\n",
       "      <td>Good</td>\n",
       "      <td>3</td>\n",
       "    </tr>\n",
       "    <tr>\n",
       "      <th>3</th>\n",
       "      <td>Good</td>\n",
       "      <td>10</td>\n",
       "    </tr>\n",
       "    <tr>\n",
       "      <th>4</th>\n",
       "      <td>Good</td>\n",
       "      <td>21</td>\n",
       "    </tr>\n",
       "    <tr>\n",
       "      <th>5</th>\n",
       "      <td>Good</td>\n",
       "      <td>11</td>\n",
       "    </tr>\n",
       "    <tr>\n",
       "      <th>6</th>\n",
       "      <td>Good</td>\n",
       "      <td>11</td>\n",
       "    </tr>\n",
       "  </tbody>\n",
       "</table>\n",
       "</div>"
      ],
      "text/plain": [
       "  health  tree_dbh\n",
       "2   Good         3\n",
       "3   Good        10\n",
       "4   Good        21\n",
       "5   Good        11\n",
       "6   Good        11"
      ]
     },
     "execution_count": 26,
     "metadata": {},
     "output_type": "execute_result"
    }
   ],
   "source": [
    "good_tree_dbh.head(5)"
   ]
  },
  {
   "cell_type": "code",
   "execution_count": 27,
   "metadata": {},
   "outputs": [],
   "source": [
    "good_tree_dbh = good_tree_dbh['tree_dbh']"
   ]
  },
  {
   "cell_type": "code",
   "execution_count": 28,
   "metadata": {},
   "outputs": [],
   "source": [
    "poor_tree_dbh = tree_dbh_data[(tree_dbh_data['health'] == 'Poor')]"
   ]
  },
  {
   "cell_type": "code",
   "execution_count": 29,
   "metadata": {},
   "outputs": [
    {
     "data": {
      "text/html": [
       "<div>\n",
       "<style scoped>\n",
       "    .dataframe tbody tr th:only-of-type {\n",
       "        vertical-align: middle;\n",
       "    }\n",
       "\n",
       "    .dataframe tbody tr th {\n",
       "        vertical-align: top;\n",
       "    }\n",
       "\n",
       "    .dataframe thead th {\n",
       "        text-align: right;\n",
       "    }\n",
       "</style>\n",
       "<table border=\"1\" class=\"dataframe\">\n",
       "  <thead>\n",
       "    <tr style=\"text-align: right;\">\n",
       "      <th></th>\n",
       "      <th>health</th>\n",
       "      <th>tree_dbh</th>\n",
       "    </tr>\n",
       "  </thead>\n",
       "  <tbody>\n",
       "    <tr>\n",
       "      <th>11</th>\n",
       "      <td>Poor</td>\n",
       "      <td>8</td>\n",
       "    </tr>\n",
       "    <tr>\n",
       "      <th>73</th>\n",
       "      <td>Poor</td>\n",
       "      <td>5</td>\n",
       "    </tr>\n",
       "    <tr>\n",
       "      <th>85</th>\n",
       "      <td>Poor</td>\n",
       "      <td>3</td>\n",
       "    </tr>\n",
       "    <tr>\n",
       "      <th>88</th>\n",
       "      <td>Poor</td>\n",
       "      <td>3</td>\n",
       "    </tr>\n",
       "    <tr>\n",
       "      <th>140</th>\n",
       "      <td>Poor</td>\n",
       "      <td>3</td>\n",
       "    </tr>\n",
       "  </tbody>\n",
       "</table>\n",
       "</div>"
      ],
      "text/plain": [
       "    health  tree_dbh\n",
       "11    Poor         8\n",
       "73    Poor         5\n",
       "85    Poor         3\n",
       "88    Poor         3\n",
       "140   Poor         3"
      ]
     },
     "execution_count": 29,
     "metadata": {},
     "output_type": "execute_result"
    }
   ],
   "source": [
    "poor_tree_dbh.head()"
   ]
  },
  {
   "cell_type": "code",
   "execution_count": 30,
   "metadata": {},
   "outputs": [],
   "source": [
    "poor_tree_dbh = poor_tree_dbh['tree_dbh']"
   ]
  },
  {
   "cell_type": "code",
   "execution_count": 31,
   "metadata": {},
   "outputs": [
    {
     "data": {
      "image/png": "[encoded data removed]",
      "text/plain": [
       "<Figure size 432x288 with 1 Axes>"
      ]
     },
     "metadata": {
      "needs_background": "light"
     },
     "output_type": "display_data"
    }
   ],
   "source": [
    "# Compute ECDFs\n",
    "x_poor, y_poor = ecdf(poor_tree_dbh)\n",
    "x_fair, y_fair = ecdf(fair_tree_dbh)\n",
    "x_good, y_good = ecdf(good_tree_dbh)\n",
    "\n",
    "# Plot all ECDFs on the same plot\n",
    "_ = plt.plot(x_poor, y_poor, marker='.', linestyle='none')\n",
    "_ = plt.plot(x_fair, y_fair, marker='.', linestyle='none')\n",
    "_ = plt.plot(x_good, y_good, marker='.', linestyle='none')\n",
    "\n",
    "# Annotate the plot\n",
    "_ = plt.legend(('Poor', 'Fair', 'Good'), loc='lower right')\n",
    "_ = plt.xlabel('Diameter')\n",
    "_ = plt.ylabel('ECDF')\n",
    "\n",
    "# Display the plot\n",
    "plt.show()"
   ]
  },
  {
   "cell_type": "markdown",
   "metadata": {},
   "source": [
    "There is no clear difference in the distribution of diametere based on the health of the tree"
   ]
  },
  {
   "cell_type": "markdown",
   "metadata": {},
   "source": [
    "Questions to explore"
   ]
  },
  {
   "cell_type": "markdown",
   "metadata": {},
   "source": [
    "- What is the density of tress in each neighbourhood /borough/census track\n",
    "- Leafiest block (https://www.nycgovparks.org/trees/treescount)\n"
   ]
  },
  {
   "cell_type": "code",
   "execution_count": 32,
   "metadata": {},
   "outputs": [],
   "source": [
    "# import street map\n",
    "street_map = gpd.read_file(r'C:\\Users\\parij\\Desktop\\Data Analysis\\Springboard\\Borough Boundaries\\geo_export_0a111f79-05ee-4be3-9497-45c06bba38ce.shp')"
   ]
  },
  {
   "cell_type": "code",
   "execution_count": 33,
   "metadata": {},
   "outputs": [],
   "source": [
    "# designate coordinate system\n",
    "# crs = \"EPSG:2163\"\n",
    "crs ='EPSG:4326'\n",
    "# zip x and y coordinates into single feature\n",
    "geometry = [Point(xy) for xy in zip(data['longitude'], data['latitude'])]\n",
    "# create GeoPandas dataframe\n",
    "geo_df = gpd.GeoDataFrame(data,\n",
    " crs = crs,\n",
    " geometry = geometry)"
   ]
  },
  {
   "cell_type": "code",
   "execution_count": 34,
   "metadata": {},
   "outputs": [
    {
     "data": {
      "text/html": [
       "<div>\n",
       "<style scoped>\n",
       "    .dataframe tbody tr th:only-of-type {\n",
       "        vertical-align: middle;\n",
       "    }\n",
       "\n",
       "    .dataframe tbody tr th {\n",
       "        vertical-align: top;\n",
       "    }\n",
       "\n",
       "    .dataframe thead th {\n",
       "        text-align: right;\n",
       "    }\n",
       "</style>\n",
       "<table border=\"1\" class=\"dataframe\">\n",
       "  <thead>\n",
       "    <tr style=\"text-align: right;\">\n",
       "      <th></th>\n",
       "      <th>tree_id</th>\n",
       "      <th>block_id</th>\n",
       "      <th>created_at</th>\n",
       "      <th>tree_dbh</th>\n",
       "      <th>stump_diam</th>\n",
       "      <th>curb_loc</th>\n",
       "      <th>status</th>\n",
       "      <th>health</th>\n",
       "      <th>spc_latin</th>\n",
       "      <th>spc_common</th>\n",
       "      <th>...</th>\n",
       "      <th>state</th>\n",
       "      <th>latitude</th>\n",
       "      <th>longitude</th>\n",
       "      <th>x_sp</th>\n",
       "      <th>y_sp</th>\n",
       "      <th>council district</th>\n",
       "      <th>census tract</th>\n",
       "      <th>bin</th>\n",
       "      <th>bbl</th>\n",
       "      <th>geometry</th>\n",
       "    </tr>\n",
       "  </thead>\n",
       "  <tbody>\n",
       "    <tr>\n",
       "      <th>0</th>\n",
       "      <td>180683</td>\n",
       "      <td>348711</td>\n",
       "      <td>8/27/2015</td>\n",
       "      <td>3</td>\n",
       "      <td>0</td>\n",
       "      <td>OnCurb</td>\n",
       "      <td>Alive</td>\n",
       "      <td>Fair</td>\n",
       "      <td>Acer rubrum</td>\n",
       "      <td>red maple</td>\n",
       "      <td>...</td>\n",
       "      <td>New York</td>\n",
       "      <td>40.723092</td>\n",
       "      <td>-73.844215</td>\n",
       "      <td>1027431.148</td>\n",
       "      <td>202756.7687</td>\n",
       "      <td>29.0</td>\n",
       "      <td>739.0</td>\n",
       "      <td>4052307.0</td>\n",
       "      <td>4.022210e+09</td>\n",
       "      <td>POINT (-73.84422 40.72309)</td>\n",
       "    </tr>\n",
       "    <tr>\n",
       "      <th>1</th>\n",
       "      <td>200540</td>\n",
       "      <td>315986</td>\n",
       "      <td>9/3/2015</td>\n",
       "      <td>21</td>\n",
       "      <td>0</td>\n",
       "      <td>OnCurb</td>\n",
       "      <td>Alive</td>\n",
       "      <td>Fair</td>\n",
       "      <td>Quercus palustris</td>\n",
       "      <td>pin oak</td>\n",
       "      <td>...</td>\n",
       "      <td>New York</td>\n",
       "      <td>40.794111</td>\n",
       "      <td>-73.818679</td>\n",
       "      <td>1034455.701</td>\n",
       "      <td>228644.8374</td>\n",
       "      <td>19.0</td>\n",
       "      <td>973.0</td>\n",
       "      <td>4101931.0</td>\n",
       "      <td>4.044750e+09</td>\n",
       "      <td>POINT (-73.81868 40.79411)</td>\n",
       "    </tr>\n",
       "    <tr>\n",
       "      <th>2</th>\n",
       "      <td>204026</td>\n",
       "      <td>218365</td>\n",
       "      <td>9/5/2015</td>\n",
       "      <td>3</td>\n",
       "      <td>0</td>\n",
       "      <td>OnCurb</td>\n",
       "      <td>Alive</td>\n",
       "      <td>Good</td>\n",
       "      <td>Gleditsia triacanthos var. inermis</td>\n",
       "      <td>honeylocust</td>\n",
       "      <td>...</td>\n",
       "      <td>New York</td>\n",
       "      <td>40.717581</td>\n",
       "      <td>-73.936608</td>\n",
       "      <td>1001822.831</td>\n",
       "      <td>200716.8913</td>\n",
       "      <td>34.0</td>\n",
       "      <td>449.0</td>\n",
       "      <td>3338310.0</td>\n",
       "      <td>3.028870e+09</td>\n",
       "      <td>POINT (-73.93661 40.71758)</td>\n",
       "    </tr>\n",
       "    <tr>\n",
       "      <th>3</th>\n",
       "      <td>204337</td>\n",
       "      <td>217969</td>\n",
       "      <td>9/5/2015</td>\n",
       "      <td>10</td>\n",
       "      <td>0</td>\n",
       "      <td>OnCurb</td>\n",
       "      <td>Alive</td>\n",
       "      <td>Good</td>\n",
       "      <td>Gleditsia triacanthos var. inermis</td>\n",
       "      <td>honeylocust</td>\n",
       "      <td>...</td>\n",
       "      <td>New York</td>\n",
       "      <td>40.713537</td>\n",
       "      <td>-73.934456</td>\n",
       "      <td>1002420.358</td>\n",
       "      <td>199244.2531</td>\n",
       "      <td>34.0</td>\n",
       "      <td>449.0</td>\n",
       "      <td>3338342.0</td>\n",
       "      <td>3.029250e+09</td>\n",
       "      <td>POINT (-73.93446 40.71354)</td>\n",
       "    </tr>\n",
       "    <tr>\n",
       "      <th>4</th>\n",
       "      <td>189565</td>\n",
       "      <td>223043</td>\n",
       "      <td>8/30/2015</td>\n",
       "      <td>21</td>\n",
       "      <td>0</td>\n",
       "      <td>OnCurb</td>\n",
       "      <td>Alive</td>\n",
       "      <td>Good</td>\n",
       "      <td>Tilia americana</td>\n",
       "      <td>American linden</td>\n",
       "      <td>...</td>\n",
       "      <td>New York</td>\n",
       "      <td>40.666778</td>\n",
       "      <td>-73.975979</td>\n",
       "      <td>990913.775</td>\n",
       "      <td>182202.4260</td>\n",
       "      <td>39.0</td>\n",
       "      <td>165.0</td>\n",
       "      <td>3025654.0</td>\n",
       "      <td>3.010850e+09</td>\n",
       "      <td>POINT (-73.97598 40.66678)</td>\n",
       "    </tr>\n",
       "  </tbody>\n",
       "</table>\n",
       "<p>5 rows × 46 columns</p>\n",
       "</div>"
      ],
      "text/plain": [
       "   tree_id  block_id created_at  tree_dbh  stump_diam curb_loc status health  \\\n",
       "0   180683    348711  8/27/2015         3           0   OnCurb  Alive   Fair   \n",
       "1   200540    315986   9/3/2015        21           0   OnCurb  Alive   Fair   \n",
       "2   204026    218365   9/5/2015         3           0   OnCurb  Alive   Good   \n",
       "3   204337    217969   9/5/2015        10           0   OnCurb  Alive   Good   \n",
       "4   189565    223043  8/30/2015        21           0   OnCurb  Alive   Good   \n",
       "\n",
       "                            spc_latin       spc_common  ...     state  \\\n",
       "0                         Acer rubrum        red maple  ...  New York   \n",
       "1                   Quercus palustris          pin oak  ...  New York   \n",
       "2  Gleditsia triacanthos var. inermis      honeylocust  ...  New York   \n",
       "3  Gleditsia triacanthos var. inermis      honeylocust  ...  New York   \n",
       "4                     Tilia americana  American linden  ...  New York   \n",
       "\n",
       "    latitude  longitude         x_sp         y_sp council district  \\\n",
       "0  40.723092 -73.844215  1027431.148  202756.7687             29.0   \n",
       "1  40.794111 -73.818679  1034455.701  228644.8374             19.0   \n",
       "2  40.717581 -73.936608  1001822.831  200716.8913             34.0   \n",
       "3  40.713537 -73.934456  1002420.358  199244.2531             34.0   \n",
       "4  40.666778 -73.975979   990913.775  182202.4260             39.0   \n",
       "\n",
       "  census tract        bin           bbl                    geometry  \n",
       "0        739.0  4052307.0  4.022210e+09  POINT (-73.84422 40.72309)  \n",
       "1        973.0  4101931.0  4.044750e+09  POINT (-73.81868 40.79411)  \n",
       "2        449.0  3338310.0  3.028870e+09  POINT (-73.93661 40.71758)  \n",
       "3        449.0  3338342.0  3.029250e+09  POINT (-73.93446 40.71354)  \n",
       "4        165.0  3025654.0  3.010850e+09  POINT (-73.97598 40.66678)  \n",
       "\n",
       "[5 rows x 46 columns]"
      ]
     },
     "execution_count": 34,
     "metadata": {},
     "output_type": "execute_result"
    }
   ],
   "source": [
    "geo_df.head()"
   ]
  },
  {
   "cell_type": "code",
   "execution_count": 35,
   "metadata": {
    "scrolled": true
   },
   "outputs": [
    {
     "data": {
      "image/png": "[encoded data removed]",
      "text/plain": [
       "<Figure size 1080x1080 with 1 Axes>"
      ]
     },
     "metadata": {
      "needs_background": "light"
     },
     "output_type": "display_data"
    }
   ],
   "source": [
    "# create figure and axes, assign to subplot\n",
    "fig, ax = plt.subplots(figsize=(15,15))\n",
    "# add .shp mapfile to axes\n",
    "street_map.plot(ax=ax, alpha=0.4,color= 'grey')\n",
    "# add geodataframe to axes\n",
    "# assign ‘health’ variable to represent coordinates on graph\n",
    "# add legend\n",
    "# make datapoints transparent using alpha\n",
    "# assign size of points using markersize\n",
    "geo_df.plot(column='health',ax=ax,alpha=0.5, legend=True,markersize=10,cmap = 'Greens')\n",
    "# add title to graph\n",
    "plt.title('Trees in NYC', fontsize=15,fontweight='bold')\n",
    "# set latitiude and longitude boundaries for map display\n",
    "plt.xlim(-74.6,-73.3)\n",
    "plt.ylim( 40.3,41.0)\n",
    "# show map\n",
    "plt.show()"
   ]
  },
  {
   "cell_type": "markdown",
   "metadata": {},
   "source": [
    "code source: https://medium.com/@ianforrest11/graphing-latitudes-and-longitudes-on-a-map-bf64d5fca391"
   ]
  }
 ],
 "metadata": {
  "kernelspec": {
   "display_name": "Python 3 (ipykernel)",
   "language": "python",
   "name": "python3"
  },
  "language_info": {
   "codemirror_mode": {
    "name": "ipython",
    "version": 3
   },
   "file_extension": ".py",
   "mimetype": "text/x-python",
   "name": "python",
   "nbconvert_exporter": "python",
   "pygments_lexer": "ipython3",
   "version": "3.9.7"
  }
 },
 "nbformat": 4,
 "nbformat_minor": 4
}
