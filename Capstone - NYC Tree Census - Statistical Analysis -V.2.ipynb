{
 "cells": [
  {
   "cell_type": "markdown",
   "id": "011ab2c1",
   "metadata": {},
   "source": [
    "## Capstone - NYC Tree Census - Statistical Analysis "
   ]
  },
  {
   "cell_type": "markdown",
   "id": "ec4fdf24",
   "metadata": {},
   "source": [
    "### Table of contents\n",
    "1. [Getting Data](#Getting-Data)\n",
    "     -   1.1 [Loading Data](#Loading-Data)\n",
    "     \n",
    "     \n",
    "2. [Distribution of tree diameter](#Distribution-of-tree-diameter)\n",
    "     -   2.1 [Distribution of diameter by Health](#Distribution-of-diameter-by-health)\n",
    "     -   2.2 [Emprical Cumulative Distribution Function(ECDF) for diameter](#ECDF-for-diameter)\n",
    "     \n",
    "     \n",
    "3. [Distribution of tree problem count](#Distribution-of-tree-problem-count)\n",
    "     -   2.1 [Distribution of problem count by Health](#Distribution-of-diameter-by-health)\n",
    "     -   2.2 [Emprical Cumulative Distribution Function(ECDF) for problem count](#ECDF-for-problem-count)\n",
    "         \n",
    "         \n",
    "4. [Chi test for Independence](#Chi-test-for-Independence)\n",
    "     -   4.1 [Tree Loaction](#Tree-Location)\n",
    "     -   4.2 [Presence and type of tree guards](#Presence-and-type-of-tree-guards)\n",
    "     -   4.3 [Sidewalk damage adjcent to tree](#Sidewalk-damange-adjcent-to-tree)\n",
    "     -   4.4 [Root problems caused by paving stones in the tree bed](#Root-problems-caused-by-paving-stones-in-the-tree-bed)\n",
    "     -   4.5 [Root problems by metal grates](#Root-problems-by-metal-grates)\n",
    "     -   4.6 [Presence of other root problems](#Presence-of-other-root-problems)\n",
    "     -   4.7 [Trunk problems caused by ropes or wipes](#Trunk-problems-caused-by-ropes-or-wipes)\n",
    "     -   4.8 [Trunk problems caused by light](#Trunk-problems-caused-by-lights)\n",
    "     -   4.9 [Presence of other Trunk problems](#Presence-of-other-trunk-problems)\n",
    "     -   4.10 [Branch problems caused by light or wire](#Branch-problems-caused-by-light-or-wire)\n",
    "     -   4.11 [Branch problems caused by shoes](#Branch-problems-caused-by-shoes)\n",
    "     -   4.12 [Presence of other branch problems](#Presence-of-other-branch-problems)\n",
    "          \n",
    "          \n",
    "5. [Coorelation Matrix](#Correlation-Matrix)"
   ]
  },
  {
   "cell_type": "markdown",
   "id": "d4eff93e",
   "metadata": {},
   "source": [
    "### Getting Data"
   ]
  },
  {
   "cell_type": "code",
   "execution_count": 1,
   "id": "60ee7554",
   "metadata": {},
   "outputs": [],
   "source": [
    "import pandas as pd\n",
    "import matplotlib.pyplot as plt\n",
    "import numpy as np\n",
    "from scipy.stats import chi2_contingency\n",
    "import seaborn as sns\n",
    "sns.set(style='darkgrid')\n",
    "%matplotlib inline"
   ]
  },
  {
   "cell_type": "code",
   "execution_count": 2,
   "id": "05b6d99a",
   "metadata": {},
   "outputs": [],
   "source": [
    "tree_data = pd.read_csv('clean_trees.csv')"
   ]
  },
  {
   "cell_type": "code",
   "execution_count": 3,
   "id": "02ed129a",
   "metadata": {},
   "outputs": [
    {
     "data": {
      "text/plain": [
       "(642741, 30)"
      ]
     },
     "execution_count": 3,
     "metadata": {},
     "output_type": "execute_result"
    }
   ],
   "source": [
    "tree_data.shape"
   ]
  },
  {
   "cell_type": "code",
   "execution_count": 83,
   "id": "d4e96f6f",
   "metadata": {},
   "outputs": [
    {
     "data": {
      "text/plain": [
       "Index(['Unnamed: 0', 'tree_id', 'block_id', 'created_at', 'tree_dbh',\n",
       "       'curb_loc', 'status', 'health', 'spc_latin', 'spc_common', 'steward',\n",
       "       'guards', 'sidewalk', 'user_type', 'problems', 'root_stone',\n",
       "       'root_grate', 'root_other', 'trunk_wire', 'trnk_light', 'trnk_other',\n",
       "       'brch_light', 'brch_shoe', 'brch_other', 'borough', 'latitude',\n",
       "       'longitude', 'x_sp', 'y_sp', 'problem_count'],\n",
       "      dtype='object')"
      ]
     },
     "execution_count": 83,
     "metadata": {},
     "output_type": "execute_result"
    }
   ],
   "source": [
    "tree_data.columns"
   ]
  },
  {
   "cell_type": "markdown",
   "id": "8de2be50",
   "metadata": {},
   "source": [
    "### 3. Distribution of trees diameter"
   ]
  },
  {
   "cell_type": "code",
   "execution_count": 4,
   "id": "28afac01",
   "metadata": {},
   "outputs": [
    {
     "data": {
      "text/plain": [
       "array([[<AxesSubplot:title={'center':'tree_dbh'}>]], dtype=object)"
      ]
     },
     "execution_count": 4,
     "metadata": {},
     "output_type": "execute_result"
    },
    {
     "data": {
      "image/png": "[encoded data removed]",
      "text/plain": [
       "<Figure size 432x288 with 1 Axes>"
      ]
     },
     "metadata": {
      "needs_background": "light"
     },
     "output_type": "display_data"
    }
   ],
   "source": [
    "tree_data.hist(column='tree_dbh')"
   ]
  },
  {
   "cell_type": "code",
   "execution_count": 5,
   "id": "9722daee",
   "metadata": {},
   "outputs": [
    {
     "data": {
      "text/plain": [
       "count    642741.000000\n",
       "mean         11.725564\n",
       "std           8.640623\n",
       "min           1.000000\n",
       "25%           5.000000\n",
       "50%          10.000000\n",
       "75%          16.000000\n",
       "max         425.000000\n",
       "Name: tree_dbh, dtype: float64"
      ]
     },
     "execution_count": 5,
     "metadata": {},
     "output_type": "execute_result"
    }
   ],
   "source": [
    "tree_data['tree_dbh'].describe()"
   ]
  },
  {
   "cell_type": "code",
   "execution_count": 6,
   "id": "74f5f6ba",
   "metadata": {},
   "outputs": [
    {
     "data": {
      "text/plain": [
       "(353, 30)"
      ]
     },
     "execution_count": 6,
     "metadata": {},
     "output_type": "execute_result"
    }
   ],
   "source": [
    "tree_50 = tree_data[tree_data.tree_dbh > 50]\n",
    "tree_50.shape"
   ]
  },
  {
   "cell_type": "code",
   "execution_count": 7,
   "id": "56b0498c",
   "metadata": {},
   "outputs": [],
   "source": [
    "#drop indexes for which column tree diameter value is greater than 50\n",
    "tree_data.drop(tree_data[tree_data['tree_dbh'] > 50].index, inplace = True)"
   ]
  },
  {
   "cell_type": "code",
   "execution_count": 8,
   "id": "573608e5",
   "metadata": {},
   "outputs": [
    {
     "data": {
      "text/plain": [
       "(642388, 30)"
      ]
     },
     "execution_count": 8,
     "metadata": {},
     "output_type": "execute_result"
    }
   ],
   "source": [
    "tree_data.shape"
   ]
  },
  {
   "cell_type": "markdown",
   "id": "67338337",
   "metadata": {},
   "source": [
    "*Successfully removed 353 rows for trees with diameter greater then 50 inches*"
   ]
  },
  {
   "cell_type": "markdown",
   "id": "3eaa69ba",
   "metadata": {},
   "source": [
    "#### 2.1 Diameter Distribution by Health of tree"
   ]
  },
  {
   "cell_type": "code",
   "execution_count": 9,
   "id": "7253d307",
   "metadata": {},
   "outputs": [
    {
     "name": "stderr",
     "output_type": "stream",
     "text": [
      "C:\\ProgramData\\Anaconda3\\lib\\site-packages\\seaborn\\distributions.py:2619: FutureWarning: `distplot` is a deprecated function and will be removed in a future version. Please adapt your code to use either `displot` (a figure-level function with similar flexibility) or `histplot` (an axes-level function for histograms).\n",
      "  warnings.warn(msg, FutureWarning)\n",
      "C:\\ProgramData\\Anaconda3\\lib\\site-packages\\seaborn\\distributions.py:2619: FutureWarning: `distplot` is a deprecated function and will be removed in a future version. Please adapt your code to use either `displot` (a figure-level function with similar flexibility) or `histplot` (an axes-level function for histograms).\n",
      "  warnings.warn(msg, FutureWarning)\n",
      "C:\\ProgramData\\Anaconda3\\lib\\site-packages\\seaborn\\distributions.py:2619: FutureWarning: `distplot` is a deprecated function and will be removed in a future version. Please adapt your code to use either `displot` (a figure-level function with similar flexibility) or `histplot` (an axes-level function for histograms).\n",
      "  warnings.warn(msg, FutureWarning)\n"
     ]
    },
    {
     "data": {
      "image/png": "[encoded data removed]",
      "text/plain": [
       "<Figure size 720x288 with 1 Axes>"
      ]
     },
     "metadata": {
      "needs_background": "light"
     },
     "output_type": "display_data"
    }
   ],
   "source": [
    "# group diameters according to tree health\n",
    "poor = tree_data[tree_data.health == 'Poor']['tree_dbh']\n",
    "fair = tree_data[tree_data.health =='Fair']['tree_dbh']\n",
    "good = tree_data[tree_data.health == 'Good']['tree_dbh']\n",
    "\n",
    "# plotting the distribution of diameters\n",
    "plt.figure(figsize=(10, 4))\n",
    "sns.distplot(good, label='Good')\n",
    "sns.distplot(fair, label='Fair')\n",
    "sns.distplot(poor, label='Poor')\n",
    "plt.title('Diameters (inches) Distribution by Health')\n",
    "plt.legend()\n",
    "plt.show()"
   ]
  },
  {
   "cell_type": "markdown",
   "id": "f7c425e8",
   "metadata": {},
   "source": [
    "#### 2.2 Plotting ECDF for Diameter"
   ]
  },
  {
   "cell_type": "code",
   "execution_count": 10,
   "id": "748f875d",
   "metadata": {},
   "outputs": [],
   "source": [
    "# ECDF function \n",
    "def ecdf(data):\n",
    "    \"\"\"Compute ECDF for a one-dimensional array of measurements.\"\"\"\n",
    "    # Number of data points: n\n",
    "    n = len(data)\n",
    "\n",
    "    # x-data for the ECDF: x\n",
    "    x = np.sort(data)\n",
    "\n",
    "    # y-data for the ECDF: y\n",
    "    y = np.arange(1, n+1) / n\n",
    "\n",
    "    return x, y"
   ]
  },
  {
   "cell_type": "code",
   "execution_count": 11,
   "id": "96a9cb4a",
   "metadata": {},
   "outputs": [
    {
     "data": {
      "image/png": "[encoded data removed]",
      "text/plain": [
       "<Figure size 720x720 with 1 Axes>"
      ]
     },
     "metadata": {
      "needs_background": "light"
     },
     "output_type": "display_data"
    }
   ],
   "source": [
    "# Compute ECDFs\n",
    "x_poor, y_poor = ecdf(poor)\n",
    "x_fair, y_fair = ecdf(fair)\n",
    "x_good, y_good = ecdf(good)\n",
    "\n",
    "# Plot all ECDFs on the same plot\n",
    "plt.figure(figsize=(10, 10))\n",
    "plt.plot(x_poor, y_poor, marker='.', linestyle='none')\n",
    "plt.plot(x_fair, y_fair, marker='.', linestyle='none')\n",
    "plt.plot(x_good, y_good, marker='.', linestyle='none')\n",
    "\n",
    "# Annotate the plot\n",
    "plt.legend(('Poor', 'Fair', 'Good'), loc='lower right')\n",
    "plt.xlabel('Diameter')\n",
    "plt.ylabel('ECDF')\n",
    "\n",
    "\n",
    "# Display the plot\n",
    "plt.show()"
   ]
  },
  {
   "cell_type": "markdown",
   "id": "ef2aef71",
   "metadata": {},
   "source": [
    "*The trees with poor helath seems to have smaller diameter when compared to fair and healthy trees.*"
   ]
  },
  {
   "cell_type": "markdown",
   "id": "7185907d",
   "metadata": {},
   "source": [
    "### 3. Distribution of Problem counts"
   ]
  },
  {
   "cell_type": "code",
   "execution_count": 12,
   "id": "cf2b28d7",
   "metadata": {},
   "outputs": [
    {
     "data": {
      "text/plain": [
       "array([[<AxesSubplot:title={'center':'problem_count'}>]], dtype=object)"
      ]
     },
     "execution_count": 12,
     "metadata": {},
     "output_type": "execute_result"
    },
    {
     "data": {
      "image/png": "[encoded data removed]",
      "text/plain": [
       "<Figure size 432x288 with 1 Axes>"
      ]
     },
     "metadata": {
      "needs_background": "light"
     },
     "output_type": "display_data"
    }
   ],
   "source": [
    "tree_data.hist(column='problem_count')"
   ]
  },
  {
   "cell_type": "code",
   "execution_count": 13,
   "id": "51a851fe",
   "metadata": {},
   "outputs": [
    {
     "data": {
      "text/plain": [
       "(297, 30)"
      ]
     },
     "execution_count": 13,
     "metadata": {},
     "output_type": "execute_result"
    }
   ],
   "source": [
    "tree_p5 = tree_data[tree_data.problem_count > 4]\n",
    "tree_p5.shape"
   ]
  },
  {
   "cell_type": "markdown",
   "id": "8e5c9031",
   "metadata": {},
   "source": [
    "#### 3.1 Distribution of problem counts by health"
   ]
  },
  {
   "cell_type": "code",
   "execution_count": 14,
   "id": "07ecfb28",
   "metadata": {
    "scrolled": true
   },
   "outputs": [
    {
     "name": "stderr",
     "output_type": "stream",
     "text": [
      "C:\\ProgramData\\Anaconda3\\lib\\site-packages\\seaborn\\distributions.py:2619: FutureWarning: `distplot` is a deprecated function and will be removed in a future version. Please adapt your code to use either `displot` (a figure-level function with similar flexibility) or `histplot` (an axes-level function for histograms).\n",
      "  warnings.warn(msg, FutureWarning)\n",
      "C:\\ProgramData\\Anaconda3\\lib\\site-packages\\seaborn\\distributions.py:2619: FutureWarning: `distplot` is a deprecated function and will be removed in a future version. Please adapt your code to use either `displot` (a figure-level function with similar flexibility) or `histplot` (an axes-level function for histograms).\n",
      "  warnings.warn(msg, FutureWarning)\n",
      "C:\\ProgramData\\Anaconda3\\lib\\site-packages\\seaborn\\distributions.py:2619: FutureWarning: `distplot` is a deprecated function and will be removed in a future version. Please adapt your code to use either `displot` (a figure-level function with similar flexibility) or `histplot` (an axes-level function for histograms).\n",
      "  warnings.warn(msg, FutureWarning)\n"
     ]
    },
    {
     "data": {
      "image/png": "[encoded data removed]",
      "text/plain": [
       "<Figure size 576x576 with 1 Axes>"
      ]
     },
     "metadata": {
      "needs_background": "light"
     },
     "output_type": "display_data"
    }
   ],
   "source": [
    "# group problem_count according to tree health\n",
    "poor_p = tree_data[tree_data.health == 'Poor']['problem_count']\n",
    "fair_p = tree_data[tree_data.health =='Fair']['problem_count']\n",
    "good_p = tree_data[tree_data.health == 'Good']['problem_count']\n",
    "\n",
    "# plotting the distribution of diameters\n",
    "plt.figure(figsize=(8, 8))\n",
    "sns.distplot(good_p, label='Good')\n",
    "sns.distplot(fair_p, label='Fair')\n",
    "sns.distplot(poor_p, label='Poor')\n",
    "plt.title('Problem count Distribution by Health')\n",
    "plt.legend()\n",
    "plt.show()"
   ]
  },
  {
   "cell_type": "markdown",
   "id": "7eed156f",
   "metadata": {},
   "source": [
    "#### 3.2 Plotting ECDF for problem counts "
   ]
  },
  {
   "cell_type": "code",
   "execution_count": 15,
   "id": "a3534d77",
   "metadata": {},
   "outputs": [
    {
     "data": {
      "image/png": "[encoded data removed]",
      "text/plain": [
       "<Figure size 720x720 with 1 Axes>"
      ]
     },
     "metadata": {
      "needs_background": "light"
     },
     "output_type": "display_data"
    }
   ],
   "source": [
    "# Compute ECDFs\n",
    "x_poor, y_poor = ecdf(poor_p)\n",
    "x_fair, y_fair = ecdf(fair_p)\n",
    "x_good, y_good = ecdf(good_p)\n",
    "\n",
    "# Plot all ECDFs on the same plot\n",
    "plt.figure(figsize=(10, 10))\n",
    "plt.plot(x_poor, y_poor, marker='.', linestyle='none')\n",
    "plt.plot(x_fair, y_fair, marker='.', linestyle='none')\n",
    "plt.plot(x_good, y_good, marker='.', linestyle='none')\n",
    "\n",
    "# Annotate the plot\n",
    "plt.legend(('Poor', 'Fair', 'Good'), loc='lower right')\n",
    "plt.xlabel('Problem Counts')\n",
    "plt.ylabel('ECDF')\n",
    "\n",
    "\n",
    "# Display the plot\n",
    "plt.show()"
   ]
  },
  {
   "cell_type": "markdown",
   "id": "65bc86cf",
   "metadata": {},
   "source": [
    "- More than 65% of healthy trees have no problems   \n",
    "- Roughly, 25% of health trees have one problem\n",
    "- Less than of healthy trees have more than one problem\n",
    "- Unhealthy trees (Poor) have two or more problems"
   ]
  },
  {
   "cell_type": "markdown",
   "id": "0adac654",
   "metadata": {},
   "source": [
    "### 4. Chi Test for Independence "
   ]
  },
  {
   "cell_type": "markdown",
   "id": "a9a9f0a3",
   "metadata": {},
   "source": [
    "#### 4.1 Tree Location  "
   ]
  },
  {
   "cell_type": "code",
   "execution_count": 16,
   "id": "4fd4f6ca",
   "metadata": {},
   "outputs": [],
   "source": [
    "curb_df = pd.pivot_table(tree_data, values='tree_id', index=['curb_loc'],\n",
    "               columns=['health'], aggfunc='count', fill_value=0)"
   ]
  },
  {
   "cell_type": "code",
   "execution_count": 17,
   "id": "c540360e",
   "metadata": {},
   "outputs": [
    {
     "data": {
      "text/html": [
       "<div>\n",
       "<style scoped>\n",
       "    .dataframe tbody tr th:only-of-type {\n",
       "        vertical-align: middle;\n",
       "    }\n",
       "\n",
       "    .dataframe tbody tr th {\n",
       "        vertical-align: top;\n",
       "    }\n",
       "\n",
       "    .dataframe thead th {\n",
       "        text-align: right;\n",
       "    }\n",
       "</style>\n",
       "<table border=\"1\" class=\"dataframe\">\n",
       "  <thead>\n",
       "    <tr style=\"text-align: right;\">\n",
       "      <th>health</th>\n",
       "      <th>Fair</th>\n",
       "      <th>Good</th>\n",
       "      <th>Poor</th>\n",
       "    </tr>\n",
       "    <tr>\n",
       "      <th>curb_loc</th>\n",
       "      <th></th>\n",
       "      <th></th>\n",
       "      <th></th>\n",
       "    </tr>\n",
       "  </thead>\n",
       "  <tbody>\n",
       "    <tr>\n",
       "      <th>OffsetFromCurb</th>\n",
       "      <td>3884</td>\n",
       "      <td>20208</td>\n",
       "      <td>912</td>\n",
       "    </tr>\n",
       "    <tr>\n",
       "      <th>OnCurb</th>\n",
       "      <td>90990</td>\n",
       "      <td>500997</td>\n",
       "      <td>25397</td>\n",
       "    </tr>\n",
       "  </tbody>\n",
       "</table>\n",
       "</div>"
      ],
      "text/plain": [
       "health           Fair    Good   Poor\n",
       "curb_loc                            \n",
       "OffsetFromCurb   3884   20208    912\n",
       "OnCurb          90990  500997  25397"
      ]
     },
     "execution_count": 17,
     "metadata": {},
     "output_type": "execute_result"
    }
   ],
   "source": [
    "curb_df"
   ]
  },
  {
   "cell_type": "code",
   "execution_count": 18,
   "id": "fdb2171a",
   "metadata": {},
   "outputs": [
    {
     "data": {
      "text/plain": [
       "(23.372936220877648,\n",
       " 8.406812991494818e-06,\n",
       " 2,\n",
       " array([[  3692.82971662,  20287.1314844 ,   1024.03879898],\n",
       "        [ 91181.17028338, 500917.8685156 ,  25284.96120102]]))"
      ]
     },
     "execution_count": 18,
     "metadata": {},
     "output_type": "execute_result"
    }
   ],
   "source": [
    "curb_chi = chi2_contingency(curb_df)\n",
    "curb_chi"
   ]
  },
  {
   "cell_type": "code",
   "execution_count": 19,
   "id": "caed7730",
   "metadata": {},
   "outputs": [
    {
     "name": "stdout",
     "output_type": "stream",
     "text": [
      "chisquare: 23.372936220877648\n",
      "p-value: 8.406812991494818e-06\n",
      "degree of freedom: 2\n"
     ]
    }
   ],
   "source": [
    "print(f\"chisquare:\", curb_chi[0])\n",
    "print(f\"p-value:\", curb_chi[1])\n",
    "print(f\"degree of freedom:\", curb_chi[2])"
   ]
  },
  {
   "cell_type": "markdown",
   "id": "6ddfe12c",
   "metadata": {},
   "source": [
    "- The p-value is 8.404771579987583e-06 and significantly above the commonly accepted level of significance of 0.05. \n",
    "- Null hypothesis is not rejected (**H₀: there is no relationship between curb_loc and health of tree**)"
   ]
  },
  {
   "cell_type": "markdown",
   "id": "3498bc8c",
   "metadata": {},
   "source": [
    "#### 4.2 Presence and type of tree guard  "
   ]
  },
  {
   "cell_type": "code",
   "execution_count": 20,
   "id": "6526eb3b",
   "metadata": {},
   "outputs": [],
   "source": [
    "guards_df = pd.pivot_table(tree_data, values='tree_id', index=['guards'],\n",
    "               columns=['health'], aggfunc='count', fill_value=0)"
   ]
  },
  {
   "cell_type": "code",
   "execution_count": 21,
   "id": "870b48db",
   "metadata": {},
   "outputs": [
    {
     "data": {
      "text/html": [
       "<div>\n",
       "<style scoped>\n",
       "    .dataframe tbody tr th:only-of-type {\n",
       "        vertical-align: middle;\n",
       "    }\n",
       "\n",
       "    .dataframe tbody tr th {\n",
       "        vertical-align: top;\n",
       "    }\n",
       "\n",
       "    .dataframe thead th {\n",
       "        text-align: right;\n",
       "    }\n",
       "</style>\n",
       "<table border=\"1\" class=\"dataframe\">\n",
       "  <thead>\n",
       "    <tr style=\"text-align: right;\">\n",
       "      <th>health</th>\n",
       "      <th>Fair</th>\n",
       "      <th>Good</th>\n",
       "      <th>Poor</th>\n",
       "    </tr>\n",
       "    <tr>\n",
       "      <th>guards</th>\n",
       "      <th></th>\n",
       "      <th></th>\n",
       "      <th></th>\n",
       "    </tr>\n",
       "  </thead>\n",
       "  <tbody>\n",
       "    <tr>\n",
       "      <th>Harmful</th>\n",
       "      <td>3788</td>\n",
       "      <td>15101</td>\n",
       "      <td>1082</td>\n",
       "    </tr>\n",
       "    <tr>\n",
       "      <th>Helpful</th>\n",
       "      <td>7037</td>\n",
       "      <td>41975</td>\n",
       "      <td>2020</td>\n",
       "    </tr>\n",
       "    <tr>\n",
       "      <th>None</th>\n",
       "      <td>82697</td>\n",
       "      <td>458286</td>\n",
       "      <td>22753</td>\n",
       "    </tr>\n",
       "    <tr>\n",
       "      <th>Unsure</th>\n",
       "      <td>1352</td>\n",
       "      <td>5843</td>\n",
       "      <td>454</td>\n",
       "    </tr>\n",
       "  </tbody>\n",
       "</table>\n",
       "</div>"
      ],
      "text/plain": [
       "health    Fair    Good   Poor\n",
       "guards                       \n",
       "Harmful   3788   15101   1082\n",
       "Helpful   7037   41975   2020\n",
       "None     82697  458286  22753\n",
       "Unsure    1352    5843    454"
      ]
     },
     "execution_count": 21,
     "metadata": {},
     "output_type": "execute_result"
    }
   ],
   "source": [
    "guards_df"
   ]
  },
  {
   "cell_type": "code",
   "execution_count": 22,
   "id": "318610c8",
   "metadata": {},
   "outputs": [
    {
     "data": {
      "text/plain": [
       "(580.6148477155668,\n",
       " 3.538066490428584e-122,\n",
       " 6,\n",
       " array([[2.94950817e+03, 1.62035795e+04, 8.17912288e+02],\n",
       "        [7.53689354e+03, 4.14050909e+04, 2.09001552e+03],\n",
       "        [8.32579209e+04, 4.57390272e+05, 2.30878074e+04],\n",
       "        [1.12967743e+03, 6.20605778e+03, 3.13264789e+02]]))"
      ]
     },
     "execution_count": 22,
     "metadata": {},
     "output_type": "execute_result"
    }
   ],
   "source": [
    "guards_chi = chi2_contingency(guards_df)\n",
    "guards_chi"
   ]
  },
  {
   "cell_type": "markdown",
   "id": "10272a7f",
   "metadata": {},
   "source": [
    "- The p-value is 2.8478701151508146e-122 and significantly above the commonly accepted level of significance of 0.05. \n",
    "- Null hypothesis is not rejected (**H₀: there is no relationship between presence of guard and health of tree**)."
   ]
  },
  {
   "cell_type": "markdown",
   "id": "57e349e4",
   "metadata": {},
   "source": [
    "#### 4.3 Sidewalk damage immediately adjacent to tree"
   ]
  },
  {
   "cell_type": "code",
   "execution_count": 23,
   "id": "2e90621d",
   "metadata": {},
   "outputs": [],
   "source": [
    "sidewalk_df = pd.pivot_table(tree_data, values='tree_id', index=['sidewalk'],\n",
    "               columns=['health'], aggfunc='count', fill_value=0)"
   ]
  },
  {
   "cell_type": "code",
   "execution_count": 24,
   "id": "eeb1e5ff",
   "metadata": {},
   "outputs": [
    {
     "data": {
      "text/html": [
       "<div>\n",
       "<style scoped>\n",
       "    .dataframe tbody tr th:only-of-type {\n",
       "        vertical-align: middle;\n",
       "    }\n",
       "\n",
       "    .dataframe tbody tr th {\n",
       "        vertical-align: top;\n",
       "    }\n",
       "\n",
       "    .dataframe thead th {\n",
       "        text-align: right;\n",
       "    }\n",
       "</style>\n",
       "<table border=\"1\" class=\"dataframe\">\n",
       "  <thead>\n",
       "    <tr style=\"text-align: right;\">\n",
       "      <th>health</th>\n",
       "      <th>Fair</th>\n",
       "      <th>Good</th>\n",
       "      <th>Poor</th>\n",
       "    </tr>\n",
       "    <tr>\n",
       "      <th>sidewalk</th>\n",
       "      <th></th>\n",
       "      <th></th>\n",
       "      <th></th>\n",
       "    </tr>\n",
       "  </thead>\n",
       "  <tbody>\n",
       "    <tr>\n",
       "      <th>Damage</th>\n",
       "      <td>28323</td>\n",
       "      <td>150090</td>\n",
       "      <td>6499</td>\n",
       "    </tr>\n",
       "    <tr>\n",
       "      <th>NoDamage</th>\n",
       "      <td>66551</td>\n",
       "      <td>371115</td>\n",
       "      <td>19810</td>\n",
       "    </tr>\n",
       "  </tbody>\n",
       "</table>\n",
       "</div>"
      ],
      "text/plain": [
       "health     Fair    Good   Poor\n",
       "sidewalk                      \n",
       "Damage    28323  150090   6499\n",
       "NoDamage  66551  371115  19810"
      ]
     },
     "execution_count": 24,
     "metadata": {},
     "output_type": "execute_result"
    }
   ],
   "source": [
    "sidewalk_df"
   ]
  },
  {
   "cell_type": "code",
   "execution_count": 25,
   "id": "7f2533a8",
   "metadata": {},
   "outputs": [
    {
     "data": {
      "text/plain": [
       "(266.7484685283444,\n",
       " 1.192081727322064e-58,\n",
       " 2,\n",
       " array([[ 27309.57161093, 150029.35758451,   7573.07080456],\n",
       "        [ 67564.42838907, 371175.64241549,  18735.92919544]]))"
      ]
     },
     "execution_count": 25,
     "metadata": {},
     "output_type": "execute_result"
    }
   ],
   "source": [
    "sidewalk_chi = chi2_contingency(sidewalk_df)\n",
    "sidewalk_chi"
   ]
  },
  {
   "cell_type": "markdown",
   "id": "a28fbec9",
   "metadata": {},
   "source": [
    "- The p-value is 1.538880405203704e-58 and significantly above the commonly accepted level of significance of 0.05. \n",
    "- Null hypothesis is not rejected (**H₀: there is no relationship between presence of sidewalk damange immediately adjacent to tree and health of tree**)."
   ]
  },
  {
   "cell_type": "markdown",
   "id": "e86c1132",
   "metadata": {},
   "source": [
    "#### 4.4 Root problems caused by paving stones in the tree bed"
   ]
  },
  {
   "cell_type": "code",
   "execution_count": 26,
   "id": "c592ab92",
   "metadata": {},
   "outputs": [],
   "source": [
    "rootstone_df = pd.pivot_table(tree_data, values='tree_id', index=['root_stone'],\n",
    "               columns=['health'], aggfunc='count', fill_value=0)"
   ]
  },
  {
   "cell_type": "code",
   "execution_count": 27,
   "id": "0b9e9ade",
   "metadata": {},
   "outputs": [
    {
     "data": {
      "text/html": [
       "<div>\n",
       "<style scoped>\n",
       "    .dataframe tbody tr th:only-of-type {\n",
       "        vertical-align: middle;\n",
       "    }\n",
       "\n",
       "    .dataframe tbody tr th {\n",
       "        vertical-align: top;\n",
       "    }\n",
       "\n",
       "    .dataframe thead th {\n",
       "        text-align: right;\n",
       "    }\n",
       "</style>\n",
       "<table border=\"1\" class=\"dataframe\">\n",
       "  <thead>\n",
       "    <tr style=\"text-align: right;\">\n",
       "      <th>health</th>\n",
       "      <th>Fair</th>\n",
       "      <th>Good</th>\n",
       "      <th>Poor</th>\n",
       "    </tr>\n",
       "    <tr>\n",
       "      <th>root_stone</th>\n",
       "      <th></th>\n",
       "      <th></th>\n",
       "      <th></th>\n",
       "    </tr>\n",
       "  </thead>\n",
       "  <tbody>\n",
       "    <tr>\n",
       "      <th>No</th>\n",
       "      <td>71670</td>\n",
       "      <td>411315</td>\n",
       "      <td>21231</td>\n",
       "    </tr>\n",
       "    <tr>\n",
       "      <th>Yes</th>\n",
       "      <td>23204</td>\n",
       "      <td>109890</td>\n",
       "      <td>5078</td>\n",
       "    </tr>\n",
       "  </tbody>\n",
       "</table>\n",
       "</div>"
      ],
      "text/plain": [
       "health       Fair    Good   Poor\n",
       "root_stone                      \n",
       "No          71670  411315  21231\n",
       "Yes         23204  109890   5078"
      ]
     },
     "execution_count": 27,
     "metadata": {},
     "output_type": "execute_result"
    }
   ],
   "source": [
    "rootstone_df"
   ]
  },
  {
   "cell_type": "code",
   "execution_count": 28,
   "id": "2b23a089",
   "metadata": {},
   "outputs": [
    {
     "data": {
      "text/plain": [
       "(620.3686599773328,\n",
       " 1.9438247747491203e-135,\n",
       " 2,\n",
       " array([[ 74467.43834567, 409098.39579818,  20650.16585615],\n",
       "        [ 20406.56165433, 112106.60420182,   5658.83414385]]))"
      ]
     },
     "execution_count": 28,
     "metadata": {},
     "output_type": "execute_result"
    }
   ],
   "source": [
    "rootstone_chi = chi2_contingency(rootstone_df)\n",
    "\n",
    "rootstone_chi"
   ]
  },
  {
   "cell_type": "markdown",
   "id": "cc9f5188",
   "metadata": {},
   "source": [
    "- The p-value is  1.4674129620205588e-135 and significantly above the commonly accepted level of significance of 0.05. \n",
    "- Null hypothesis is not rejected (**H₀: there is no relationship between root problems caused by paving stones in the tree bed and health of tree**)."
   ]
  },
  {
   "cell_type": "markdown",
   "id": "146bf601",
   "metadata": {},
   "source": [
    "#### 4.5 Root problems caused by metal grates "
   ]
  },
  {
   "cell_type": "code",
   "execution_count": 29,
   "id": "2f7c836f",
   "metadata": {},
   "outputs": [],
   "source": [
    "rootgrates_df = pd.pivot_table(tree_data, values='tree_id', index=['root_grate'],\n",
    "               columns=['health'], aggfunc='count', fill_value=0)"
   ]
  },
  {
   "cell_type": "code",
   "execution_count": 30,
   "id": "fed93cb5",
   "metadata": {},
   "outputs": [
    {
     "data": {
      "text/html": [
       "<div>\n",
       "<style scoped>\n",
       "    .dataframe tbody tr th:only-of-type {\n",
       "        vertical-align: middle;\n",
       "    }\n",
       "\n",
       "    .dataframe tbody tr th {\n",
       "        vertical-align: top;\n",
       "    }\n",
       "\n",
       "    .dataframe thead th {\n",
       "        text-align: right;\n",
       "    }\n",
       "</style>\n",
       "<table border=\"1\" class=\"dataframe\">\n",
       "  <thead>\n",
       "    <tr style=\"text-align: right;\">\n",
       "      <th>health</th>\n",
       "      <th>Fair</th>\n",
       "      <th>Good</th>\n",
       "      <th>Poor</th>\n",
       "    </tr>\n",
       "    <tr>\n",
       "      <th>root_grate</th>\n",
       "      <th></th>\n",
       "      <th></th>\n",
       "      <th></th>\n",
       "    </tr>\n",
       "  </thead>\n",
       "  <tbody>\n",
       "    <tr>\n",
       "      <th>No</th>\n",
       "      <td>94057</td>\n",
       "      <td>518828</td>\n",
       "      <td>26062</td>\n",
       "    </tr>\n",
       "    <tr>\n",
       "      <th>Yes</th>\n",
       "      <td>817</td>\n",
       "      <td>2377</td>\n",
       "      <td>247</td>\n",
       "    </tr>\n",
       "  </tbody>\n",
       "</table>\n",
       "</div>"
      ],
      "text/plain": [
       "health       Fair    Good   Poor\n",
       "root_grate                      \n",
       "No          94057  518828  26062\n",
       "Yes           817    2377    247"
      ]
     },
     "execution_count": 30,
     "metadata": {},
     "output_type": "execute_result"
    }
   ],
   "source": [
    "rootgrates_df"
   ]
  },
  {
   "cell_type": "code",
   "execution_count": 31,
   "id": "356aa100",
   "metadata": {},
   "outputs": [
    {
     "data": {
      "text/plain": [
       "(330.9018438232198,\n",
       " 1.3982266903066897e-72,\n",
       " 2,\n",
       " array([[9.43658002e+04, 5.18413126e+05, 2.61680738e+04],\n",
       "        [5.08199770e+02, 2.79187408e+03, 1.40926152e+02]]))"
      ]
     },
     "execution_count": 31,
     "metadata": {},
     "output_type": "execute_result"
    }
   ],
   "source": [
    "rootgrate_chi = chi2_contingency(rootgrates_df)\n",
    "rootgrate_chi"
   ]
  },
  {
   "cell_type": "markdown",
   "id": "6963f432",
   "metadata": {},
   "source": [
    "- The p-value is 1.4509051433790172e-72 and significantly above the commonly accepted level of significance of 0.05. \n",
    "- Null hypothesis is not rejected (**H₀: there is no relationship between root problems caused by metal grates and health of tree**)."
   ]
  },
  {
   "cell_type": "markdown",
   "id": "24ee1840",
   "metadata": {},
   "source": [
    "#### 4.6 Presence of other root problems "
   ]
  },
  {
   "cell_type": "code",
   "execution_count": 32,
   "id": "3035b188",
   "metadata": {},
   "outputs": [],
   "source": [
    "rootother_df = pd.pivot_table(tree_data, values='tree_id', index=['root_other'],\n",
    "               columns=['health'], aggfunc='count', fill_value=0)"
   ]
  },
  {
   "cell_type": "code",
   "execution_count": 33,
   "id": "32a88822",
   "metadata": {},
   "outputs": [
    {
     "data": {
      "text/html": [
       "<div>\n",
       "<style scoped>\n",
       "    .dataframe tbody tr th:only-of-type {\n",
       "        vertical-align: middle;\n",
       "    }\n",
       "\n",
       "    .dataframe tbody tr th {\n",
       "        vertical-align: top;\n",
       "    }\n",
       "\n",
       "    .dataframe thead th {\n",
       "        text-align: right;\n",
       "    }\n",
       "</style>\n",
       "<table border=\"1\" class=\"dataframe\">\n",
       "  <thead>\n",
       "    <tr style=\"text-align: right;\">\n",
       "      <th>health</th>\n",
       "      <th>Fair</th>\n",
       "      <th>Good</th>\n",
       "      <th>Poor</th>\n",
       "    </tr>\n",
       "    <tr>\n",
       "      <th>root_other</th>\n",
       "      <th></th>\n",
       "      <th></th>\n",
       "      <th></th>\n",
       "    </tr>\n",
       "  </thead>\n",
       "  <tbody>\n",
       "    <tr>\n",
       "      <th>No</th>\n",
       "      <td>88442</td>\n",
       "      <td>499749</td>\n",
       "      <td>24212</td>\n",
       "    </tr>\n",
       "    <tr>\n",
       "      <th>Yes</th>\n",
       "      <td>6432</td>\n",
       "      <td>21456</td>\n",
       "      <td>2097</td>\n",
       "    </tr>\n",
       "  </tbody>\n",
       "</table>\n",
       "</div>"
      ],
      "text/plain": [
       "health       Fair    Good   Poor\n",
       "root_other                      \n",
       "No          88442  499749  24212\n",
       "Yes          6432   21456   2097"
      ]
     },
     "execution_count": 33,
     "metadata": {},
     "output_type": "execute_result"
    }
   ],
   "source": [
    "rootother_df"
   ]
  },
  {
   "cell_type": "code",
   "execution_count": 34,
   "id": "6212526d",
   "metadata": {},
   "outputs": [
    {
     "data": {
      "text/plain": [
       "(1951.5727135651098,\n",
       " 0.0,\n",
       " 2,\n",
       " array([[ 90445.52859331, 496876.50705648,  25080.96435021],\n",
       "        [  4428.47140669,  24328.49294352,   1228.03564979]]))"
      ]
     },
     "execution_count": 34,
     "metadata": {},
     "output_type": "execute_result"
    }
   ],
   "source": [
    "rootother_chi = chi2_contingency(rootother_df)\n",
    "rootother_chi"
   ]
  },
  {
   "cell_type": "markdown",
   "id": "2c1b9c14",
   "metadata": {},
   "source": [
    "- The p-value is 0.0, and  below the commonly accepted level of significance of 0.05. \n",
    "- Null hypothesis is rejected (**H₀: there is relationship between presence of other root problems and health of tree**)."
   ]
  },
  {
   "cell_type": "markdown",
   "id": "d7ca87ea",
   "metadata": {},
   "source": [
    "#### 4.7 Trunk problems caused by rope or wires"
   ]
  },
  {
   "cell_type": "code",
   "execution_count": 35,
   "id": "4d2f51a5",
   "metadata": {},
   "outputs": [],
   "source": [
    "trunkrope_df = pd.pivot_table(tree_data, values='tree_id', index=['trunk_wire'],\n",
    "               columns=['health'], aggfunc='count', fill_value=0)"
   ]
  },
  {
   "cell_type": "code",
   "execution_count": 36,
   "id": "36d8b302",
   "metadata": {},
   "outputs": [
    {
     "data": {
      "text/html": [
       "<div>\n",
       "<style scoped>\n",
       "    .dataframe tbody tr th:only-of-type {\n",
       "        vertical-align: middle;\n",
       "    }\n",
       "\n",
       "    .dataframe tbody tr th {\n",
       "        vertical-align: top;\n",
       "    }\n",
       "\n",
       "    .dataframe thead th {\n",
       "        text-align: right;\n",
       "    }\n",
       "</style>\n",
       "<table border=\"1\" class=\"dataframe\">\n",
       "  <thead>\n",
       "    <tr style=\"text-align: right;\">\n",
       "      <th>health</th>\n",
       "      <th>Fair</th>\n",
       "      <th>Good</th>\n",
       "      <th>Poor</th>\n",
       "    </tr>\n",
       "    <tr>\n",
       "      <th>trunk_wire</th>\n",
       "      <th></th>\n",
       "      <th></th>\n",
       "      <th></th>\n",
       "    </tr>\n",
       "  </thead>\n",
       "  <tbody>\n",
       "    <tr>\n",
       "      <th>No</th>\n",
       "      <td>92135</td>\n",
       "      <td>511543</td>\n",
       "      <td>25564</td>\n",
       "    </tr>\n",
       "    <tr>\n",
       "      <th>Yes</th>\n",
       "      <td>2739</td>\n",
       "      <td>9662</td>\n",
       "      <td>745</td>\n",
       "    </tr>\n",
       "  </tbody>\n",
       "</table>\n",
       "</div>"
      ],
      "text/plain": [
       "health       Fair    Good   Poor\n",
       "trunk_wire                      \n",
       "No          92135  511543  25564\n",
       "Yes          2739    9662    745"
      ]
     },
     "execution_count": 36,
     "metadata": {},
     "output_type": "execute_result"
    }
   ],
   "source": [
    "trunkrope_df"
   ]
  },
  {
   "cell_type": "code",
   "execution_count": 37,
   "id": "c6e68e63",
   "metadata": {},
   "outputs": [
    {
     "data": {
      "text/plain": [
       "(511.83785263596087,\n",
       " 7.175009583704032e-112,\n",
       " 2,\n",
       " array([[ 92932.47306612, 510538.92135283,  25770.60558105],\n",
       "        [  1941.52693388,  10666.07864717,    538.39441895]]))"
      ]
     },
     "execution_count": 37,
     "metadata": {},
     "output_type": "execute_result"
    }
   ],
   "source": [
    "trunkwire_chi = chi2_contingency(trunkrope_df)\n",
    "trunkwire_chi"
   ]
  },
  {
   "cell_type": "markdown",
   "id": "9515bd81",
   "metadata": {},
   "source": [
    "- The p-value is  7.2365467766323455e-112, and significantly above the commonly accepted level of significance of 0.05. \n",
    "- Null hypothesis is not rejected (**H₀: there is no relationship between trunk problems caused by rope or wires and health of tree**)."
   ]
  },
  {
   "cell_type": "markdown",
   "id": "a2f7a672",
   "metadata": {},
   "source": [
    "#### 4.8 Trunk problems caused by lights "
   ]
  },
  {
   "cell_type": "code",
   "execution_count": 38,
   "id": "61bec2eb",
   "metadata": {},
   "outputs": [],
   "source": [
    "trunklight_df = pd.pivot_table(tree_data, values='tree_id', index=['trnk_light'],\n",
    "               columns=['health'], aggfunc='count', fill_value=0)"
   ]
  },
  {
   "cell_type": "code",
   "execution_count": 39,
   "id": "29a1a6d6",
   "metadata": {},
   "outputs": [
    {
     "data": {
      "text/html": [
       "<div>\n",
       "<style scoped>\n",
       "    .dataframe tbody tr th:only-of-type {\n",
       "        vertical-align: middle;\n",
       "    }\n",
       "\n",
       "    .dataframe tbody tr th {\n",
       "        vertical-align: top;\n",
       "    }\n",
       "\n",
       "    .dataframe thead th {\n",
       "        text-align: right;\n",
       "    }\n",
       "</style>\n",
       "<table border=\"1\" class=\"dataframe\">\n",
       "  <thead>\n",
       "    <tr style=\"text-align: right;\">\n",
       "      <th>health</th>\n",
       "      <th>Fair</th>\n",
       "      <th>Good</th>\n",
       "      <th>Poor</th>\n",
       "    </tr>\n",
       "    <tr>\n",
       "      <th>trnk_light</th>\n",
       "      <th></th>\n",
       "      <th></th>\n",
       "      <th></th>\n",
       "    </tr>\n",
       "  </thead>\n",
       "  <tbody>\n",
       "    <tr>\n",
       "      <th>No</th>\n",
       "      <td>94659</td>\n",
       "      <td>520458</td>\n",
       "      <td>26248</td>\n",
       "    </tr>\n",
       "    <tr>\n",
       "      <th>Yes</th>\n",
       "      <td>215</td>\n",
       "      <td>747</td>\n",
       "      <td>61</td>\n",
       "    </tr>\n",
       "  </tbody>\n",
       "</table>\n",
       "</div>"
      ],
      "text/plain": [
       "health       Fair    Good   Poor\n",
       "trnk_light                      \n",
       "No          94659  520458  26248\n",
       "Yes           215     747     61"
      ]
     },
     "execution_count": 39,
     "metadata": {},
     "output_type": "execute_result"
    }
   ],
   "source": [
    "trunklight_df"
   ]
  },
  {
   "cell_type": "code",
   "execution_count": 40,
   "id": "2b5573dc",
   "metadata": {},
   "outputs": [
    {
     "data": {
      "text/plain": [
       "(44.12064983940591,\n",
       " 2.6261686848388395e-10,\n",
       " 2,\n",
       " array([[9.47229136e+04, 5.20374983e+05, 2.62671030e+04],\n",
       "        [1.51086418e+02, 8.30016618e+02, 4.18969641e+01]]))"
      ]
     },
     "execution_count": 40,
     "metadata": {},
     "output_type": "execute_result"
    }
   ],
   "source": [
    "trunklight_chi = chi2_contingency(trunklight_df)\n",
    "trunklight_chi"
   ]
  },
  {
   "cell_type": "markdown",
   "id": "17042fbb",
   "metadata": {},
   "source": [
    "- The p-value is 2.6416113724590547e-10, and significantly above the commonly accepted level of significance of 0.05. \n",
    "- Null hypothesis is not rejected (**H₀: there is no relationship between trunk problems caused by lights and health of tree**)."
   ]
  },
  {
   "cell_type": "markdown",
   "id": "e826402b",
   "metadata": {},
   "source": [
    "#### 4.9 Presence of other trunk problems "
   ]
  },
  {
   "cell_type": "code",
   "execution_count": 41,
   "id": "61f442b6",
   "metadata": {},
   "outputs": [],
   "source": [
    "trunkother_df = pd.pivot_table(tree_data, values='tree_id', index=['trnk_other'],\n",
    "               columns=['health'], aggfunc='count', fill_value=0)"
   ]
  },
  {
   "cell_type": "code",
   "execution_count": 42,
   "id": "761b1ce6",
   "metadata": {},
   "outputs": [
    {
     "data": {
      "text/html": [
       "<div>\n",
       "<style scoped>\n",
       "    .dataframe tbody tr th:only-of-type {\n",
       "        vertical-align: middle;\n",
       "    }\n",
       "\n",
       "    .dataframe tbody tr th {\n",
       "        vertical-align: top;\n",
       "    }\n",
       "\n",
       "    .dataframe thead th {\n",
       "        text-align: right;\n",
       "    }\n",
       "</style>\n",
       "<table border=\"1\" class=\"dataframe\">\n",
       "  <thead>\n",
       "    <tr style=\"text-align: right;\">\n",
       "      <th>health</th>\n",
       "      <th>Fair</th>\n",
       "      <th>Good</th>\n",
       "      <th>Poor</th>\n",
       "    </tr>\n",
       "    <tr>\n",
       "      <th>trnk_other</th>\n",
       "      <th></th>\n",
       "      <th></th>\n",
       "      <th></th>\n",
       "    </tr>\n",
       "  </thead>\n",
       "  <tbody>\n",
       "    <tr>\n",
       "      <th>No</th>\n",
       "      <td>85614</td>\n",
       "      <td>502228</td>\n",
       "      <td>22455</td>\n",
       "    </tr>\n",
       "    <tr>\n",
       "      <th>Yes</th>\n",
       "      <td>9260</td>\n",
       "      <td>18977</td>\n",
       "      <td>3854</td>\n",
       "    </tr>\n",
       "  </tbody>\n",
       "</table>\n",
       "</div>"
      ],
      "text/plain": [
       "health       Fair    Good   Poor\n",
       "trnk_other                      \n",
       "No          85614  502228  22455\n",
       "Yes          9260   18977   3854"
      ]
     },
     "execution_count": 42,
     "metadata": {},
     "output_type": "execute_result"
    }
   ],
   "source": [
    "trunkother_df"
   ]
  },
  {
   "cell_type": "code",
   "execution_count": 43,
   "id": "917424e8",
   "metadata": {},
   "outputs": [
    {
     "data": {
      "text/plain": [
       "(11719.192647699883,\n",
       " 0.0,\n",
       " 2,\n",
       " array([[ 90134.49438346, 495167.79249457,  24994.71312198],\n",
       "        [  4739.50561654,  26037.20750543,   1314.28687802]]))"
      ]
     },
     "execution_count": 43,
     "metadata": {},
     "output_type": "execute_result"
    }
   ],
   "source": [
    "trunkother_chi = chi2_contingency(trunkother_df)\n",
    "trunkother_chi"
   ]
  },
  {
   "cell_type": "markdown",
   "id": "f60ddf16",
   "metadata": {},
   "source": [
    "- The p-value is 0.0, and significantly above the commonly accepted level of significance of 0.05. \n",
    "- Null hypothesis is rejected (**H₀: there is relationship between presence of other trunk problems and health of tree**)."
   ]
  },
  {
   "cell_type": "markdown",
   "id": "a93e06a4",
   "metadata": {},
   "source": [
    "#### 4.10 Branch problems caused by lights or wires"
   ]
  },
  {
   "cell_type": "code",
   "execution_count": 44,
   "id": "591d7019",
   "metadata": {},
   "outputs": [],
   "source": [
    "branchwire_df = pd.pivot_table(tree_data, values='tree_id', index=['brch_light'],\n",
    "               columns=['health'], aggfunc='count', fill_value=0)"
   ]
  },
  {
   "cell_type": "code",
   "execution_count": 45,
   "id": "e900a9b5",
   "metadata": {},
   "outputs": [
    {
     "data": {
      "text/html": [
       "<div>\n",
       "<style scoped>\n",
       "    .dataframe tbody tr th:only-of-type {\n",
       "        vertical-align: middle;\n",
       "    }\n",
       "\n",
       "    .dataframe tbody tr th {\n",
       "        vertical-align: top;\n",
       "    }\n",
       "\n",
       "    .dataframe thead th {\n",
       "        text-align: right;\n",
       "    }\n",
       "</style>\n",
       "<table border=\"1\" class=\"dataframe\">\n",
       "  <thead>\n",
       "    <tr style=\"text-align: right;\">\n",
       "      <th>health</th>\n",
       "      <th>Fair</th>\n",
       "      <th>Good</th>\n",
       "      <th>Poor</th>\n",
       "    </tr>\n",
       "    <tr>\n",
       "      <th>brch_light</th>\n",
       "      <th></th>\n",
       "      <th></th>\n",
       "      <th></th>\n",
       "    </tr>\n",
       "  </thead>\n",
       "  <tbody>\n",
       "    <tr>\n",
       "      <th>No</th>\n",
       "      <td>84073</td>\n",
       "      <td>472599</td>\n",
       "      <td>23967</td>\n",
       "    </tr>\n",
       "    <tr>\n",
       "      <th>Yes</th>\n",
       "      <td>10801</td>\n",
       "      <td>48606</td>\n",
       "      <td>2342</td>\n",
       "    </tr>\n",
       "  </tbody>\n",
       "</table>\n",
       "</div>"
      ],
      "text/plain": [
       "health       Fair    Good   Poor\n",
       "brch_light                      \n",
       "No          84073  472599  23967\n",
       "Yes         10801   48606   2342"
      ]
     },
     "execution_count": 45,
     "metadata": {},
     "output_type": "execute_result"
    }
   ],
   "source": [
    "branchwire_df"
   ]
  },
  {
   "cell_type": "code",
   "execution_count": 46,
   "id": "77c540aa",
   "metadata": {},
   "outputs": [
    {
     "data": {
      "text/plain": [
       "(407.53570943611317,\n",
       " 3.1970181856612026e-89,\n",
       " 2,\n",
       " array([[ 85754.31746234, 471104.61278075,  23780.06975691],\n",
       "        [  9119.68253766,  50100.38721925,   2528.93024309]]))"
      ]
     },
     "execution_count": 46,
     "metadata": {},
     "output_type": "execute_result"
    }
   ],
   "source": [
    "branchwire_chi = chi2_contingency(branchwire_df)\n",
    "branchwire_chi"
   ]
  },
  {
   "cell_type": "markdown",
   "id": "37bd7426",
   "metadata": {},
   "source": [
    "- The p-value is 2.842277659959342e-89, and significantly above the commonly accepted level of significance of 0.05. \n",
    "- Null hypothesis is not rejected (**H₀: there is no relationship between presence of branch problems caused by lights  and health of tree**)."
   ]
  },
  {
   "cell_type": "markdown",
   "id": "40ec5f72",
   "metadata": {},
   "source": [
    "#### 4.11 Branch problems caused by shoes"
   ]
  },
  {
   "cell_type": "code",
   "execution_count": 47,
   "id": "becbc469",
   "metadata": {},
   "outputs": [],
   "source": [
    "branchshoe_df = pd.pivot_table(tree_data, values='tree_id', index=['brch_shoe'],\n",
    "               columns=['health'], aggfunc='count', fill_value=0)"
   ]
  },
  {
   "cell_type": "code",
   "execution_count": 48,
   "id": "272cbe3d",
   "metadata": {},
   "outputs": [
    {
     "data": {
      "text/html": [
       "<div>\n",
       "<style scoped>\n",
       "    .dataframe tbody tr th:only-of-type {\n",
       "        vertical-align: middle;\n",
       "    }\n",
       "\n",
       "    .dataframe tbody tr th {\n",
       "        vertical-align: top;\n",
       "    }\n",
       "\n",
       "    .dataframe thead th {\n",
       "        text-align: right;\n",
       "    }\n",
       "</style>\n",
       "<table border=\"1\" class=\"dataframe\">\n",
       "  <thead>\n",
       "    <tr style=\"text-align: right;\">\n",
       "      <th>health</th>\n",
       "      <th>Fair</th>\n",
       "      <th>Good</th>\n",
       "      <th>Poor</th>\n",
       "    </tr>\n",
       "    <tr>\n",
       "      <th>brch_shoe</th>\n",
       "      <th></th>\n",
       "      <th></th>\n",
       "      <th></th>\n",
       "    </tr>\n",
       "  </thead>\n",
       "  <tbody>\n",
       "    <tr>\n",
       "      <th>No</th>\n",
       "      <td>94780</td>\n",
       "      <td>520923</td>\n",
       "      <td>26280</td>\n",
       "    </tr>\n",
       "    <tr>\n",
       "      <th>Yes</th>\n",
       "      <td>94</td>\n",
       "      <td>282</td>\n",
       "      <td>29</td>\n",
       "    </tr>\n",
       "  </tbody>\n",
       "</table>\n",
       "</div>"
      ],
      "text/plain": [
       "health      Fair    Good   Poor\n",
       "brch_shoe                      \n",
       "No         94780  520923  26280\n",
       "Yes           94     282     29"
      ]
     },
     "execution_count": 48,
     "metadata": {},
     "output_type": "execute_result"
    }
   ],
   "source": [
    "branchshoe_df"
   ]
  },
  {
   "cell_type": "code",
   "execution_count": 49,
   "id": "7e33b647",
   "metadata": {},
   "outputs": [
    {
     "data": {
      "text/plain": [
       "(35.458635907975086,\n",
       " 1.996434400966531e-08,\n",
       " 2,\n",
       " array([[9.48141857e+04, 5.20876401e+05, 2.62924132e+04],\n",
       "        [5.98142711e+01, 3.28598954e+02, 1.65867747e+01]]))"
      ]
     },
     "execution_count": 49,
     "metadata": {},
     "output_type": "execute_result"
    }
   ],
   "source": [
    "branchshoe_chi = chi2_contingency(branchshoe_df)\n",
    "branchshoe_chi"
   ]
  },
  {
   "cell_type": "markdown",
   "id": "3b2c4d4d",
   "metadata": {},
   "source": [
    "- The p-value is 4.396268332231969e-09, and significantly above the commonly accepted level of significance of 0.05. \n",
    "- Null hypothesis is not rejected (**H₀: there is no relationship between presence of branch problems caused by shoes  and health of tree**)."
   ]
  },
  {
   "cell_type": "markdown",
   "id": "30f53865",
   "metadata": {},
   "source": [
    "#### 4.12 Presence of other branch problems "
   ]
  },
  {
   "cell_type": "code",
   "execution_count": 50,
   "id": "fa8f3d00",
   "metadata": {},
   "outputs": [],
   "source": [
    "branchother_df = pd.pivot_table(tree_data, values='tree_id', index=['brch_other'],\n",
    "               columns=['health'], aggfunc='count', fill_value=0)"
   ]
  },
  {
   "cell_type": "code",
   "execution_count": 51,
   "id": "84d2bca8",
   "metadata": {},
   "outputs": [
    {
     "data": {
      "text/html": [
       "<div>\n",
       "<style scoped>\n",
       "    .dataframe tbody tr th:only-of-type {\n",
       "        vertical-align: middle;\n",
       "    }\n",
       "\n",
       "    .dataframe tbody tr th {\n",
       "        vertical-align: top;\n",
       "    }\n",
       "\n",
       "    .dataframe thead th {\n",
       "        text-align: right;\n",
       "    }\n",
       "</style>\n",
       "<table border=\"1\" class=\"dataframe\">\n",
       "  <thead>\n",
       "    <tr style=\"text-align: right;\">\n",
       "      <th>health</th>\n",
       "      <th>Fair</th>\n",
       "      <th>Good</th>\n",
       "      <th>Poor</th>\n",
       "    </tr>\n",
       "    <tr>\n",
       "      <th>brch_other</th>\n",
       "      <th></th>\n",
       "      <th></th>\n",
       "      <th></th>\n",
       "    </tr>\n",
       "  </thead>\n",
       "  <tbody>\n",
       "    <tr>\n",
       "      <th>No</th>\n",
       "      <td>87105</td>\n",
       "      <td>508599</td>\n",
       "      <td>22718</td>\n",
       "    </tr>\n",
       "    <tr>\n",
       "      <th>Yes</th>\n",
       "      <td>7769</td>\n",
       "      <td>12606</td>\n",
       "      <td>3591</td>\n",
       "    </tr>\n",
       "  </tbody>\n",
       "</table>\n",
       "</div>"
      ],
      "text/plain": [
       "health       Fair    Good   Poor\n",
       "brch_other                      \n",
       "No          87105  508599  22718\n",
       "Yes          7769   12606   3591"
      ]
     },
     "execution_count": 51,
     "metadata": {},
     "output_type": "execute_result"
    }
   ],
   "source": [
    "branchother_df"
   ]
  },
  {
   "cell_type": "code",
   "execution_count": 52,
   "id": "05a636b5",
   "metadata": {},
   "outputs": [
    {
     "data": {
      "text/plain": [
       "(14954.638291726962,\n",
       " 0.0,\n",
       " 2,\n",
       " array([[ 91334.47204493, 501760.05546492,  25327.47249015],\n",
       "        [  3539.52795507,  19444.94453508,    981.52750985]]))"
      ]
     },
     "execution_count": 52,
     "metadata": {},
     "output_type": "execute_result"
    }
   ],
   "source": [
    "branchother_chi = chi2_contingency(branchother_df)\n",
    "branchother_chi"
   ]
  },
  {
   "cell_type": "markdown",
   "id": "2d5e0d30",
   "metadata": {},
   "source": [
    "- The p-value is 0.0, and below the commonly accepted level of significance of 0.05. \n",
    "- Null hypothesis is rejected (**H₀: there is relationship between presence of other branch problems and health of tree**)."
   ]
  },
  {
   "cell_type": "markdown",
   "id": "5eef83db",
   "metadata": {},
   "source": [
    "### 5. Correlation Matrix "
   ]
  },
  {
   "cell_type": "code",
   "execution_count": 53,
   "id": "84875615",
   "metadata": {},
   "outputs": [
    {
     "data": {
      "text/plain": [
       "Index(['Unnamed: 0', 'tree_id', 'block_id', 'created_at', 'tree_dbh',\n",
       "       'curb_loc', 'status', 'health', 'spc_latin', 'spc_common', 'steward',\n",
       "       'guards', 'sidewalk', 'user_type', 'problems', 'root_stone',\n",
       "       'root_grate', 'root_other', 'trunk_wire', 'trnk_light', 'trnk_other',\n",
       "       'brch_light', 'brch_shoe', 'brch_other', 'borough', 'latitude',\n",
       "       'longitude', 'x_sp', 'y_sp', 'problem_count'],\n",
       "      dtype='object')"
      ]
     },
     "execution_count": 53,
     "metadata": {},
     "output_type": "execute_result"
    }
   ],
   "source": [
    "tree_data.columns"
   ]
  },
  {
   "cell_type": "markdown",
   "id": "7fb589ed",
   "metadata": {},
   "source": [
    "#### 5.1 Unquie Values for all the features "
   ]
  },
  {
   "cell_type": "code",
   "execution_count": 59,
   "id": "b2313baa",
   "metadata": {},
   "outputs": [
    {
     "data": {
      "text/plain": [
       "array(['OnCurb', 'OffsetFromCurb'], dtype=object)"
      ]
     },
     "execution_count": 59,
     "metadata": {},
     "output_type": "execute_result"
    }
   ],
   "source": [
    "tree_data['curb_loc'].unique()"
   ]
  },
  {
   "cell_type": "code",
   "execution_count": 60,
   "id": "18bb9ad4",
   "metadata": {},
   "outputs": [
    {
     "data": {
      "text/plain": [
       "array(['None', '1or2', '3or4', '4orMore'], dtype=object)"
      ]
     },
     "execution_count": 60,
     "metadata": {},
     "output_type": "execute_result"
    }
   ],
   "source": [
    "tree_data['steward'].unique()"
   ]
  },
  {
   "cell_type": "code",
   "execution_count": 61,
   "id": "585bb447",
   "metadata": {},
   "outputs": [
    {
     "data": {
      "text/plain": [
       "array(['None', 'Helpful', 'Harmful', 'Unsure'], dtype=object)"
      ]
     },
     "execution_count": 61,
     "metadata": {},
     "output_type": "execute_result"
    }
   ],
   "source": [
    "tree_data['guards'].unique()"
   ]
  },
  {
   "cell_type": "code",
   "execution_count": 62,
   "id": "6c2daccd",
   "metadata": {},
   "outputs": [
    {
     "data": {
      "text/plain": [
       "array(['NoDamage', 'Damage'], dtype=object)"
      ]
     },
     "execution_count": 62,
     "metadata": {},
     "output_type": "execute_result"
    }
   ],
   "source": [
    "tree_data['sidewalk'].unique()"
   ]
  },
  {
   "cell_type": "code",
   "execution_count": 63,
   "id": "51df820d",
   "metadata": {},
   "outputs": [
    {
     "data": {
      "text/plain": [
       "array(['TreesCount Staff', 'Volunteer', 'NYC Parks Staff'], dtype=object)"
      ]
     },
     "execution_count": 63,
     "metadata": {},
     "output_type": "execute_result"
    }
   ],
   "source": [
    "tree_data['user_type'].unique()"
   ]
  },
  {
   "cell_type": "code",
   "execution_count": 64,
   "id": "98e15d78",
   "metadata": {},
   "outputs": [
    {
     "data": {
      "text/plain": [
       "array(['No', 'Yes'], dtype=object)"
      ]
     },
     "execution_count": 64,
     "metadata": {},
     "output_type": "execute_result"
    }
   ],
   "source": [
    "tree_data['root_stone'].unique()"
   ]
  },
  {
   "cell_type": "code",
   "execution_count": 65,
   "id": "60fba5e6",
   "metadata": {},
   "outputs": [
    {
     "data": {
      "text/plain": [
       "array(['No', 'Yes'], dtype=object)"
      ]
     },
     "execution_count": 65,
     "metadata": {},
     "output_type": "execute_result"
    }
   ],
   "source": [
    "tree_data['root_grate'].unique()"
   ]
  },
  {
   "cell_type": "code",
   "execution_count": 66,
   "id": "38dfd8e1",
   "metadata": {},
   "outputs": [
    {
     "data": {
      "text/plain": [
       "array(['No', 'Yes'], dtype=object)"
      ]
     },
     "execution_count": 66,
     "metadata": {},
     "output_type": "execute_result"
    }
   ],
   "source": [
    "tree_data['root_other'].unique()"
   ]
  },
  {
   "cell_type": "code",
   "execution_count": 67,
   "id": "6af5faf9",
   "metadata": {},
   "outputs": [
    {
     "data": {
      "text/plain": [
       "array(['No', 'Yes'], dtype=object)"
      ]
     },
     "execution_count": 67,
     "metadata": {},
     "output_type": "execute_result"
    }
   ],
   "source": [
    "tree_data['trunk_wire'].unique()"
   ]
  },
  {
   "cell_type": "code",
   "execution_count": 69,
   "id": "244c437e",
   "metadata": {},
   "outputs": [
    {
     "data": {
      "text/plain": [
       "array(['No', 'Yes'], dtype=object)"
      ]
     },
     "execution_count": 69,
     "metadata": {},
     "output_type": "execute_result"
    }
   ],
   "source": [
    "tree_data['trnk_light'].unique()"
   ]
  },
  {
   "cell_type": "code",
   "execution_count": 71,
   "id": "62ab56a8",
   "metadata": {},
   "outputs": [
    {
     "data": {
      "text/plain": [
       "array(['No', 'Yes'], dtype=object)"
      ]
     },
     "execution_count": 71,
     "metadata": {},
     "output_type": "execute_result"
    }
   ],
   "source": [
    "tree_data['trnk_other'].unique()"
   ]
  },
  {
   "cell_type": "code",
   "execution_count": 72,
   "id": "7e59e7d1",
   "metadata": {},
   "outputs": [
    {
     "data": {
      "text/plain": [
       "array(['No', 'Yes'], dtype=object)"
      ]
     },
     "execution_count": 72,
     "metadata": {},
     "output_type": "execute_result"
    }
   ],
   "source": [
    "tree_data['brch_light'].unique()"
   ]
  },
  {
   "cell_type": "code",
   "execution_count": 73,
   "id": "569be5bc",
   "metadata": {},
   "outputs": [
    {
     "data": {
      "text/plain": [
       "array(['No', 'Yes'], dtype=object)"
      ]
     },
     "execution_count": 73,
     "metadata": {},
     "output_type": "execute_result"
    }
   ],
   "source": [
    "tree_data['brch_shoe'].unique()"
   ]
  },
  {
   "cell_type": "code",
   "execution_count": 74,
   "id": "7bc8e3c1",
   "metadata": {},
   "outputs": [
    {
     "data": {
      "text/plain": [
       "array(['No', 'Yes'], dtype=object)"
      ]
     },
     "execution_count": 74,
     "metadata": {},
     "output_type": "execute_result"
    }
   ],
   "source": [
    "tree_data['brch_other'].unique()"
   ]
  },
  {
   "cell_type": "code",
   "execution_count": 75,
   "id": "e1ce9427",
   "metadata": {},
   "outputs": [],
   "source": [
    "encoded_data = pd.get_dummies(tree_data, columns = ['curb_loc','steward',\n",
    "       'guards', 'sidewalk','root_stone',\n",
    "       'root_grate', 'root_other', 'trunk_wire', 'trnk_light', 'trnk_other',\n",
    "       'brch_light', 'brch_shoe', 'brch_other'])"
   ]
  },
  {
   "cell_type": "code",
   "execution_count": 76,
   "id": "ed61d580",
   "metadata": {},
   "outputs": [
    {
     "data": {
      "text/plain": [
       "(642388, 47)"
      ]
     },
     "execution_count": 76,
     "metadata": {},
     "output_type": "execute_result"
    }
   ],
   "source": [
    "encoded_data.shape"
   ]
  },
  {
   "cell_type": "code",
   "execution_count": 77,
   "id": "eb60cece",
   "metadata": {},
   "outputs": [
    {
     "data": {
      "text/plain": [
       "Index(['Unnamed: 0', 'tree_id', 'block_id', 'created_at', 'tree_dbh', 'status',\n",
       "       'health', 'spc_latin', 'spc_common', 'user_type', 'problems', 'borough',\n",
       "       'latitude', 'longitude', 'x_sp', 'y_sp', 'problem_count',\n",
       "       'curb_loc_OffsetFromCurb', 'curb_loc_OnCurb', 'steward_1or2',\n",
       "       'steward_3or4', 'steward_4orMore', 'steward_None', 'guards_Harmful',\n",
       "       'guards_Helpful', 'guards_None', 'guards_Unsure', 'sidewalk_Damage',\n",
       "       'sidewalk_NoDamage', 'root_stone_No', 'root_stone_Yes', 'root_grate_No',\n",
       "       'root_grate_Yes', 'root_other_No', 'root_other_Yes', 'trunk_wire_No',\n",
       "       'trunk_wire_Yes', 'trnk_light_No', 'trnk_light_Yes', 'trnk_other_No',\n",
       "       'trnk_other_Yes', 'brch_light_No', 'brch_light_Yes', 'brch_shoe_No',\n",
       "       'brch_shoe_Yes', 'brch_other_No', 'brch_other_Yes'],\n",
       "      dtype='object')"
      ]
     },
     "execution_count": 77,
     "metadata": {},
     "output_type": "execute_result"
    }
   ],
   "source": [
    "encoded_data.columns"
   ]
  },
  {
   "cell_type": "code",
   "execution_count": 80,
   "id": "ee97705d",
   "metadata": {},
   "outputs": [],
   "source": [
    "encoded_data = encoded_data.drop(['Unnamed: 0'], axis = 1)"
   ]
  },
  {
   "cell_type": "code",
   "execution_count": 85,
   "id": "1a7778ad",
   "metadata": {},
   "outputs": [],
   "source": [
    "# Getting data for correlation Matrix \n",
    "data = encoded_data[['problem_count','health',\n",
    "       'curb_loc_OffsetFromCurb', 'curb_loc_OnCurb', 'steward_1or2',\n",
    "       'steward_3or4', 'steward_4orMore', 'steward_None', 'guards_Harmful',\n",
    "       'guards_Helpful', 'guards_None', 'guards_Unsure', 'sidewalk_Damage',\n",
    "       'sidewalk_NoDamage', 'root_stone_No', 'root_stone_Yes', 'root_grate_No',\n",
    "       'root_grate_Yes', 'root_other_No', 'root_other_Yes', 'trunk_wire_No',\n",
    "       'trunk_wire_Yes', 'trnk_light_No', 'trnk_light_Yes', 'trnk_other_No',\n",
    "       'trnk_other_Yes', 'brch_light_No', 'brch_light_Yes', 'brch_shoe_No',\n",
    "       'brch_shoe_Yes', 'brch_other_No', 'brch_other_Yes']]"
   ]
  },
  {
   "cell_type": "code",
   "execution_count": 86,
   "id": "b5399af0",
   "metadata": {},
   "outputs": [
    {
     "data": {
      "image/png": "[encoded data removed]",
      "text/plain": [
       "<Figure size 1296x1152 with 2 Axes>"
      ]
     },
     "metadata": {
      "needs_background": "light"
     },
     "output_type": "display_data"
    }
   ],
   "source": [
    "# remove target variable, health\n",
    "tree_corr = data.drop(columns='health')\n",
    "\n",
    "plt.figure(figsize=(18, 16))\n",
    "sns.heatmap(tree_corr.corr().round(2), center=0, cmap='YlGnBu', linewidths=.5, annot=True, cbar_kws={'orientation': 'horizontal'})\n",
    "plt.show()"
   ]
  },
  {
   "cell_type": "code",
   "execution_count": null,
   "id": "a7ad1016",
   "metadata": {},
   "outputs": [],
   "source": []
  }
 ],
 "metadata": {
  "kernelspec": {
   "display_name": "Python 3 (ipykernel)",
   "language": "python",
   "name": "python3"
  },
  "language_info": {
   "codemirror_mode": {
    "name": "ipython",
    "version": 3
   },
   "file_extension": ".py",
   "mimetype": "text/x-python",
   "name": "python",
   "nbconvert_exporter": "python",
   "pygments_lexer": "ipython3",
   "version": "3.9.7"
  }
 },
 "nbformat": 4,
 "nbformat_minor": 5
}
